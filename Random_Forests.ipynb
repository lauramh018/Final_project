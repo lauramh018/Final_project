{
 "cells": [
  {
   "cell_type": "code",
   "execution_count": 1,
   "metadata": {},
   "outputs": [],
   "source": [
    "from sklearn.ensemble import RandomForestClassifier\n",
    "import pandas as pd"
   ]
  },
  {
   "cell_type": "code",
   "execution_count": 2,
   "metadata": {},
   "outputs": [],
   "source": [
    "employee = pd.read_excel(\"turnover.xlsx\")"
   ]
  },
  {
   "cell_type": "code",
   "execution_count": 3,
   "metadata": {},
   "outputs": [],
   "source": [
    "# change columns to number in order to analyze the data\n",
    "import numpy as np\n",
    "dum_employee = pd.get_dummies(employee, columns=[\"BusinessTravel\", \"Department\",\"EducationField\",\"Gender\",\"JobRole\",\"MaritalStatus\",\"OverTime\"], prefix=[\"Travel\",\"Depto\",\"EF\",\"G\",\"JR\",\"MS\",\"OT\"])\n",
    "employee = employee.join(dum_employee,lsuffix=\"EMP\")"
   ]
  },
  {
   "cell_type": "code",
   "execution_count": 4,
   "metadata": {},
   "outputs": [],
   "source": [
    "employee = employee.drop([\"BusinessTravel\",\"Department\",\"EducationField\",\"Gender\",\"JobRole\",\"MaritalStatus\",\"OverTime\"], axis = 1)"
   ]
  },
  {
   "cell_type": "code",
   "execution_count": 5,
   "metadata": {},
   "outputs": [],
   "source": [
    "# Y -> outcome\n",
    "target = employee[\"AttritionEMP\"]\n",
    "target_names = [\"Yes\", \"No\"]"
   ]
  },
  {
   "cell_type": "code",
   "execution_count": 6,
   "metadata": {},
   "outputs": [
    {
     "output_type": "execute_result",
     "data": {
      "text/plain": "   AgeEMP  DailyRateEMP  DistanceFromHomeEMP  EducationEMP  EmployeeCountEMP  \\\n0      41          1102                    1             2                 1   \n1      49           279                    8             1                 1   \n2      37          1373                    2             2                 1   \n3      33          1392                    3             4                 1   \n4      27           591                    2             1                 1   \n\n   EmployeeNumberEMP  EnvironmentSatisfactionEMP  HourlyRateEMP  \\\n0                  1                           2             94   \n1                  2                           3             61   \n2                  4                           4             92   \n3                  5                           4             56   \n4                  7                           1             40   \n\n   JobInvolvementEMP  JobLevelEMP  ...  JR_Manufacturing Director  \\\n0                  3            2  ...                          0   \n1                  2            2  ...                          0   \n2                  2            1  ...                          0   \n3                  3            1  ...                          0   \n4                  3            1  ...                          0   \n\n   JR_Research Director  JR_Research Scientist  JR_Sales Executive  \\\n0                     0                      0                   1   \n1                     0                      1                   0   \n2                     0                      0                   0   \n3                     0                      1                   0   \n4                     0                      0                   0   \n\n   JR_Sales Representative  MS_Divorced  MS_Married  MS_Single  OT_No  OT_Yes  \n0                        0            0           0          1      0       1  \n1                        0            0           1          0      1       0  \n2                        0            0           0          1      0       1  \n3                        0            0           1          0      0       1  \n4                        0            0           1          0      1       0  \n\n[5 rows x 81 columns]",
      "text/html": "<div>\n<style scoped>\n    .dataframe tbody tr th:only-of-type {\n        vertical-align: middle;\n    }\n\n    .dataframe tbody tr th {\n        vertical-align: top;\n    }\n\n    .dataframe thead th {\n        text-align: right;\n    }\n</style>\n<table border=\"1\" class=\"dataframe\">\n  <thead>\n    <tr style=\"text-align: right;\">\n      <th></th>\n      <th>AgeEMP</th>\n      <th>DailyRateEMP</th>\n      <th>DistanceFromHomeEMP</th>\n      <th>EducationEMP</th>\n      <th>EmployeeCountEMP</th>\n      <th>EmployeeNumberEMP</th>\n      <th>EnvironmentSatisfactionEMP</th>\n      <th>HourlyRateEMP</th>\n      <th>JobInvolvementEMP</th>\n      <th>JobLevelEMP</th>\n      <th>...</th>\n      <th>JR_Manufacturing Director</th>\n      <th>JR_Research Director</th>\n      <th>JR_Research Scientist</th>\n      <th>JR_Sales Executive</th>\n      <th>JR_Sales Representative</th>\n      <th>MS_Divorced</th>\n      <th>MS_Married</th>\n      <th>MS_Single</th>\n      <th>OT_No</th>\n      <th>OT_Yes</th>\n    </tr>\n  </thead>\n  <tbody>\n    <tr>\n      <td>0</td>\n      <td>41</td>\n      <td>1102</td>\n      <td>1</td>\n      <td>2</td>\n      <td>1</td>\n      <td>1</td>\n      <td>2</td>\n      <td>94</td>\n      <td>3</td>\n      <td>2</td>\n      <td>...</td>\n      <td>0</td>\n      <td>0</td>\n      <td>0</td>\n      <td>1</td>\n      <td>0</td>\n      <td>0</td>\n      <td>0</td>\n      <td>1</td>\n      <td>0</td>\n      <td>1</td>\n    </tr>\n    <tr>\n      <td>1</td>\n      <td>49</td>\n      <td>279</td>\n      <td>8</td>\n      <td>1</td>\n      <td>1</td>\n      <td>2</td>\n      <td>3</td>\n      <td>61</td>\n      <td>2</td>\n      <td>2</td>\n      <td>...</td>\n      <td>0</td>\n      <td>0</td>\n      <td>1</td>\n      <td>0</td>\n      <td>0</td>\n      <td>0</td>\n      <td>1</td>\n      <td>0</td>\n      <td>1</td>\n      <td>0</td>\n    </tr>\n    <tr>\n      <td>2</td>\n      <td>37</td>\n      <td>1373</td>\n      <td>2</td>\n      <td>2</td>\n      <td>1</td>\n      <td>4</td>\n      <td>4</td>\n      <td>92</td>\n      <td>2</td>\n      <td>1</td>\n      <td>...</td>\n      <td>0</td>\n      <td>0</td>\n      <td>0</td>\n      <td>0</td>\n      <td>0</td>\n      <td>0</td>\n      <td>0</td>\n      <td>1</td>\n      <td>0</td>\n      <td>1</td>\n    </tr>\n    <tr>\n      <td>3</td>\n      <td>33</td>\n      <td>1392</td>\n      <td>3</td>\n      <td>4</td>\n      <td>1</td>\n      <td>5</td>\n      <td>4</td>\n      <td>56</td>\n      <td>3</td>\n      <td>1</td>\n      <td>...</td>\n      <td>0</td>\n      <td>0</td>\n      <td>1</td>\n      <td>0</td>\n      <td>0</td>\n      <td>0</td>\n      <td>1</td>\n      <td>0</td>\n      <td>0</td>\n      <td>1</td>\n    </tr>\n    <tr>\n      <td>4</td>\n      <td>27</td>\n      <td>591</td>\n      <td>2</td>\n      <td>1</td>\n      <td>1</td>\n      <td>7</td>\n      <td>1</td>\n      <td>40</td>\n      <td>3</td>\n      <td>1</td>\n      <td>...</td>\n      <td>0</td>\n      <td>0</td>\n      <td>0</td>\n      <td>0</td>\n      <td>0</td>\n      <td>0</td>\n      <td>1</td>\n      <td>0</td>\n      <td>1</td>\n      <td>0</td>\n    </tr>\n  </tbody>\n</table>\n<p>5 rows × 81 columns</p>\n</div>"
     },
     "metadata": {},
     "execution_count": 6
    }
   ],
   "source": [
    "# x -> variables\n",
    "data = employee.drop([\"AttritionEMP\"], axis=1)\n",
    "feature_names = data.columns\n",
    "data.head()"
   ]
  },
  {
   "cell_type": "code",
   "execution_count": 7,
   "metadata": {},
   "outputs": [],
   "source": [
    "# Split the data using train_test_split\n",
    "\n",
    "from sklearn.model_selection import train_test_split\n",
    "\n",
    "\n",
    "X_train, X_test, y_train, y_test = train_test_split(data,target, random_state=10)"
   ]
  },
  {
   "cell_type": "code",
   "execution_count": 8,
   "metadata": {
    "tags": []
   },
   "outputs": [
    {
     "output_type": "stream",
     "name": "stdout",
     "text": "Train score: 1.0\nTest score: 1.0\n"
    }
   ],
   "source": [
    "# Create, fit, and score a Random Forest Classifier\n",
    "\n",
    "from sklearn.ensemble import RandomForestClassifier\n",
    "\n",
    "rf = RandomForestClassifier(n_estimators =100)\n",
    "\n",
    "rf = rf.fit(X_train, y_train)\n",
    "# #Score decision tree\n",
    "print(f\"Train score: {rf.score(X_train,y_train)}\")\n",
    "print(f\"Test score: {rf.score(X_test,y_test)}\")"
   ]
  },
  {
   "cell_type": "code",
   "execution_count": 9,
   "metadata": {},
   "outputs": [
    {
     "output_type": "execute_result",
     "data": {
      "text/plain": "[(0.5536781060808309, 'Attrition'),\n (0.016168263429627457, 'AgeEMP'),\n (0.01588134493078235, 'MonthlyIncomeEMP'),\n (0.01563274843897671, 'MonthlyIncome'),\n (0.015341784052032483, 'OT_Yes'),\n (0.013643571525115108, 'TotalWorkingYearsEMP'),\n (0.01357769584469972, 'TotalWorkingYears'),\n (0.01254109179789171, 'DailyRate'),\n (0.012197068113152324, 'EmployeeNumberEMP'),\n (0.012054692175264363, 'DailyRateEMP'),\n (0.01194558028055029, 'Age'),\n (0.011285338567891412, 'MonthlyRate'),\n (0.011030953173574071, 'HourlyRateEMP'),\n (0.010994704163723421, 'YearsAtCompanyEMP'),\n (0.010133241174233767, 'HourlyRate'),\n (0.009876327386782473, 'EmployeeNumber'),\n (0.009596828498052863, 'OT_No'),\n (0.009470585004479282, 'MonthlyRateEMP'),\n (0.009247972359307863, 'StockOptionLevelEMP'),\n (0.009110828956657442, 'DistanceFromHome'),\n (0.008600455432568939, 'DistanceFromHomeEMP'),\n (0.008430442234595692, 'YearsAtCompany'),\n (0.008323234156869391, 'NumCompaniesWorked'),\n (0.008072560858444884, 'JobLevelEMP'),\n (0.007574107349541084, 'PercentSalaryHikeEMP'),\n (0.007309777870184465, 'PercentSalaryHike'),\n (0.007265944663751198, 'StockOptionLevel'),\n (0.00719393920516415, 'EnvironmentSatisfaction'),\n (0.006575622005513017, 'YearsWithCurrManager'),\n (0.006250700814524034, 'JobSatisfaction'),\n (0.006227659614734136, 'EnvironmentSatisfactionEMP'),\n (0.006202534485860533, 'WorkLifeBalanceEMP'),\n (0.006146787335272254, 'TrainingTimesLastYearEMP'),\n (0.006136538957296722, 'MS_Single'),\n (0.005923960682169275, 'NumCompaniesWorkedEMP'),\n (0.005792450619409587, 'JobInvolvementEMP'),\n (0.005738659551776544, 'YearsSinceLastPromotionEMP'),\n (0.005708681309277314, 'YearsWithCurrManagerEMP'),\n (0.005485243796895631, 'JobSatisfactionEMP'),\n (0.005140603481781989, 'RelationshipSatisfaction'),\n (0.004790553498336796, 'RelationshipSatisfactionEMP'),\n (0.004455053550197961, 'JobInvolvement'),\n (0.00442464542489281, 'WorkLifeBalance'),\n (0.00442287209649755, 'Education'),\n (0.00426832502771465, 'TrainingTimesLastYear'),\n (0.003994206897035003, 'JobLevel'),\n (0.003993188106067534, 'EducationEMP'),\n (0.003934875563861847, 'YearsSinceLastPromotion'),\n (0.0037608447182438153, 'Travel_Travel_Frequently'),\n (0.003645803029965461, 'YearsInCurrentRole'),\n (0.0035317554289462593, 'YearsInCurrentRoleEMP'),\n (0.0033426265730327233, 'EF_Marketing'),\n (0.002915217526302234, 'JR_Laboratory Technician'),\n (0.0026743041176539666, 'MS_Married'),\n (0.0023607082896917146, 'EF_Life Sciences'),\n (0.0023515459674705087, 'Depto_Sales'),\n (0.0022839481800330107, 'Travel_Travel_Rarely'),\n (0.002109095004067982, 'MS_Divorced'),\n (0.0021003203135273917, 'Depto_Research & Development'),\n (0.001763706838276832, 'JR_Sales Executive'),\n (0.0015847054389728757, 'EF_Medical'),\n (0.0015137551423310901, 'EF_Technical Degree'),\n (0.0015050409408786944, 'JR_Research Scientist'),\n (0.0014945867686549446, 'Travel_Non-Travel'),\n (0.001401249970178978, 'JR_Sales Representative'),\n (0.001354469279193211, 'G_Female'),\n (0.0013122995925180046, 'G_Male'),\n (0.0008923544888554179, 'PerformanceRatingEMP'),\n (0.0007534931019582994, 'PerformanceRating'),\n (0.0007413003578683414, 'JR_Human Resources'),\n (0.0007137843408026176, 'EF_Other'),\n (0.0005807011209669179, 'EF_Human Resources'),\n (0.0005344821232446808, 'JR_Manager'),\n (0.00043017219639760097, 'JR_Manufacturing Director'),\n (0.0002893826584452196, 'JR_Healthcare Representative'),\n (0.0002659959476602333, 'Depto_Human Resources'),\n (0.0, 'StandardHoursEMP'),\n (0.0, 'StandardHours'),\n (0.0, 'JR_Research Director'),\n (0.0, 'EmployeeCountEMP'),\n (0.0, 'EmployeeCount')]"
     },
     "metadata": {},
     "execution_count": 9
    }
   ],
   "source": [
    "importances = rf.feature_importances_\n",
    "# sort features by importance\n",
    "\n",
    "sorted (zip(importances,feature_names),reverse = True)"
   ]
  },
  {
   "cell_type": "code",
   "execution_count": null,
   "metadata": {},
   "outputs": [],
   "source": []
  }
 ],
 "metadata": {
  "kernelspec": {
   "display_name": "Python 3",
   "language": "python",
   "name": "python3"
  },
  "language_info": {
   "codemirror_mode": {
    "name": "ipython",
    "version": 3
   },
   "file_extension": ".py",
   "mimetype": "text/x-python",
   "name": "python",
   "nbconvert_exporter": "python",
   "pygments_lexer": "ipython3",
   "version": "3.6.10-final"
  },
  "varInspector": {
   "cols": {
    "lenName": 16,
    "lenType": 16,
    "lenVar": 40
   },
   "kernels_config": {
    "python": {
     "delete_cmd_postfix": "",
     "delete_cmd_prefix": "del ",
     "library": "var_list.py",
     "varRefreshCmd": "print(var_dic_list())"
    },
    "r": {
     "delete_cmd_postfix": ") ",
     "delete_cmd_prefix": "rm(",
     "library": "var_list.r",
     "varRefreshCmd": "cat(var_dic_list()) "
    }
   },
   "types_to_exclude": [
    "module",
    "function",
    "builtin_function_or_method",
    "instance",
    "_Feature"
   ],
   "window_display": false
  }
 },
 "nbformat": 4,
 "nbformat_minor": 2
}