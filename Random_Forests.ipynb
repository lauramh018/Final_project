{
 "cells": [
  {
   "cell_type": "code",
   "execution_count": 1,
   "metadata": {},
   "outputs": [],
   "source": [
    "# Import modules\n",
    "from sklearn.ensemble import RandomForestClassifier\n",
    "import pandas as pd"
   ]
  },
  {
   "cell_type": "code",
   "execution_count": 2,
   "metadata": {},
   "outputs": [
    {
     "output_type": "execute_result",
     "data": {
      "text/plain": "   Age Attrition     BusinessTravel  DailyRate              Department  \\\n0   41       Yes      Travel_Rarely       1102                   Sales   \n1   49        No  Travel_Frequently        279  Research & Development   \n2   37       Yes      Travel_Rarely       1373  Research & Development   \n3   33        No  Travel_Frequently       1392  Research & Development   \n4   27        No      Travel_Rarely        591  Research & Development   \n\n   DistanceFromHome  Education EducationField  EmployeeCount  EmployeeNumber  \\\n0                 1          2  Life Sciences              1               1   \n1                 8          1  Life Sciences              1               2   \n2                 2          2          Other              1               4   \n3                 3          4  Life Sciences              1               5   \n4                 2          1        Medical              1               7   \n\n   ...  RelationshipSatisfaction StandardHours  StockOptionLevel  \\\n0  ...                         1            80                 0   \n1  ...                         4            80                 1   \n2  ...                         2            80                 0   \n3  ...                         3            80                 0   \n4  ...                         4            80                 1   \n\n   TotalWorkingYears  TrainingTimesLastYear WorkLifeBalance  YearsAtCompany  \\\n0                  8                      0               1               6   \n1                 10                      3               3              10   \n2                  7                      3               3               0   \n3                  8                      3               3               8   \n4                  6                      3               3               2   \n\n  YearsInCurrentRole  YearsSinceLastPromotion  YearsWithCurrManager  \n0                  4                        0                     5  \n1                  7                        1                     7  \n2                  0                        0                     0  \n3                  7                        3                     0  \n4                  2                        2                     2  \n\n[5 rows x 35 columns]",
      "text/html": "<div>\n<style scoped>\n    .dataframe tbody tr th:only-of-type {\n        vertical-align: middle;\n    }\n\n    .dataframe tbody tr th {\n        vertical-align: top;\n    }\n\n    .dataframe thead th {\n        text-align: right;\n    }\n</style>\n<table border=\"1\" class=\"dataframe\">\n  <thead>\n    <tr style=\"text-align: right;\">\n      <th></th>\n      <th>Age</th>\n      <th>Attrition</th>\n      <th>BusinessTravel</th>\n      <th>DailyRate</th>\n      <th>Department</th>\n      <th>DistanceFromHome</th>\n      <th>Education</th>\n      <th>EducationField</th>\n      <th>EmployeeCount</th>\n      <th>EmployeeNumber</th>\n      <th>...</th>\n      <th>RelationshipSatisfaction</th>\n      <th>StandardHours</th>\n      <th>StockOptionLevel</th>\n      <th>TotalWorkingYears</th>\n      <th>TrainingTimesLastYear</th>\n      <th>WorkLifeBalance</th>\n      <th>YearsAtCompany</th>\n      <th>YearsInCurrentRole</th>\n      <th>YearsSinceLastPromotion</th>\n      <th>YearsWithCurrManager</th>\n    </tr>\n  </thead>\n  <tbody>\n    <tr>\n      <th>0</th>\n      <td>41</td>\n      <td>Yes</td>\n      <td>Travel_Rarely</td>\n      <td>1102</td>\n      <td>Sales</td>\n      <td>1</td>\n      <td>2</td>\n      <td>Life Sciences</td>\n      <td>1</td>\n      <td>1</td>\n      <td>...</td>\n      <td>1</td>\n      <td>80</td>\n      <td>0</td>\n      <td>8</td>\n      <td>0</td>\n      <td>1</td>\n      <td>6</td>\n      <td>4</td>\n      <td>0</td>\n      <td>5</td>\n    </tr>\n    <tr>\n      <th>1</th>\n      <td>49</td>\n      <td>No</td>\n      <td>Travel_Frequently</td>\n      <td>279</td>\n      <td>Research &amp; Development</td>\n      <td>8</td>\n      <td>1</td>\n      <td>Life Sciences</td>\n      <td>1</td>\n      <td>2</td>\n      <td>...</td>\n      <td>4</td>\n      <td>80</td>\n      <td>1</td>\n      <td>10</td>\n      <td>3</td>\n      <td>3</td>\n      <td>10</td>\n      <td>7</td>\n      <td>1</td>\n      <td>7</td>\n    </tr>\n    <tr>\n      <th>2</th>\n      <td>37</td>\n      <td>Yes</td>\n      <td>Travel_Rarely</td>\n      <td>1373</td>\n      <td>Research &amp; Development</td>\n      <td>2</td>\n      <td>2</td>\n      <td>Other</td>\n      <td>1</td>\n      <td>4</td>\n      <td>...</td>\n      <td>2</td>\n      <td>80</td>\n      <td>0</td>\n      <td>7</td>\n      <td>3</td>\n      <td>3</td>\n      <td>0</td>\n      <td>0</td>\n      <td>0</td>\n      <td>0</td>\n    </tr>\n    <tr>\n      <th>3</th>\n      <td>33</td>\n      <td>No</td>\n      <td>Travel_Frequently</td>\n      <td>1392</td>\n      <td>Research &amp; Development</td>\n      <td>3</td>\n      <td>4</td>\n      <td>Life Sciences</td>\n      <td>1</td>\n      <td>5</td>\n      <td>...</td>\n      <td>3</td>\n      <td>80</td>\n      <td>0</td>\n      <td>8</td>\n      <td>3</td>\n      <td>3</td>\n      <td>8</td>\n      <td>7</td>\n      <td>3</td>\n      <td>0</td>\n    </tr>\n    <tr>\n      <th>4</th>\n      <td>27</td>\n      <td>No</td>\n      <td>Travel_Rarely</td>\n      <td>591</td>\n      <td>Research &amp; Development</td>\n      <td>2</td>\n      <td>1</td>\n      <td>Medical</td>\n      <td>1</td>\n      <td>7</td>\n      <td>...</td>\n      <td>4</td>\n      <td>80</td>\n      <td>1</td>\n      <td>6</td>\n      <td>3</td>\n      <td>3</td>\n      <td>2</td>\n      <td>2</td>\n      <td>2</td>\n      <td>2</td>\n    </tr>\n  </tbody>\n</table>\n<p>5 rows × 35 columns</p>\n</div>"
     },
     "metadata": {},
     "execution_count": 2
    }
   ],
   "source": [
    "# Read csv file and display sample data\n",
    "employee = pd.read_csv('Employee-Attrition.csv')\n",
    "employee.head()"
   ]
  },
  {
   "cell_type": "code",
   "execution_count": 3,
   "metadata": {},
   "outputs": [
    {
     "output_type": "execute_result",
     "data": {
      "text/plain": "   Age  Attrition     BusinessTravel  DailyRate              Department  \\\n0   41          1      Travel_Rarely       1102                   Sales   \n1   49          0  Travel_Frequently        279  Research & Development   \n2   37          1      Travel_Rarely       1373  Research & Development   \n3   33          0  Travel_Frequently       1392  Research & Development   \n4   27          0      Travel_Rarely        591  Research & Development   \n\n   DistanceFromHome  Education EducationField  EmployeeCount  EmployeeNumber  \\\n0                 1          2  Life Sciences              1               1   \n1                 8          1  Life Sciences              1               2   \n2                 2          2          Other              1               4   \n3                 3          4  Life Sciences              1               5   \n4                 2          1        Medical              1               7   \n\n   ...  PerformanceRating  RelationshipSatisfaction  StockOptionLevel  \\\n0  ...                  3                         1                 0   \n1  ...                  4                         4                 1   \n2  ...                  3                         2                 0   \n3  ...                  3                         3                 0   \n4  ...                  3                         4                 1   \n\n   TotalWorkingYears  TrainingTimesLastYear WorkLifeBalance  YearsAtCompany  \\\n0                  8                      0               1               6   \n1                 10                      3               3              10   \n2                  7                      3               3               0   \n3                  8                      3               3               8   \n4                  6                      3               3               2   \n\n  YearsInCurrentRole  YearsSinceLastPromotion  YearsWithCurrManager  \n0                  4                        0                     5  \n1                  7                        1                     7  \n2                  0                        0                     0  \n3                  7                        3                     0  \n4                  2                        2                     2  \n\n[5 rows x 33 columns]",
      "text/html": "<div>\n<style scoped>\n    .dataframe tbody tr th:only-of-type {\n        vertical-align: middle;\n    }\n\n    .dataframe tbody tr th {\n        vertical-align: top;\n    }\n\n    .dataframe thead th {\n        text-align: right;\n    }\n</style>\n<table border=\"1\" class=\"dataframe\">\n  <thead>\n    <tr style=\"text-align: right;\">\n      <th></th>\n      <th>Age</th>\n      <th>Attrition</th>\n      <th>BusinessTravel</th>\n      <th>DailyRate</th>\n      <th>Department</th>\n      <th>DistanceFromHome</th>\n      <th>Education</th>\n      <th>EducationField</th>\n      <th>EmployeeCount</th>\n      <th>EmployeeNumber</th>\n      <th>...</th>\n      <th>PerformanceRating</th>\n      <th>RelationshipSatisfaction</th>\n      <th>StockOptionLevel</th>\n      <th>TotalWorkingYears</th>\n      <th>TrainingTimesLastYear</th>\n      <th>WorkLifeBalance</th>\n      <th>YearsAtCompany</th>\n      <th>YearsInCurrentRole</th>\n      <th>YearsSinceLastPromotion</th>\n      <th>YearsWithCurrManager</th>\n    </tr>\n  </thead>\n  <tbody>\n    <tr>\n      <th>0</th>\n      <td>41</td>\n      <td>1</td>\n      <td>Travel_Rarely</td>\n      <td>1102</td>\n      <td>Sales</td>\n      <td>1</td>\n      <td>2</td>\n      <td>Life Sciences</td>\n      <td>1</td>\n      <td>1</td>\n      <td>...</td>\n      <td>3</td>\n      <td>1</td>\n      <td>0</td>\n      <td>8</td>\n      <td>0</td>\n      <td>1</td>\n      <td>6</td>\n      <td>4</td>\n      <td>0</td>\n      <td>5</td>\n    </tr>\n    <tr>\n      <th>1</th>\n      <td>49</td>\n      <td>0</td>\n      <td>Travel_Frequently</td>\n      <td>279</td>\n      <td>Research &amp; Development</td>\n      <td>8</td>\n      <td>1</td>\n      <td>Life Sciences</td>\n      <td>1</td>\n      <td>2</td>\n      <td>...</td>\n      <td>4</td>\n      <td>4</td>\n      <td>1</td>\n      <td>10</td>\n      <td>3</td>\n      <td>3</td>\n      <td>10</td>\n      <td>7</td>\n      <td>1</td>\n      <td>7</td>\n    </tr>\n    <tr>\n      <th>2</th>\n      <td>37</td>\n      <td>1</td>\n      <td>Travel_Rarely</td>\n      <td>1373</td>\n      <td>Research &amp; Development</td>\n      <td>2</td>\n      <td>2</td>\n      <td>Other</td>\n      <td>1</td>\n      <td>4</td>\n      <td>...</td>\n      <td>3</td>\n      <td>2</td>\n      <td>0</td>\n      <td>7</td>\n      <td>3</td>\n      <td>3</td>\n      <td>0</td>\n      <td>0</td>\n      <td>0</td>\n      <td>0</td>\n    </tr>\n    <tr>\n      <th>3</th>\n      <td>33</td>\n      <td>0</td>\n      <td>Travel_Frequently</td>\n      <td>1392</td>\n      <td>Research &amp; Development</td>\n      <td>3</td>\n      <td>4</td>\n      <td>Life Sciences</td>\n      <td>1</td>\n      <td>5</td>\n      <td>...</td>\n      <td>3</td>\n      <td>3</td>\n      <td>0</td>\n      <td>8</td>\n      <td>3</td>\n      <td>3</td>\n      <td>8</td>\n      <td>7</td>\n      <td>3</td>\n      <td>0</td>\n    </tr>\n    <tr>\n      <th>4</th>\n      <td>27</td>\n      <td>0</td>\n      <td>Travel_Rarely</td>\n      <td>591</td>\n      <td>Research &amp; Development</td>\n      <td>2</td>\n      <td>1</td>\n      <td>Medical</td>\n      <td>1</td>\n      <td>7</td>\n      <td>...</td>\n      <td>3</td>\n      <td>4</td>\n      <td>1</td>\n      <td>6</td>\n      <td>3</td>\n      <td>3</td>\n      <td>2</td>\n      <td>2</td>\n      <td>2</td>\n      <td>2</td>\n    </tr>\n  </tbody>\n</table>\n<p>5 rows × 33 columns</p>\n</div>"
     },
     "metadata": {},
     "execution_count": 3
    }
   ],
   "source": [
    "# Remove uncecessary columns and code binary ones Yes = 1 | No = 0\n",
    "employee[\"Attrition\"] = employee[\"Attrition\"].eq('Yes').mul(1)\n",
    "employee[\"OverTime\"] = employee[\"OverTime\"].eq('Yes').mul(1)\n",
    "employee[\"Gender\"] = employee[\"Gender\"].eq('Female').mul(1)\n",
    "# Remove unwanted columns\n",
    "employee = employee.drop([\"Over18\",\"StandardHours\"], axis = 1)\n",
    "employee.head()"
   ]
  },
  {
   "cell_type": "code",
   "execution_count": 4,
   "metadata": {
    "tags": []
   },
   "outputs": [],
   "source": [
    "# change columns to numbers in order to analyze the data\n",
    "import numpy as np\n",
    "# Select those categorical columns to map themo to dummy values\n",
    "encoder = employee[[\"BusinessTravel\", \"Department\",\"EducationField\",\"JobRole\",\"MaritalStatus\"]]\n",
    "dum_employee = pd.get_dummies(encoder, prefix=\"DUM\")\n",
    "# join with original data\n",
    "employee = employee.join(dum_employee,lsuffix=\"EMP\")\n"
   ]
  },
  {
   "cell_type": "code",
   "execution_count": 5,
   "metadata": {
    "tags": []
   },
   "outputs": [
    {
     "output_type": "stream",
     "name": "stdout",
     "text": "Age  Attrition     BusinessTravel  DailyRate              Department  \\\n0   41          1      Travel_Rarely       1102                   Sales   \n1   49          0  Travel_Frequently        279  Research & Development   \n2   37          1      Travel_Rarely       1373  Research & Development   \n3   33          0  Travel_Frequently       1392  Research & Development   \n4   27          0      Travel_Rarely        591  Research & Development   \n\n   DistanceFromHome  Education EducationField  EmployeeCount  EmployeeNumber  \\\n0                 1          2  Life Sciences              1               1   \n1                 8          1  Life Sciences              1               2   \n2                 2          2          Other              1               4   \n3                 3          4  Life Sciences              1               5   \n4                 2          1        Medical              1               7   \n\n   ...  DUM_Laboratory Technician  DUM_Manager  DUM_Manufacturing Director  \\\n0  ...                          0            0                           0   \n1  ...                          0            0                           0   \n2  ...                          1            0                           0   \n3  ...                          0            0                           0   \n4  ...                          1            0                           0   \n\n   DUM_Research Director  DUM_Research Scientist DUM_Sales Executive  \\\n0                      0                       0                   1   \n1                      0                       1                   0   \n2                      0                       0                   0   \n3                      0                       1                   0   \n4                      0                       0                   0   \n\n   DUM_Sales Representative DUM_Divorced  DUM_Married  DUM_Single  \n0                         0            0            0           1  \n1                         0            0            1           0  \n2                         0            0            0           1  \n3                         0            0            1           0  \n4                         0            0            1           0  \n\n[5 rows x 57 columns]\n   Age  Attrition  DailyRate  DistanceFromHome  Education  EmployeeCount  \\\n0   41          1       1102                 1          2              1   \n1   49          0        279                 8          1              1   \n2   37          1       1373                 2          2              1   \n3   33          0       1392                 3          4              1   \n4   27          0        591                 2          1              1   \n\n   EmployeeNumber  EnvironmentSatisfaction  Gender  HourlyRate  ...  \\\n0               1                        2       1          94  ...   \n1               2                        3       0          61  ...   \n2               4                        4       0          92  ...   \n3               5                        4       1          56  ...   \n4               7                        1       0          40  ...   \n\n   DUM_Laboratory Technician  DUM_Manager  DUM_Manufacturing Director  \\\n0                          0            0                           0   \n1                          0            0                           0   \n2                          1            0                           0   \n3                          0            0                           0   \n4                          1            0                           0   \n\n   DUM_Research Director  DUM_Research Scientist  DUM_Sales Executive  \\\n0                      0                       0                    1   \n1                      0                       1                    0   \n2                      0                       0                    0   \n3                      0                       1                    0   \n4                      0                       0                    0   \n\n   DUM_Sales Representative  DUM_Divorced  DUM_Married  DUM_Single  \n0                         0             0            0           1  \n1                         0             0            1           0  \n2                         0             0            0           1  \n3                         0             0            1           0  \n4                         0             0            1           0  \n\n[5 rows x 52 columns]\nIndex(['Age', 'Attrition', 'DailyRate', 'DistanceFromHome', 'Education',\n       'EmployeeCount', 'EmployeeNumber', 'EnvironmentSatisfaction', 'Gender',\n       'HourlyRate', 'JobInvolvement', 'JobLevel', 'JobSatisfaction',\n       'MonthlyIncome', 'MonthlyRate', 'NumCompaniesWorked', 'OverTime',\n       'PercentSalaryHike', 'PerformanceRating', 'RelationshipSatisfaction',\n       'StockOptionLevel', 'TotalWorkingYears', 'TrainingTimesLastYear',\n       'WorkLifeBalance', 'YearsAtCompany', 'YearsInCurrentRole',\n       'YearsSinceLastPromotion', 'YearsWithCurrManager', 'DUM_Non-Travel',\n       'DUM_Travel_Frequently', 'DUM_Travel_Rarely', 'DUM_Human Resources',\n       'DUM_Research & Development', 'DUM_Sales', 'DUM_Human Resources',\n       'DUM_Life Sciences', 'DUM_Marketing', 'DUM_Medical', 'DUM_Other',\n       'DUM_Technical Degree', 'DUM_Healthcare Representative',\n       'DUM_Human Resources', 'DUM_Laboratory Technician', 'DUM_Manager',\n       'DUM_Manufacturing Director', 'DUM_Research Director',\n       'DUM_Research Scientist', 'DUM_Sales Executive',\n       'DUM_Sales Representative', 'DUM_Divorced', 'DUM_Married',\n       'DUM_Single'],\n      dtype='object')\n"
    }
   ],
   "source": [
    "print(employee.head())\n",
    "# Remove categorical columns. We already have them with dummy values\n",
    "employee = employee.drop([\"BusinessTravel\",\"Department\",\"EducationField\",\"JobRole\",\"MaritalStatus\"], axis = 1)\n",
    "print(employee.head())\n",
    "print(employee.columns)"
   ]
  },
  {
   "cell_type": "code",
   "execution_count": 6,
   "metadata": {},
   "outputs": [],
   "source": [
    "# Y -> outcome\n",
    "target = employee[\"Attrition\"]\n",
    "target_names = [\"Yes\", \"No\"]"
   ]
  },
  {
   "cell_type": "code",
   "execution_count": 7,
   "metadata": {
    "tags": []
   },
   "outputs": [
    {
     "output_type": "stream",
     "name": "stdout",
     "text": "Index(['Age', 'DailyRate', 'DistanceFromHome', 'Education', 'EmployeeCount',\n       'EmployeeNumber', 'EnvironmentSatisfaction', 'Gender', 'HourlyRate',\n       'JobInvolvement', 'JobLevel', 'JobSatisfaction', 'MonthlyIncome',\n       'MonthlyRate', 'NumCompaniesWorked', 'OverTime', 'PercentSalaryHike',\n       'PerformanceRating', 'RelationshipSatisfaction', 'StockOptionLevel',\n       'TotalWorkingYears', 'TrainingTimesLastYear', 'WorkLifeBalance',\n       'YearsAtCompany', 'YearsInCurrentRole', 'YearsSinceLastPromotion',\n       'YearsWithCurrManager', 'DUM_Non-Travel', 'DUM_Travel_Frequently',\n       'DUM_Travel_Rarely', 'DUM_Human Resources',\n       'DUM_Research & Development', 'DUM_Sales', 'DUM_Human Resources',\n       'DUM_Life Sciences', 'DUM_Marketing', 'DUM_Medical', 'DUM_Other',\n       'DUM_Technical Degree', 'DUM_Healthcare Representative',\n       'DUM_Human Resources', 'DUM_Laboratory Technician', 'DUM_Manager',\n       'DUM_Manufacturing Director', 'DUM_Research Director',\n       'DUM_Research Scientist', 'DUM_Sales Executive',\n       'DUM_Sales Representative', 'DUM_Divorced', 'DUM_Married',\n       'DUM_Single'],\n      dtype='object')\n"
    },
    {
     "output_type": "execute_result",
     "data": {
      "text/plain": "   Age  DailyRate  DistanceFromHome  Education  EmployeeCount  EmployeeNumber  \\\n0   41       1102                 1          2              1               1   \n1   49        279                 8          1              1               2   \n2   37       1373                 2          2              1               4   \n3   33       1392                 3          4              1               5   \n4   27        591                 2          1              1               7   \n\n   EnvironmentSatisfaction  Gender  HourlyRate  JobInvolvement  ...  \\\n0                        2       1          94               3  ...   \n1                        3       0          61               2  ...   \n2                        4       0          92               2  ...   \n3                        4       1          56               3  ...   \n4                        1       0          40               3  ...   \n\n   DUM_Laboratory Technician  DUM_Manager  DUM_Manufacturing Director  \\\n0                          0            0                           0   \n1                          0            0                           0   \n2                          1            0                           0   \n3                          0            0                           0   \n4                          1            0                           0   \n\n   DUM_Research Director  DUM_Research Scientist  DUM_Sales Executive  \\\n0                      0                       0                    1   \n1                      0                       1                    0   \n2                      0                       0                    0   \n3                      0                       1                    0   \n4                      0                       0                    0   \n\n   DUM_Sales Representative  DUM_Divorced  DUM_Married  DUM_Single  \n0                         0             0            0           1  \n1                         0             0            1           0  \n2                         0             0            0           1  \n3                         0             0            1           0  \n4                         0             0            1           0  \n\n[5 rows x 51 columns]",
      "text/html": "<div>\n<style scoped>\n    .dataframe tbody tr th:only-of-type {\n        vertical-align: middle;\n    }\n\n    .dataframe tbody tr th {\n        vertical-align: top;\n    }\n\n    .dataframe thead th {\n        text-align: right;\n    }\n</style>\n<table border=\"1\" class=\"dataframe\">\n  <thead>\n    <tr style=\"text-align: right;\">\n      <th></th>\n      <th>Age</th>\n      <th>DailyRate</th>\n      <th>DistanceFromHome</th>\n      <th>Education</th>\n      <th>EmployeeCount</th>\n      <th>EmployeeNumber</th>\n      <th>EnvironmentSatisfaction</th>\n      <th>Gender</th>\n      <th>HourlyRate</th>\n      <th>JobInvolvement</th>\n      <th>...</th>\n      <th>DUM_Laboratory Technician</th>\n      <th>DUM_Manager</th>\n      <th>DUM_Manufacturing Director</th>\n      <th>DUM_Research Director</th>\n      <th>DUM_Research Scientist</th>\n      <th>DUM_Sales Executive</th>\n      <th>DUM_Sales Representative</th>\n      <th>DUM_Divorced</th>\n      <th>DUM_Married</th>\n      <th>DUM_Single</th>\n    </tr>\n  </thead>\n  <tbody>\n    <tr>\n      <th>0</th>\n      <td>41</td>\n      <td>1102</td>\n      <td>1</td>\n      <td>2</td>\n      <td>1</td>\n      <td>1</td>\n      <td>2</td>\n      <td>1</td>\n      <td>94</td>\n      <td>3</td>\n      <td>...</td>\n      <td>0</td>\n      <td>0</td>\n      <td>0</td>\n      <td>0</td>\n      <td>0</td>\n      <td>1</td>\n      <td>0</td>\n      <td>0</td>\n      <td>0</td>\n      <td>1</td>\n    </tr>\n    <tr>\n      <th>1</th>\n      <td>49</td>\n      <td>279</td>\n      <td>8</td>\n      <td>1</td>\n      <td>1</td>\n      <td>2</td>\n      <td>3</td>\n      <td>0</td>\n      <td>61</td>\n      <td>2</td>\n      <td>...</td>\n      <td>0</td>\n      <td>0</td>\n      <td>0</td>\n      <td>0</td>\n      <td>1</td>\n      <td>0</td>\n      <td>0</td>\n      <td>0</td>\n      <td>1</td>\n      <td>0</td>\n    </tr>\n    <tr>\n      <th>2</th>\n      <td>37</td>\n      <td>1373</td>\n      <td>2</td>\n      <td>2</td>\n      <td>1</td>\n      <td>4</td>\n      <td>4</td>\n      <td>0</td>\n      <td>92</td>\n      <td>2</td>\n      <td>...</td>\n      <td>1</td>\n      <td>0</td>\n      <td>0</td>\n      <td>0</td>\n      <td>0</td>\n      <td>0</td>\n      <td>0</td>\n      <td>0</td>\n      <td>0</td>\n      <td>1</td>\n    </tr>\n    <tr>\n      <th>3</th>\n      <td>33</td>\n      <td>1392</td>\n      <td>3</td>\n      <td>4</td>\n      <td>1</td>\n      <td>5</td>\n      <td>4</td>\n      <td>1</td>\n      <td>56</td>\n      <td>3</td>\n      <td>...</td>\n      <td>0</td>\n      <td>0</td>\n      <td>0</td>\n      <td>0</td>\n      <td>1</td>\n      <td>0</td>\n      <td>0</td>\n      <td>0</td>\n      <td>1</td>\n      <td>0</td>\n    </tr>\n    <tr>\n      <th>4</th>\n      <td>27</td>\n      <td>591</td>\n      <td>2</td>\n      <td>1</td>\n      <td>1</td>\n      <td>7</td>\n      <td>1</td>\n      <td>0</td>\n      <td>40</td>\n      <td>3</td>\n      <td>...</td>\n      <td>1</td>\n      <td>0</td>\n      <td>0</td>\n      <td>0</td>\n      <td>0</td>\n      <td>0</td>\n      <td>0</td>\n      <td>0</td>\n      <td>1</td>\n      <td>0</td>\n    </tr>\n  </tbody>\n</table>\n<p>5 rows × 51 columns</p>\n</div>"
     },
     "metadata": {},
     "execution_count": 7
    }
   ],
   "source": [
    "# x -> variables\n",
    "# Get all columns except the one we want to predict\n",
    "data = employee.drop([\"Attrition\"], axis=1)\n",
    "feature_names = data.columns\n",
    "print(feature_names)\n",
    "data.head()"
   ]
  },
  {
   "cell_type": "code",
   "execution_count": 8,
   "metadata": {},
   "outputs": [],
   "source": [
    "# Split the data using train_test_split\n",
    "from sklearn.model_selection import train_test_split\n",
    "# Split data into train and test\n",
    "X_train, X_test, y_train, y_test = train_test_split(data,target, random_state=10)"
   ]
  },
  {
   "cell_type": "code",
   "execution_count": 9,
   "metadata": {
    "tags": []
   },
   "outputs": [
    {
     "output_type": "stream",
     "name": "stdout",
     "text": "================================\nEstimators: 100\nTrain score: 1.0\nTest score: 0.8396739130434783\n================================\nEstimators: 200\nTrain score: 1.0\nTest score: 0.842391304347826\n================================\nEstimators: 300\nTrain score: 1.0\nTest score: 0.8396739130434783\n================================\nEstimators: 400\nTrain score: 1.0\nTest score: 0.8396739130434783\n================================\nEstimators: 500\nTrain score: 1.0\nTest score: 0.8396739130434783\n================================\nEstimators: 600\nTrain score: 1.0\nTest score: 0.8369565217391305\n================================\nEstimators: 700\nTrain score: 1.0\nTest score: 0.8396739130434783\n================================\nEstimators: 800\nTrain score: 1.0\nTest score: 0.8396739130434783\n================================\nEstimators: 900\nTrain score: 1.0\nTest score: 0.8369565217391305\n"
    }
   ],
   "source": [
    "# Create, fit, and score a Random Forest Classifier\n",
    "from sklearn.ensemble import RandomForestClassifier\n",
    "# Generate forest models from 100 to 1,000 each with 100 increase in estimators\n",
    "# i.e. model 1 = 100, model 2 = 200, model 3 = 300, etc\n",
    "for i in range(100,1000,100):\n",
    "    print(\"================================\")\n",
    "    rf = RandomForestClassifier(n_estimators=i)\n",
    "    rf = rf.fit(X_train, y_train)\n",
    "    # print scores for each model\n",
    "    print(f\"Estimators: {i}\")\n",
    "    print(f\"Train score: {rf.score(X_train,y_train)}\")\n",
    "    print(f\"Test score: {rf.score(X_test,y_test)}\")\n",
    "\n"
   ]
  },
  {
   "cell_type": "code",
   "execution_count": 10,
   "metadata": {},
   "outputs": [
    {
     "output_type": "execute_result",
     "data": {
      "text/plain": "[(0.06815175626635145, 'MonthlyIncome'),\n (0.05377991097512753, 'Age'),\n (0.04854710666869295, 'DailyRate'),\n (0.04801178575996509, 'MonthlyRate'),\n (0.04756647362951484, 'EmployeeNumber'),\n (0.04685884320629231, 'OverTime'),\n (0.04617280944529408, 'TotalWorkingYears'),\n (0.04537610810422373, 'HourlyRate'),\n (0.04247772621040197, 'DistanceFromHome'),\n (0.03986306767194321, 'YearsAtCompany'),\n (0.03338787943598456, 'PercentSalaryHike'),\n (0.031111403761068582, 'NumCompaniesWorked'),\n (0.02859157618464612, 'JobSatisfaction'),\n (0.02839209010856265, 'EnvironmentSatisfaction'),\n (0.027429044589073116, 'StockOptionLevel'),\n (0.025981248565689837, 'YearsWithCurrManager'),\n (0.02514250607248738, 'TrainingTimesLastYear'),\n (0.02379179760469061, 'WorkLifeBalance'),\n (0.0233721846683969, 'JobInvolvement'),\n (0.022925766562066872, 'YearsInCurrentRole'),\n (0.022530993070701735, 'RelationshipSatisfaction'),\n (0.02212334407714227, 'YearsSinceLastPromotion'),\n (0.019731311160327995, 'JobLevel'),\n (0.017798798358268267, 'Education'),\n (0.01752773232033375, 'DUM_Single'),\n (0.013382432408318882, 'DUM_Travel_Frequently'),\n (0.010037867643730502, 'DUM_Laboratory Technician'),\n (0.008262891734916582, 'DUM_Travel_Rarely'),\n (0.008164724590724577, 'DUM_Sales'),\n (0.008054619093198398, 'Gender'),\n (0.007844468205857333, 'DUM_Research & Development'),\n (0.007821076154701236, 'DUM_Married'),\n (0.007708686596173403, 'DUM_Sales Executive'),\n (0.007679663943656992, 'DUM_Marketing'),\n (0.007447664635241236, 'DUM_Medical'),\n (0.00712761004903598, 'DUM_Life Sciences'),\n (0.006422237339663192, 'DUM_Technical Degree'),\n (0.006024538197936707, 'DUM_Research Scientist'),\n (0.005986041746449875, 'DUM_Sales Representative'),\n (0.005535658685263238, 'PerformanceRating'),\n (0.005310294729181801, 'DUM_Divorced'),\n (0.003937490503381437, 'DUM_Non-Travel'),\n (0.0033797264873527064, 'DUM_Manufacturing Director'),\n (0.002941167731105607, 'DUM_Other'),\n (0.002670914002031175, 'DUM_Healthcare Representative'),\n (0.001854328701118349, 'DUM_Human Resources'),\n (0.0016587651317270134, 'DUM_Human Resources'),\n (0.0016338679362995789, 'DUM_Human Resources'),\n (0.0016295080918737337, 'DUM_Manager'),\n (0.0008404911838126326, 'DUM_Research Director'),\n (0.0, 'EmployeeCount')]"
     },
     "metadata": {},
     "execution_count": 10
    }
   ],
   "source": [
    "import math\n",
    "importances = rf.feature_importances_\n",
    "# sort features by importance (here, we have results for last model)\n",
    "sorted (zip((importances),feature_names),reverse = True)"
   ]
  },
  {
   "cell_type": "code",
   "execution_count": 11,
   "metadata": {},
   "outputs": [
    {
     "output_type": "execute_result",
     "data": {
      "text/plain": "   Age Attrition     BusinessTravel  DailyRate              Department  \\\n0   41       Yes      Travel_Rarely       1102                   Sales   \n1   49        No  Travel_Frequently        279  Research & Development   \n2   37       Yes      Travel_Rarely       1373  Research & Development   \n3   33        No  Travel_Frequently       1392  Research & Development   \n4   27        No      Travel_Rarely        591  Research & Development   \n\n   DistanceFromHome  Education EducationField  EmployeeCount  EmployeeNumber  \\\n0                 1          2  Life Sciences              1               1   \n1                 8          1  Life Sciences              1               2   \n2                 2          2          Other              1               4   \n3                 3          4  Life Sciences              1               5   \n4                 2          1        Medical              1               7   \n\n   ...  RelationshipSatisfaction StandardHours  StockOptionLevel  \\\n0  ...                         1            80                 0   \n1  ...                         4            80                 1   \n2  ...                         2            80                 0   \n3  ...                         3            80                 0   \n4  ...                         4            80                 1   \n\n   TotalWorkingYears  TrainingTimesLastYear WorkLifeBalance  YearsAtCompany  \\\n0                  8                      0               1               6   \n1                 10                      3               3              10   \n2                  7                      3               3               0   \n3                  8                      3               3               8   \n4                  6                      3               3               2   \n\n  YearsInCurrentRole  YearsSinceLastPromotion  YearsWithCurrManager  \n0                  4                        0                     5  \n1                  7                        1                     7  \n2                  0                        0                     0  \n3                  7                        3                     0  \n4                  2                        2                     2  \n\n[5 rows x 35 columns]",
      "text/html": "<div>\n<style scoped>\n    .dataframe tbody tr th:only-of-type {\n        vertical-align: middle;\n    }\n\n    .dataframe tbody tr th {\n        vertical-align: top;\n    }\n\n    .dataframe thead th {\n        text-align: right;\n    }\n</style>\n<table border=\"1\" class=\"dataframe\">\n  <thead>\n    <tr style=\"text-align: right;\">\n      <th></th>\n      <th>Age</th>\n      <th>Attrition</th>\n      <th>BusinessTravel</th>\n      <th>DailyRate</th>\n      <th>Department</th>\n      <th>DistanceFromHome</th>\n      <th>Education</th>\n      <th>EducationField</th>\n      <th>EmployeeCount</th>\n      <th>EmployeeNumber</th>\n      <th>...</th>\n      <th>RelationshipSatisfaction</th>\n      <th>StandardHours</th>\n      <th>StockOptionLevel</th>\n      <th>TotalWorkingYears</th>\n      <th>TrainingTimesLastYear</th>\n      <th>WorkLifeBalance</th>\n      <th>YearsAtCompany</th>\n      <th>YearsInCurrentRole</th>\n      <th>YearsSinceLastPromotion</th>\n      <th>YearsWithCurrManager</th>\n    </tr>\n  </thead>\n  <tbody>\n    <tr>\n      <th>0</th>\n      <td>41</td>\n      <td>Yes</td>\n      <td>Travel_Rarely</td>\n      <td>1102</td>\n      <td>Sales</td>\n      <td>1</td>\n      <td>2</td>\n      <td>Life Sciences</td>\n      <td>1</td>\n      <td>1</td>\n      <td>...</td>\n      <td>1</td>\n      <td>80</td>\n      <td>0</td>\n      <td>8</td>\n      <td>0</td>\n      <td>1</td>\n      <td>6</td>\n      <td>4</td>\n      <td>0</td>\n      <td>5</td>\n    </tr>\n    <tr>\n      <th>1</th>\n      <td>49</td>\n      <td>No</td>\n      <td>Travel_Frequently</td>\n      <td>279</td>\n      <td>Research &amp; Development</td>\n      <td>8</td>\n      <td>1</td>\n      <td>Life Sciences</td>\n      <td>1</td>\n      <td>2</td>\n      <td>...</td>\n      <td>4</td>\n      <td>80</td>\n      <td>1</td>\n      <td>10</td>\n      <td>3</td>\n      <td>3</td>\n      <td>10</td>\n      <td>7</td>\n      <td>1</td>\n      <td>7</td>\n    </tr>\n    <tr>\n      <th>2</th>\n      <td>37</td>\n      <td>Yes</td>\n      <td>Travel_Rarely</td>\n      <td>1373</td>\n      <td>Research &amp; Development</td>\n      <td>2</td>\n      <td>2</td>\n      <td>Other</td>\n      <td>1</td>\n      <td>4</td>\n      <td>...</td>\n      <td>2</td>\n      <td>80</td>\n      <td>0</td>\n      <td>7</td>\n      <td>3</td>\n      <td>3</td>\n      <td>0</td>\n      <td>0</td>\n      <td>0</td>\n      <td>0</td>\n    </tr>\n    <tr>\n      <th>3</th>\n      <td>33</td>\n      <td>No</td>\n      <td>Travel_Frequently</td>\n      <td>1392</td>\n      <td>Research &amp; Development</td>\n      <td>3</td>\n      <td>4</td>\n      <td>Life Sciences</td>\n      <td>1</td>\n      <td>5</td>\n      <td>...</td>\n      <td>3</td>\n      <td>80</td>\n      <td>0</td>\n      <td>8</td>\n      <td>3</td>\n      <td>3</td>\n      <td>8</td>\n      <td>7</td>\n      <td>3</td>\n      <td>0</td>\n    </tr>\n    <tr>\n      <th>4</th>\n      <td>27</td>\n      <td>No</td>\n      <td>Travel_Rarely</td>\n      <td>591</td>\n      <td>Research &amp; Development</td>\n      <td>2</td>\n      <td>1</td>\n      <td>Medical</td>\n      <td>1</td>\n      <td>7</td>\n      <td>...</td>\n      <td>4</td>\n      <td>80</td>\n      <td>1</td>\n      <td>6</td>\n      <td>3</td>\n      <td>3</td>\n      <td>2</td>\n      <td>2</td>\n      <td>2</td>\n      <td>2</td>\n    </tr>\n  </tbody>\n</table>\n<p>5 rows × 35 columns</p>\n</div>"
     },
     "metadata": {},
     "execution_count": 11
    }
   ],
   "source": [
    "# Number 2 try out\n",
    "features = pd.read_csv('Employee-Attrition.csv')\n",
    "features.head(5)"
   ]
  },
  {
   "cell_type": "code",
   "execution_count": 12,
   "metadata": {
    "tags": []
   },
   "outputs": [
    {
     "output_type": "stream",
     "name": "stdout",
     "text": "The shape of our features is: (1470, 35)\n"
    }
   ],
   "source": [
    "print('The shape of our features is:', features.shape)\n"
   ]
  },
  {
   "cell_type": "code",
   "execution_count": 13,
   "metadata": {},
   "outputs": [
    {
     "output_type": "execute_result",
     "data": {
      "text/plain": "               Age    DailyRate  DistanceFromHome    Education  EmployeeCount  \\\ncount  1470.000000  1470.000000       1470.000000  1470.000000         1470.0   \nmean     36.923810   802.485714          9.192517     2.912925            1.0   \nstd       9.135373   403.509100          8.106864     1.024165            0.0   \nmin      18.000000   102.000000          1.000000     1.000000            1.0   \n25%      30.000000   465.000000          2.000000     2.000000            1.0   \n50%      36.000000   802.000000          7.000000     3.000000            1.0   \n75%      43.000000  1157.000000         14.000000     4.000000            1.0   \nmax      60.000000  1499.000000         29.000000     5.000000            1.0   \n\n       EmployeeNumber  EnvironmentSatisfaction   HourlyRate  JobInvolvement  \\\ncount     1470.000000              1470.000000  1470.000000     1470.000000   \nmean      1024.865306                 2.721769    65.891156        2.729932   \nstd        602.024335                 1.093082    20.329428        0.711561   \nmin          1.000000                 1.000000    30.000000        1.000000   \n25%        491.250000                 2.000000    48.000000        2.000000   \n50%       1020.500000                 3.000000    66.000000        3.000000   \n75%       1555.750000                 4.000000    83.750000        3.000000   \nmax       2068.000000                 4.000000   100.000000        4.000000   \n\n          JobLevel  ...  RelationshipSatisfaction  StandardHours  \\\ncount  1470.000000  ...               1470.000000         1470.0   \nmean      2.063946  ...                  2.712245           80.0   \nstd       1.106940  ...                  1.081209            0.0   \nmin       1.000000  ...                  1.000000           80.0   \n25%       1.000000  ...                  2.000000           80.0   \n50%       2.000000  ...                  3.000000           80.0   \n75%       3.000000  ...                  4.000000           80.0   \nmax       5.000000  ...                  4.000000           80.0   \n\n       StockOptionLevel  TotalWorkingYears  TrainingTimesLastYear  \\\ncount       1470.000000        1470.000000            1470.000000   \nmean           0.793878          11.279592               2.799320   \nstd            0.852077           7.780782               1.289271   \nmin            0.000000           0.000000               0.000000   \n25%            0.000000           6.000000               2.000000   \n50%            1.000000          10.000000               3.000000   \n75%            1.000000          15.000000               3.000000   \nmax            3.000000          40.000000               6.000000   \n\n       WorkLifeBalance  YearsAtCompany  YearsInCurrentRole  \\\ncount      1470.000000     1470.000000         1470.000000   \nmean          2.761224        7.008163            4.229252   \nstd           0.706476        6.126525            3.623137   \nmin           1.000000        0.000000            0.000000   \n25%           2.000000        3.000000            2.000000   \n50%           3.000000        5.000000            3.000000   \n75%           3.000000        9.000000            7.000000   \nmax           4.000000       40.000000           18.000000   \n\n       YearsSinceLastPromotion  YearsWithCurrManager  \ncount              1470.000000           1470.000000  \nmean                  2.187755              4.123129  \nstd                   3.222430              3.568136  \nmin                   0.000000              0.000000  \n25%                   0.000000              2.000000  \n50%                   1.000000              3.000000  \n75%                   3.000000              7.000000  \nmax                  15.000000             17.000000  \n\n[8 rows x 26 columns]",
      "text/html": "<div>\n<style scoped>\n    .dataframe tbody tr th:only-of-type {\n        vertical-align: middle;\n    }\n\n    .dataframe tbody tr th {\n        vertical-align: top;\n    }\n\n    .dataframe thead th {\n        text-align: right;\n    }\n</style>\n<table border=\"1\" class=\"dataframe\">\n  <thead>\n    <tr style=\"text-align: right;\">\n      <th></th>\n      <th>Age</th>\n      <th>DailyRate</th>\n      <th>DistanceFromHome</th>\n      <th>Education</th>\n      <th>EmployeeCount</th>\n      <th>EmployeeNumber</th>\n      <th>EnvironmentSatisfaction</th>\n      <th>HourlyRate</th>\n      <th>JobInvolvement</th>\n      <th>JobLevel</th>\n      <th>...</th>\n      <th>RelationshipSatisfaction</th>\n      <th>StandardHours</th>\n      <th>StockOptionLevel</th>\n      <th>TotalWorkingYears</th>\n      <th>TrainingTimesLastYear</th>\n      <th>WorkLifeBalance</th>\n      <th>YearsAtCompany</th>\n      <th>YearsInCurrentRole</th>\n      <th>YearsSinceLastPromotion</th>\n      <th>YearsWithCurrManager</th>\n    </tr>\n  </thead>\n  <tbody>\n    <tr>\n      <th>count</th>\n      <td>1470.000000</td>\n      <td>1470.000000</td>\n      <td>1470.000000</td>\n      <td>1470.000000</td>\n      <td>1470.0</td>\n      <td>1470.000000</td>\n      <td>1470.000000</td>\n      <td>1470.000000</td>\n      <td>1470.000000</td>\n      <td>1470.000000</td>\n      <td>...</td>\n      <td>1470.000000</td>\n      <td>1470.0</td>\n      <td>1470.000000</td>\n      <td>1470.000000</td>\n      <td>1470.000000</td>\n      <td>1470.000000</td>\n      <td>1470.000000</td>\n      <td>1470.000000</td>\n      <td>1470.000000</td>\n      <td>1470.000000</td>\n    </tr>\n    <tr>\n      <th>mean</th>\n      <td>36.923810</td>\n      <td>802.485714</td>\n      <td>9.192517</td>\n      <td>2.912925</td>\n      <td>1.0</td>\n      <td>1024.865306</td>\n      <td>2.721769</td>\n      <td>65.891156</td>\n      <td>2.729932</td>\n      <td>2.063946</td>\n      <td>...</td>\n      <td>2.712245</td>\n      <td>80.0</td>\n      <td>0.793878</td>\n      <td>11.279592</td>\n      <td>2.799320</td>\n      <td>2.761224</td>\n      <td>7.008163</td>\n      <td>4.229252</td>\n      <td>2.187755</td>\n      <td>4.123129</td>\n    </tr>\n    <tr>\n      <th>std</th>\n      <td>9.135373</td>\n      <td>403.509100</td>\n      <td>8.106864</td>\n      <td>1.024165</td>\n      <td>0.0</td>\n      <td>602.024335</td>\n      <td>1.093082</td>\n      <td>20.329428</td>\n      <td>0.711561</td>\n      <td>1.106940</td>\n      <td>...</td>\n      <td>1.081209</td>\n      <td>0.0</td>\n      <td>0.852077</td>\n      <td>7.780782</td>\n      <td>1.289271</td>\n      <td>0.706476</td>\n      <td>6.126525</td>\n      <td>3.623137</td>\n      <td>3.222430</td>\n      <td>3.568136</td>\n    </tr>\n    <tr>\n      <th>min</th>\n      <td>18.000000</td>\n      <td>102.000000</td>\n      <td>1.000000</td>\n      <td>1.000000</td>\n      <td>1.0</td>\n      <td>1.000000</td>\n      <td>1.000000</td>\n      <td>30.000000</td>\n      <td>1.000000</td>\n      <td>1.000000</td>\n      <td>...</td>\n      <td>1.000000</td>\n      <td>80.0</td>\n      <td>0.000000</td>\n      <td>0.000000</td>\n      <td>0.000000</td>\n      <td>1.000000</td>\n      <td>0.000000</td>\n      <td>0.000000</td>\n      <td>0.000000</td>\n      <td>0.000000</td>\n    </tr>\n    <tr>\n      <th>25%</th>\n      <td>30.000000</td>\n      <td>465.000000</td>\n      <td>2.000000</td>\n      <td>2.000000</td>\n      <td>1.0</td>\n      <td>491.250000</td>\n      <td>2.000000</td>\n      <td>48.000000</td>\n      <td>2.000000</td>\n      <td>1.000000</td>\n      <td>...</td>\n      <td>2.000000</td>\n      <td>80.0</td>\n      <td>0.000000</td>\n      <td>6.000000</td>\n      <td>2.000000</td>\n      <td>2.000000</td>\n      <td>3.000000</td>\n      <td>2.000000</td>\n      <td>0.000000</td>\n      <td>2.000000</td>\n    </tr>\n    <tr>\n      <th>50%</th>\n      <td>36.000000</td>\n      <td>802.000000</td>\n      <td>7.000000</td>\n      <td>3.000000</td>\n      <td>1.0</td>\n      <td>1020.500000</td>\n      <td>3.000000</td>\n      <td>66.000000</td>\n      <td>3.000000</td>\n      <td>2.000000</td>\n      <td>...</td>\n      <td>3.000000</td>\n      <td>80.0</td>\n      <td>1.000000</td>\n      <td>10.000000</td>\n      <td>3.000000</td>\n      <td>3.000000</td>\n      <td>5.000000</td>\n      <td>3.000000</td>\n      <td>1.000000</td>\n      <td>3.000000</td>\n    </tr>\n    <tr>\n      <th>75%</th>\n      <td>43.000000</td>\n      <td>1157.000000</td>\n      <td>14.000000</td>\n      <td>4.000000</td>\n      <td>1.0</td>\n      <td>1555.750000</td>\n      <td>4.000000</td>\n      <td>83.750000</td>\n      <td>3.000000</td>\n      <td>3.000000</td>\n      <td>...</td>\n      <td>4.000000</td>\n      <td>80.0</td>\n      <td>1.000000</td>\n      <td>15.000000</td>\n      <td>3.000000</td>\n      <td>3.000000</td>\n      <td>9.000000</td>\n      <td>7.000000</td>\n      <td>3.000000</td>\n      <td>7.000000</td>\n    </tr>\n    <tr>\n      <th>max</th>\n      <td>60.000000</td>\n      <td>1499.000000</td>\n      <td>29.000000</td>\n      <td>5.000000</td>\n      <td>1.0</td>\n      <td>2068.000000</td>\n      <td>4.000000</td>\n      <td>100.000000</td>\n      <td>4.000000</td>\n      <td>5.000000</td>\n      <td>...</td>\n      <td>4.000000</td>\n      <td>80.0</td>\n      <td>3.000000</td>\n      <td>40.000000</td>\n      <td>6.000000</td>\n      <td>4.000000</td>\n      <td>40.000000</td>\n      <td>18.000000</td>\n      <td>15.000000</td>\n      <td>17.000000</td>\n    </tr>\n  </tbody>\n</table>\n<p>8 rows × 26 columns</p>\n</div>"
     },
     "metadata": {},
     "execution_count": 13
    }
   ],
   "source": [
    "features.describe()"
   ]
  },
  {
   "cell_type": "code",
   "execution_count": 14,
   "metadata": {},
   "outputs": [],
   "source": [
    "# Remove uncecessary columns and code binary ones Yes = 1 | No = 0\n",
    "features[\"Attrition\"] = features[\"Attrition\"].eq('Yes').mul(1)\n",
    "features[\"OverTime\"] = features[\"OverTime\"].eq('Yes').mul(1)\n",
    "features[\"Gender\"] = features[\"Gender\"].eq('Female').mul(1)\n",
    "\n",
    "# Remove columns\n",
    "features = features.drop([\"Over18\",\"StandardHours\",\"EmployeeNumber\",\"EmployeeCount\",\"MaritalStatus\",\"EducationField\",\"Department\",\"RelationshipSatisfaction\",\"JobRole\",\"BusinessTravel\",\"JobLevel\",\"PerformanceRating\",\"Gender\",\"StockOptionLevel\",\"TrainingTimesLastYear\",\"DailyRate\",\"HourlyRate\",\"MonthlyRate\"], axis = 1)\n"
   ]
  },
  {
   "cell_type": "code",
   "execution_count": 15,
   "metadata": {},
   "outputs": [
    {
     "output_type": "execute_result",
     "data": {
      "text/plain": "   JobInvolvement  JobSatisfaction  MonthlyIncome  NumCompaniesWorked  \\\n0               3                4           5993                   8   \n1               2                2           5130                   1   \n2               2                3           2090                   6   \n3               3                3           2909                   1   \n4               3                2           3468                   9   \n\n   OverTime  PercentSalaryHike  TotalWorkingYears  WorkLifeBalance  \\\n0         1                 11                  8                1   \n1         0                 23                 10                3   \n2         1                 15                  7                3   \n3         1                 11                  8                3   \n4         0                 12                  6                3   \n\n   YearsAtCompany  YearsInCurrentRole  YearsSinceLastPromotion  \\\n0               6                   4                        0   \n1              10                   7                        1   \n2               0                   0                        0   \n3               8                   7                        3   \n4               2                   2                        2   \n\n   YearsWithCurrManager  \n0                     5  \n1                     7  \n2                     0  \n3                     0  \n4                     2  ",
      "text/html": "<div>\n<style scoped>\n    .dataframe tbody tr th:only-of-type {\n        vertical-align: middle;\n    }\n\n    .dataframe tbody tr th {\n        vertical-align: top;\n    }\n\n    .dataframe thead th {\n        text-align: right;\n    }\n</style>\n<table border=\"1\" class=\"dataframe\">\n  <thead>\n    <tr style=\"text-align: right;\">\n      <th></th>\n      <th>JobInvolvement</th>\n      <th>JobSatisfaction</th>\n      <th>MonthlyIncome</th>\n      <th>NumCompaniesWorked</th>\n      <th>OverTime</th>\n      <th>PercentSalaryHike</th>\n      <th>TotalWorkingYears</th>\n      <th>WorkLifeBalance</th>\n      <th>YearsAtCompany</th>\n      <th>YearsInCurrentRole</th>\n      <th>YearsSinceLastPromotion</th>\n      <th>YearsWithCurrManager</th>\n    </tr>\n  </thead>\n  <tbody>\n    <tr>\n      <th>0</th>\n      <td>3</td>\n      <td>4</td>\n      <td>5993</td>\n      <td>8</td>\n      <td>1</td>\n      <td>11</td>\n      <td>8</td>\n      <td>1</td>\n      <td>6</td>\n      <td>4</td>\n      <td>0</td>\n      <td>5</td>\n    </tr>\n    <tr>\n      <th>1</th>\n      <td>2</td>\n      <td>2</td>\n      <td>5130</td>\n      <td>1</td>\n      <td>0</td>\n      <td>23</td>\n      <td>10</td>\n      <td>3</td>\n      <td>10</td>\n      <td>7</td>\n      <td>1</td>\n      <td>7</td>\n    </tr>\n    <tr>\n      <th>2</th>\n      <td>2</td>\n      <td>3</td>\n      <td>2090</td>\n      <td>6</td>\n      <td>1</td>\n      <td>15</td>\n      <td>7</td>\n      <td>3</td>\n      <td>0</td>\n      <td>0</td>\n      <td>0</td>\n      <td>0</td>\n    </tr>\n    <tr>\n      <th>3</th>\n      <td>3</td>\n      <td>3</td>\n      <td>2909</td>\n      <td>1</td>\n      <td>1</td>\n      <td>11</td>\n      <td>8</td>\n      <td>3</td>\n      <td>8</td>\n      <td>7</td>\n      <td>3</td>\n      <td>0</td>\n    </tr>\n    <tr>\n      <th>4</th>\n      <td>3</td>\n      <td>2</td>\n      <td>3468</td>\n      <td>9</td>\n      <td>0</td>\n      <td>12</td>\n      <td>6</td>\n      <td>3</td>\n      <td>2</td>\n      <td>2</td>\n      <td>2</td>\n      <td>2</td>\n    </tr>\n  </tbody>\n</table>\n</div>"
     },
     "metadata": {},
     "execution_count": 15
    }
   ],
   "source": [
    "# One-hot encode the data using pandas get_dummies\n",
    "features = pd.get_dummies(features)\n",
    "# Display the first 5 rows of the last 12 columns\n",
    "features.iloc[:,5:].head(5)"
   ]
  },
  {
   "cell_type": "code",
   "execution_count": 16,
   "metadata": {},
   "outputs": [
    {
     "output_type": "execute_result",
     "data": {
      "text/plain": "Index(['Age', 'Attrition', 'DistanceFromHome', 'Education',\n       'EnvironmentSatisfaction', 'JobInvolvement', 'JobSatisfaction',\n       'MonthlyIncome', 'NumCompaniesWorked', 'OverTime', 'PercentSalaryHike',\n       'TotalWorkingYears', 'WorkLifeBalance', 'YearsAtCompany',\n       'YearsInCurrentRole', 'YearsSinceLastPromotion',\n       'YearsWithCurrManager'],\n      dtype='object')"
     },
     "metadata": {},
     "execution_count": 16
    }
   ],
   "source": [
    "features.columns"
   ]
  },
  {
   "cell_type": "code",
   "execution_count": 17,
   "metadata": {},
   "outputs": [],
   "source": [
    "# Use numpy to convert to arrays\n",
    "import numpy as np\n",
    "# Labels are the values we want to predict\n",
    "labels = np.array(features['Attrition'])\n",
    "# Remove the labels from the features\n",
    "# axis 1 refers to the columns\n",
    "features= features.drop('Attrition', axis = 1)\n",
    "# Saving feature names for later use\n",
    "feature_list = list(features.columns)\n",
    "# Convert to numpy array\n",
    "features = np.array(features)"
   ]
  },
  {
   "cell_type": "code",
   "execution_count": 18,
   "metadata": {},
   "outputs": [],
   "source": [
    "# Using Skicit-learn to split data into training and testing sets\n",
    "from sklearn.model_selection import train_test_split\n",
    "# Split the data into training and testing sets\n",
    "train_features, test_features, train_labels, test_labels = train_test_split(features, labels, test_size = 0.80, random_state = 42)"
   ]
  },
  {
   "cell_type": "code",
   "execution_count": 19,
   "metadata": {
    "tags": []
   },
   "outputs": [
    {
     "output_type": "stream",
     "name": "stdout",
     "text": "Training Features Shape: (294, 16)\nTraining Labels Shape: (294,)\nTesting Features Shape: (1176, 16)\nTesting Labels Shape: (1176,)\n"
    }
   ],
   "source": [
    "print('Training Features Shape:', train_features.shape)\n",
    "print('Training Labels Shape:', train_labels.shape)\n",
    "print('Testing Features Shape:', test_features.shape)\n",
    "print('Testing Labels Shape:', test_labels.shape)"
   ]
  },
  {
   "cell_type": "code",
   "execution_count": 20,
   "metadata": {},
   "outputs": [],
   "source": [
    "# Import the model we are using\n",
    "from sklearn.ensemble import RandomForestRegressor\n",
    "# Instantiate model with 1000 decision trees\n",
    "rf = RandomForestRegressor(n_estimators = 1000, random_state = 42)\n",
    "# Train the model on training data\n",
    "rf.fit(train_features, train_labels);"
   ]
  },
  {
   "cell_type": "code",
   "execution_count": 21,
   "metadata": {
    "tags": []
   },
   "outputs": [
    {
     "output_type": "stream",
     "name": "stdout",
     "text": "Mean Absolute Error: 0.24\n"
    }
   ],
   "source": [
    "# Use the forest's predict method on the test data\n",
    "predictions = rf.predict(test_features)\n",
    "# Calculate the absolute errors\n",
    "errors = abs(predictions - test_labels)\n",
    "# Print out the mean absolute error (mae)\n",
    "print('Mean Absolute Error:', round(np.mean(errors), 2))"
   ]
  },
  {
   "cell_type": "code",
   "execution_count": 22,
   "metadata": {
    "tags": []
   },
   "outputs": [
    {
     "output_type": "stream",
     "name": "stdout",
     "text": "Variable: Age                  Importance: 0.15\nVariable: MonthlyIncome        Importance: 0.11\nVariable: OverTime             Importance: 0.11\nVariable: NumCompaniesWorked   Importance: 0.1\nVariable: DistanceFromHome     Importance: 0.09\nVariable: PercentSalaryHike    Importance: 0.07\nVariable: TotalWorkingYears    Importance: 0.06\nVariable: EnvironmentSatisfaction Importance: 0.04\nVariable: YearsAtCompany       Importance: 0.04\nVariable: YearsInCurrentRole   Importance: 0.04\nVariable: YearsWithCurrManager Importance: 0.04\nVariable: Education            Importance: 0.03\nVariable: JobInvolvement       Importance: 0.03\nVariable: JobSatisfaction      Importance: 0.03\nVariable: WorkLifeBalance      Importance: 0.03\nVariable: YearsSinceLastPromotion Importance: 0.03\n"
    }
   ],
   "source": [
    "# Get numerical feature importances\n",
    "importances = list(rf.feature_importances_)\n",
    "# List of tuples with variable and importance\n",
    "feature_importances = [(feature, round(importance, 2)) for feature, importance in zip(feature_list, importances)]\n",
    "# Sort the feature importances by most important first\n",
    "feature_importances = sorted(feature_importances, key = lambda x: x[1], reverse = True)\n",
    "# Print out the feature and importances \n",
    "[print('Variable: {:20} Importance: {}'.format(*pair)) for pair in feature_importances];"
   ]
  },
  {
   "cell_type": "code",
   "execution_count": null,
   "metadata": {},
   "outputs": [],
   "source": []
  },
  {
   "cell_type": "markdown",
   "metadata": {},
   "source": [
    "#Variable: Age                  Importance: 0.11\n",
    "Variable: OverTime             Importance: 0.1\n",
    "Variable: MonthlyIncome        Importance: 0.07\n",
    "Variable: NumCompaniesWorked   Importance: 0.07\n",
    "Variable: DailyRate            Importance: 0.05\n",
    "Variable: DistanceFromHome     Importance: 0.05\n",
    "Variable: HourlyRate           Importance: 0.05\n",
    "Variable: MonthlyRate          Importance: 0.04\n",
    "Variable: TotalWorkingYears    Importance: 0.04\n",
    "Variable: EmployeeNumber       Importance: 0.03\n",
    "Variable: PercentSalaryHike    Importance: 0.03\n",
    "Variable: YearsInCurrentRole   Importance: 0.03\n",
    "Variable: EnvironmentSatisfaction Importance: 0.02\n",
    "Variable: JobSatisfaction      Importance: 0.02\n",
    "Variable: RelationshipSatisfaction Importance: 0.02\n",
    "Variable: StockOptionLevel     Importance: 0.02\n",
    "Variable: TrainingTimesLastYear Importance: 0.02\n",
    "Variable: WorkLifeBalance      Importance: 0.02\n",
    "Variable: YearsAtCompany       Importance: 0.02\n",
    "Variable: YearsSinceLastPromotion Importance: 0.02\n",
    "Variable: YearsWithCurrManager Importance: 0.02\n",
    "Variable: MaritalStatus_Single Importance: 0.02\n",
    "Variable: Education            Importance: 0.01\n",
    "Variable: Gender               Importance: 0.01\n",
    "Variable: JobInvolvement       Importance: 0.01\n",
    "Variable: JobLevel             Importance: 0.01\n",
    "Variable: BusinessTravel_Travel_Frequently Importance: 0.01\n",
    "Variable: Department_Sales     Importance: 0.01\n",
    "Variable: EducationField_Life Sciences Importance: 0.01\n",
    "Variable: EducationField_Marketing Importance: 0.01\n",
    "Variable: EducationField_Medical Importance: 0.01\n",
    "Variable: JobRole_Healthcare Representative Importance: 0.01\n",
    "Variable: JobRole_Sales Representative Importance: 0.01\n",
    "Variable: EmployeeCount        Importance: 0.0\n",
    "Variable: PerformanceRating    Importance: 0.0\n",
    "Variable: StandardHours        Importance: 0.0\n",
    "Variable: BusinessTravel_Non-Travel Importance: 0.0\n",
    "Variable: BusinessTravel_Travel_Rarely Importance: 0.0\n",
    "Variable: Department_Human Resources Importance: 0.0\n",
    "Variable: Department_Research & Development Importance: 0.0\n",
    "Variable: EducationField_Human Resources Importance: 0.0\n",
    "Variable: EducationField_Other Importance: 0.0\n",
    "Variable: EducationField_Technical Degree Importance: 0.0\n",
    "Variable: JobRole_Human Resources Importance: 0.0\n",
    "Variable: JobRole_Laboratory Technician Importance: 0.0\n",
    "Variable: JobRole_Manager      Importance: 0.0\n",
    "Variable: JobRole_Manufacturing Director Importance: 0.0\n",
    "Variable: JobRole_Research Director Importance: 0.0\n",
    "Variable: JobRole_Research Scientist Importance: 0.0\n",
    "Variable: JobRole_Sales Executive Importance: 0.0\n",
    "Variable: MaritalStatus_Divorced Importance: 0.0\n",
    "Variable: MaritalStatus_Married Importance: 0.0\n",
    "Variable: Over18_Y             Importance: 0.0"
   ]
  },
  {
   "cell_type": "markdown",
   "metadata": {},
   "source": [
    "Variable: Age                  Importance: 0.13\n",
    "Variable: OverTime             Importance: 0.1\n",
    "Variable: MonthlyIncome        Importance: 0.08\n",
    "Variable: NumCompaniesWorked   Importance: 0.07\n",
    "Variable: DailyRate            Importance: 0.06\n",
    "Variable: DistanceFromHome     Importance: 0.06\n",
    "Variable: HourlyRate           Importance: 0.06\n",
    "Variable: MonthlyRate          Importance: 0.06\n",
    "Variable: TotalWorkingYears    Importance: 0.05\n",
    "Variable: PercentSalaryHike    Importance: 0.04\n",
    "Variable: EnvironmentSatisfaction Importance: 0.03\n",
    "Variable: StockOptionLevel     Importance: 0.03\n",
    "Variable: TrainingTimesLastYear Importance: 0.03\n",
    "Variable: YearsAtCompany       Importance: 0.03\n",
    "Variable: YearsInCurrentRole   Importance: 0.03\n",
    "Variable: Education            Importance: 0.02\n",
    "Variable: JobInvolvement       Importance: 0.02\n",
    "Variable: JobSatisfaction      Importance: 0.02\n",
    "Variable: WorkLifeBalance      Importance: 0.02\n",
    "Variable: YearsSinceLastPromotion Importance: 0.02\n",
    "Variable: YearsWithCurrManager Importance: 0.02\n",
    "Variable: Gender               Importance: 0.01\n",
    "Variable: JobLevel             Importance: 0.01\n",
    "Variable: PerformanceRating    Importance: 0.0"
   ]
  },
  {
   "cell_type": "markdown",
   "metadata": {},
   "source": [
    "Variable: Age                  Importance: 0.13\n",
    "Variable: OverTime             Importance: 0.1\n",
    "Variable: MonthlyIncome        Importance: 0.08\n",
    "Variable: NumCompaniesWorked   Importance: 0.07\n",
    "Variable: DailyRate            Importance: 0.06\n",
    "Variable: DistanceFromHome     Importance: 0.06\n",
    "Variable: HourlyRate           Importance: 0.06\n",
    "Variable: MonthlyRate          Importance: 0.06\n",
    "Variable: PercentSalaryHike    Importance: 0.05\n",
    "Variable: TotalWorkingYears    Importance: 0.05\n",
    "Variable: EnvironmentSatisfaction Importance: 0.03\n",
    "Variable: StockOptionLevel     Importance: 0.03\n",
    "Variable: TrainingTimesLastYear Importance: 0.03\n",
    "Variable: YearsAtCompany       Importance: 0.03\n",
    "Variable: YearsInCurrentRole   Importance: 0.03\n",
    "Variable: Education            Importance: 0.02\n",
    "Variable: JobInvolvement       Importance: 0.02\n",
    "Variable: JobSatisfaction      Importance: 0.02\n",
    "Variable: WorkLifeBalance      Importance: 0.02\n",
    "Variable: YearsSinceLastPromotion Importance: 0.02\n",
    "Variable: YearsWithCurrManager Importance: 0.02"
   ]
  },
  {
   "cell_type": "markdown",
   "metadata": {},
   "source": [
    "Variable: Age                  Importance: 0.13\n",
    "Variable: OverTime             Importance: 0.11\n",
    "Variable: MonthlyIncome        Importance: 0.09\n",
    "Variable: NumCompaniesWorked   Importance: 0.08\n",
    "Variable: DailyRate            Importance: 0.07\n",
    "Variable: DistanceFromHome     Importance: 0.07\n",
    "Variable: HourlyRate           Importance: 0.07\n",
    "Variable: MonthlyRate          Importance: 0.06\n",
    "Variable: PercentSalaryHike    Importance: 0.05\n",
    "Variable: TotalWorkingYears    Importance: 0.05\n",
    "Variable: EnvironmentSatisfaction Importance: 0.03\n",
    "Variable: YearsAtCompany       Importance: 0.03\n",
    "Variable: YearsInCurrentRole   Importance: 0.03\n",
    "Variable: YearsSinceLastPromotion Importance: 0.03\n",
    "Variable: Education            Importance: 0.02\n",
    "Variable: JobInvolvement       Importance: 0.02\n",
    "Variable: JobSatisfaction      Importance: 0.02\n",
    "Variable: WorkLifeBalance      Importance: 0.02\n",
    "Variable: YearsWithCurrManager Importance: 0.02"
   ]
  }
 ],
 "metadata": {
  "kernelspec": {
   "display_name": "Python 3",
   "language": "python",
   "name": "python3"
  },
  "language_info": {
   "codemirror_mode": {
    "name": "ipython",
    "version": 3
   },
   "file_extension": ".py",
   "mimetype": "text/x-python",
   "name": "python",
   "nbconvert_exporter": "python",
   "pygments_lexer": "ipython3",
   "version": "3.7.6-final"
  },
  "varInspector": {
   "cols": {
    "lenName": 16,
    "lenType": 16,
    "lenVar": 40
   },
   "kernels_config": {
    "python": {
     "delete_cmd_postfix": "",
     "delete_cmd_prefix": "del ",
     "library": "var_list.py",
     "varRefreshCmd": "print(var_dic_list())"
    },
    "r": {
     "delete_cmd_postfix": ") ",
     "delete_cmd_prefix": "rm(",
     "library": "var_list.r",
     "varRefreshCmd": "cat(var_dic_list()) "
    }
   },
   "types_to_exclude": [
    "module",
    "function",
    "builtin_function_or_method",
    "instance",
    "_Feature"
   ],
   "window_display": false
  }
 },
 "nbformat": 4,
 "nbformat_minor": 2
}