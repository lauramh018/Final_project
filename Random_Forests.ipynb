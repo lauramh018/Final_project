{
 "cells": [
  {
   "cell_type": "code",
   "execution_count": 1,
   "metadata": {},
   "outputs": [],
   "source": [
    "# Import modules\n",
    "from sklearn.ensemble import RandomForestClassifier\n",
    "import pandas as pd"
   ]
  },
  {
   "cell_type": "code",
   "execution_count": 2,
   "metadata": {},
   "outputs": [
    {
     "output_type": "execute_result",
     "data": {
      "text/plain": "   Age Attrition     BusinessTravel  DailyRate              Department  \\\n0   41       Yes      Travel_Rarely       1102                   Sales   \n1   49        No  Travel_Frequently        279  Research & Development   \n2   37       Yes      Travel_Rarely       1373  Research & Development   \n3   33        No  Travel_Frequently       1392  Research & Development   \n4   27        No      Travel_Rarely        591  Research & Development   \n\n   DistanceFromHome  Education EducationField  EmployeeCount  EmployeeNumber  \\\n0                 1          2  Life Sciences              1               1   \n1                 8          1  Life Sciences              1               2   \n2                 2          2          Other              1               4   \n3                 3          4  Life Sciences              1               5   \n4                 2          1        Medical              1               7   \n\n   ...  RelationshipSatisfaction StandardHours  StockOptionLevel  \\\n0  ...                         1            80                 0   \n1  ...                         4            80                 1   \n2  ...                         2            80                 0   \n3  ...                         3            80                 0   \n4  ...                         4            80                 1   \n\n   TotalWorkingYears  TrainingTimesLastYear WorkLifeBalance  YearsAtCompany  \\\n0                  8                      0               1               6   \n1                 10                      3               3              10   \n2                  7                      3               3               0   \n3                  8                      3               3               8   \n4                  6                      3               3               2   \n\n  YearsInCurrentRole  YearsSinceLastPromotion  YearsWithCurrManager  \n0                  4                        0                     5  \n1                  7                        1                     7  \n2                  0                        0                     0  \n3                  7                        3                     0  \n4                  2                        2                     2  \n\n[5 rows x 35 columns]",
      "text/html": "<div>\n<style scoped>\n    .dataframe tbody tr th:only-of-type {\n        vertical-align: middle;\n    }\n\n    .dataframe tbody tr th {\n        vertical-align: top;\n    }\n\n    .dataframe thead th {\n        text-align: right;\n    }\n</style>\n<table border=\"1\" class=\"dataframe\">\n  <thead>\n    <tr style=\"text-align: right;\">\n      <th></th>\n      <th>Age</th>\n      <th>Attrition</th>\n      <th>BusinessTravel</th>\n      <th>DailyRate</th>\n      <th>Department</th>\n      <th>DistanceFromHome</th>\n      <th>Education</th>\n      <th>EducationField</th>\n      <th>EmployeeCount</th>\n      <th>EmployeeNumber</th>\n      <th>...</th>\n      <th>RelationshipSatisfaction</th>\n      <th>StandardHours</th>\n      <th>StockOptionLevel</th>\n      <th>TotalWorkingYears</th>\n      <th>TrainingTimesLastYear</th>\n      <th>WorkLifeBalance</th>\n      <th>YearsAtCompany</th>\n      <th>YearsInCurrentRole</th>\n      <th>YearsSinceLastPromotion</th>\n      <th>YearsWithCurrManager</th>\n    </tr>\n  </thead>\n  <tbody>\n    <tr>\n      <th>0</th>\n      <td>41</td>\n      <td>Yes</td>\n      <td>Travel_Rarely</td>\n      <td>1102</td>\n      <td>Sales</td>\n      <td>1</td>\n      <td>2</td>\n      <td>Life Sciences</td>\n      <td>1</td>\n      <td>1</td>\n      <td>...</td>\n      <td>1</td>\n      <td>80</td>\n      <td>0</td>\n      <td>8</td>\n      <td>0</td>\n      <td>1</td>\n      <td>6</td>\n      <td>4</td>\n      <td>0</td>\n      <td>5</td>\n    </tr>\n    <tr>\n      <th>1</th>\n      <td>49</td>\n      <td>No</td>\n      <td>Travel_Frequently</td>\n      <td>279</td>\n      <td>Research &amp; Development</td>\n      <td>8</td>\n      <td>1</td>\n      <td>Life Sciences</td>\n      <td>1</td>\n      <td>2</td>\n      <td>...</td>\n      <td>4</td>\n      <td>80</td>\n      <td>1</td>\n      <td>10</td>\n      <td>3</td>\n      <td>3</td>\n      <td>10</td>\n      <td>7</td>\n      <td>1</td>\n      <td>7</td>\n    </tr>\n    <tr>\n      <th>2</th>\n      <td>37</td>\n      <td>Yes</td>\n      <td>Travel_Rarely</td>\n      <td>1373</td>\n      <td>Research &amp; Development</td>\n      <td>2</td>\n      <td>2</td>\n      <td>Other</td>\n      <td>1</td>\n      <td>4</td>\n      <td>...</td>\n      <td>2</td>\n      <td>80</td>\n      <td>0</td>\n      <td>7</td>\n      <td>3</td>\n      <td>3</td>\n      <td>0</td>\n      <td>0</td>\n      <td>0</td>\n      <td>0</td>\n    </tr>\n    <tr>\n      <th>3</th>\n      <td>33</td>\n      <td>No</td>\n      <td>Travel_Frequently</td>\n      <td>1392</td>\n      <td>Research &amp; Development</td>\n      <td>3</td>\n      <td>4</td>\n      <td>Life Sciences</td>\n      <td>1</td>\n      <td>5</td>\n      <td>...</td>\n      <td>3</td>\n      <td>80</td>\n      <td>0</td>\n      <td>8</td>\n      <td>3</td>\n      <td>3</td>\n      <td>8</td>\n      <td>7</td>\n      <td>3</td>\n      <td>0</td>\n    </tr>\n    <tr>\n      <th>4</th>\n      <td>27</td>\n      <td>No</td>\n      <td>Travel_Rarely</td>\n      <td>591</td>\n      <td>Research &amp; Development</td>\n      <td>2</td>\n      <td>1</td>\n      <td>Medical</td>\n      <td>1</td>\n      <td>7</td>\n      <td>...</td>\n      <td>4</td>\n      <td>80</td>\n      <td>1</td>\n      <td>6</td>\n      <td>3</td>\n      <td>3</td>\n      <td>2</td>\n      <td>2</td>\n      <td>2</td>\n      <td>2</td>\n    </tr>\n  </tbody>\n</table>\n<p>5 rows × 35 columns</p>\n</div>"
     },
     "metadata": {},
     "execution_count": 2
    }
   ],
   "source": [
    "# Read csv file and display sample data\n",
    "employee = pd.read_csv('Employee-Attrition.csv')\n",
    "employee.head()"
   ]
  },
  {
   "cell_type": "code",
   "execution_count": 3,
   "metadata": {},
   "outputs": [
    {
     "output_type": "execute_result",
     "data": {
      "text/plain": "   Age  Attrition     BusinessTravel  DailyRate              Department  \\\n0   41          1      Travel_Rarely       1102                   Sales   \n1   49          0  Travel_Frequently        279  Research & Development   \n2   37          1      Travel_Rarely       1373  Research & Development   \n3   33          0  Travel_Frequently       1392  Research & Development   \n4   27          0      Travel_Rarely        591  Research & Development   \n\n   DistanceFromHome  Education EducationField  EmployeeCount  EmployeeNumber  \\\n0                 1          2  Life Sciences              1               1   \n1                 8          1  Life Sciences              1               2   \n2                 2          2          Other              1               4   \n3                 3          4  Life Sciences              1               5   \n4                 2          1        Medical              1               7   \n\n   ...  PerformanceRating  RelationshipSatisfaction  StockOptionLevel  \\\n0  ...                  3                         1                 0   \n1  ...                  4                         4                 1   \n2  ...                  3                         2                 0   \n3  ...                  3                         3                 0   \n4  ...                  3                         4                 1   \n\n   TotalWorkingYears  TrainingTimesLastYear WorkLifeBalance  YearsAtCompany  \\\n0                  8                      0               1               6   \n1                 10                      3               3              10   \n2                  7                      3               3               0   \n3                  8                      3               3               8   \n4                  6                      3               3               2   \n\n  YearsInCurrentRole  YearsSinceLastPromotion  YearsWithCurrManager  \n0                  4                        0                     5  \n1                  7                        1                     7  \n2                  0                        0                     0  \n3                  7                        3                     0  \n4                  2                        2                     2  \n\n[5 rows x 33 columns]",
      "text/html": "<div>\n<style scoped>\n    .dataframe tbody tr th:only-of-type {\n        vertical-align: middle;\n    }\n\n    .dataframe tbody tr th {\n        vertical-align: top;\n    }\n\n    .dataframe thead th {\n        text-align: right;\n    }\n</style>\n<table border=\"1\" class=\"dataframe\">\n  <thead>\n    <tr style=\"text-align: right;\">\n      <th></th>\n      <th>Age</th>\n      <th>Attrition</th>\n      <th>BusinessTravel</th>\n      <th>DailyRate</th>\n      <th>Department</th>\n      <th>DistanceFromHome</th>\n      <th>Education</th>\n      <th>EducationField</th>\n      <th>EmployeeCount</th>\n      <th>EmployeeNumber</th>\n      <th>...</th>\n      <th>PerformanceRating</th>\n      <th>RelationshipSatisfaction</th>\n      <th>StockOptionLevel</th>\n      <th>TotalWorkingYears</th>\n      <th>TrainingTimesLastYear</th>\n      <th>WorkLifeBalance</th>\n      <th>YearsAtCompany</th>\n      <th>YearsInCurrentRole</th>\n      <th>YearsSinceLastPromotion</th>\n      <th>YearsWithCurrManager</th>\n    </tr>\n  </thead>\n  <tbody>\n    <tr>\n      <th>0</th>\n      <td>41</td>\n      <td>1</td>\n      <td>Travel_Rarely</td>\n      <td>1102</td>\n      <td>Sales</td>\n      <td>1</td>\n      <td>2</td>\n      <td>Life Sciences</td>\n      <td>1</td>\n      <td>1</td>\n      <td>...</td>\n      <td>3</td>\n      <td>1</td>\n      <td>0</td>\n      <td>8</td>\n      <td>0</td>\n      <td>1</td>\n      <td>6</td>\n      <td>4</td>\n      <td>0</td>\n      <td>5</td>\n    </tr>\n    <tr>\n      <th>1</th>\n      <td>49</td>\n      <td>0</td>\n      <td>Travel_Frequently</td>\n      <td>279</td>\n      <td>Research &amp; Development</td>\n      <td>8</td>\n      <td>1</td>\n      <td>Life Sciences</td>\n      <td>1</td>\n      <td>2</td>\n      <td>...</td>\n      <td>4</td>\n      <td>4</td>\n      <td>1</td>\n      <td>10</td>\n      <td>3</td>\n      <td>3</td>\n      <td>10</td>\n      <td>7</td>\n      <td>1</td>\n      <td>7</td>\n    </tr>\n    <tr>\n      <th>2</th>\n      <td>37</td>\n      <td>1</td>\n      <td>Travel_Rarely</td>\n      <td>1373</td>\n      <td>Research &amp; Development</td>\n      <td>2</td>\n      <td>2</td>\n      <td>Other</td>\n      <td>1</td>\n      <td>4</td>\n      <td>...</td>\n      <td>3</td>\n      <td>2</td>\n      <td>0</td>\n      <td>7</td>\n      <td>3</td>\n      <td>3</td>\n      <td>0</td>\n      <td>0</td>\n      <td>0</td>\n      <td>0</td>\n    </tr>\n    <tr>\n      <th>3</th>\n      <td>33</td>\n      <td>0</td>\n      <td>Travel_Frequently</td>\n      <td>1392</td>\n      <td>Research &amp; Development</td>\n      <td>3</td>\n      <td>4</td>\n      <td>Life Sciences</td>\n      <td>1</td>\n      <td>5</td>\n      <td>...</td>\n      <td>3</td>\n      <td>3</td>\n      <td>0</td>\n      <td>8</td>\n      <td>3</td>\n      <td>3</td>\n      <td>8</td>\n      <td>7</td>\n      <td>3</td>\n      <td>0</td>\n    </tr>\n    <tr>\n      <th>4</th>\n      <td>27</td>\n      <td>0</td>\n      <td>Travel_Rarely</td>\n      <td>591</td>\n      <td>Research &amp; Development</td>\n      <td>2</td>\n      <td>1</td>\n      <td>Medical</td>\n      <td>1</td>\n      <td>7</td>\n      <td>...</td>\n      <td>3</td>\n      <td>4</td>\n      <td>1</td>\n      <td>6</td>\n      <td>3</td>\n      <td>3</td>\n      <td>2</td>\n      <td>2</td>\n      <td>2</td>\n      <td>2</td>\n    </tr>\n  </tbody>\n</table>\n<p>5 rows × 33 columns</p>\n</div>"
     },
     "metadata": {},
     "execution_count": 3
    }
   ],
   "source": [
    "# Remove uncecessary columns and code binary ones Yes = 1 | No = 0\n",
    "employee[\"Attrition\"] = employee[\"Attrition\"].eq('Yes').mul(1)\n",
    "employee[\"OverTime\"] = employee[\"OverTime\"].eq('Yes').mul(1)\n",
    "employee[\"Gender\"] = employee[\"Gender\"].eq('Female').mul(1)\n",
    "# Remove unwanted columns\n",
    "employee = employee.drop([\"Over18\",\"StandardHours\"], axis = 1)\n",
    "employee.head()"
   ]
  },
  {
   "cell_type": "code",
   "execution_count": 4,
   "metadata": {
    "tags": []
   },
   "outputs": [],
   "source": [
    "# change columns to numbers in order to analyze the data\n",
    "import numpy as np\n",
    "# Select those categorical columns to map themo to dummy values\n",
    "encoder = employee[[\"BusinessTravel\", \"Department\",\"EducationField\",\"JobRole\",\"MaritalStatus\"]]\n",
    "dum_employee = pd.get_dummies(encoder, prefix=\"DUM\")\n",
    "# join with original data\n",
    "employee = employee.join(dum_employee,lsuffix=\"EMP\")\n"
   ]
  },
  {
   "cell_type": "code",
   "execution_count": 5,
   "metadata": {
    "tags": []
   },
   "outputs": [
    {
     "output_type": "stream",
     "name": "stdout",
     "text": "Age  Attrition     BusinessTravel  DailyRate              Department  \\\n0   41          1      Travel_Rarely       1102                   Sales   \n1   49          0  Travel_Frequently        279  Research & Development   \n2   37          1      Travel_Rarely       1373  Research & Development   \n3   33          0  Travel_Frequently       1392  Research & Development   \n4   27          0      Travel_Rarely        591  Research & Development   \n\n   DistanceFromHome  Education EducationField  EmployeeCount  EmployeeNumber  \\\n0                 1          2  Life Sciences              1               1   \n1                 8          1  Life Sciences              1               2   \n2                 2          2          Other              1               4   \n3                 3          4  Life Sciences              1               5   \n4                 2          1        Medical              1               7   \n\n   ...  DUM_Laboratory Technician  DUM_Manager  DUM_Manufacturing Director  \\\n0  ...                          0            0                           0   \n1  ...                          0            0                           0   \n2  ...                          1            0                           0   \n3  ...                          0            0                           0   \n4  ...                          1            0                           0   \n\n   DUM_Research Director  DUM_Research Scientist DUM_Sales Executive  \\\n0                      0                       0                   1   \n1                      0                       1                   0   \n2                      0                       0                   0   \n3                      0                       1                   0   \n4                      0                       0                   0   \n\n   DUM_Sales Representative DUM_Divorced  DUM_Married  DUM_Single  \n0                         0            0            0           1  \n1                         0            0            1           0  \n2                         0            0            0           1  \n3                         0            0            1           0  \n4                         0            0            1           0  \n\n[5 rows x 57 columns]\n   Age  Attrition  DailyRate  DistanceFromHome  Education  EmployeeCount  \\\n0   41          1       1102                 1          2              1   \n1   49          0        279                 8          1              1   \n2   37          1       1373                 2          2              1   \n3   33          0       1392                 3          4              1   \n4   27          0        591                 2          1              1   \n\n   EmployeeNumber  EnvironmentSatisfaction  Gender  HourlyRate  ...  \\\n0               1                        2       1          94  ...   \n1               2                        3       0          61  ...   \n2               4                        4       0          92  ...   \n3               5                        4       1          56  ...   \n4               7                        1       0          40  ...   \n\n   DUM_Laboratory Technician  DUM_Manager  DUM_Manufacturing Director  \\\n0                          0            0                           0   \n1                          0            0                           0   \n2                          1            0                           0   \n3                          0            0                           0   \n4                          1            0                           0   \n\n   DUM_Research Director  DUM_Research Scientist  DUM_Sales Executive  \\\n0                      0                       0                    1   \n1                      0                       1                    0   \n2                      0                       0                    0   \n3                      0                       1                    0   \n4                      0                       0                    0   \n\n   DUM_Sales Representative  DUM_Divorced  DUM_Married  DUM_Single  \n0                         0             0            0           1  \n1                         0             0            1           0  \n2                         0             0            0           1  \n3                         0             0            1           0  \n4                         0             0            1           0  \n\n[5 rows x 52 columns]\nIndex(['Age', 'Attrition', 'DailyRate', 'DistanceFromHome', 'Education',\n       'EmployeeCount', 'EmployeeNumber', 'EnvironmentSatisfaction', 'Gender',\n       'HourlyRate', 'JobInvolvement', 'JobLevel', 'JobSatisfaction',\n       'MonthlyIncome', 'MonthlyRate', 'NumCompaniesWorked', 'OverTime',\n       'PercentSalaryHike', 'PerformanceRating', 'RelationshipSatisfaction',\n       'StockOptionLevel', 'TotalWorkingYears', 'TrainingTimesLastYear',\n       'WorkLifeBalance', 'YearsAtCompany', 'YearsInCurrentRole',\n       'YearsSinceLastPromotion', 'YearsWithCurrManager', 'DUM_Non-Travel',\n       'DUM_Travel_Frequently', 'DUM_Travel_Rarely', 'DUM_Human Resources',\n       'DUM_Research & Development', 'DUM_Sales', 'DUM_Human Resources',\n       'DUM_Life Sciences', 'DUM_Marketing', 'DUM_Medical', 'DUM_Other',\n       'DUM_Technical Degree', 'DUM_Healthcare Representative',\n       'DUM_Human Resources', 'DUM_Laboratory Technician', 'DUM_Manager',\n       'DUM_Manufacturing Director', 'DUM_Research Director',\n       'DUM_Research Scientist', 'DUM_Sales Executive',\n       'DUM_Sales Representative', 'DUM_Divorced', 'DUM_Married',\n       'DUM_Single'],\n      dtype='object')\n"
    }
   ],
   "source": [
    "print(employee.head())\n",
    "# Remove categorical columns. We already have them with dummy values\n",
    "employee = employee.drop([\"BusinessTravel\",\"Department\",\"EducationField\",\"JobRole\",\"MaritalStatus\"], axis = 1)\n",
    "print(employee.head())\n",
    "print(employee.columns)"
   ]
  },
  {
   "cell_type": "code",
   "execution_count": 6,
   "metadata": {},
   "outputs": [],
   "source": [
    "# Y -> outcome\n",
    "target = employee[\"Attrition\"]\n",
    "target_names = [\"Yes\", \"No\"]"
   ]
  },
  {
   "cell_type": "code",
   "execution_count": 7,
   "metadata": {
    "tags": []
   },
   "outputs": [
    {
     "output_type": "stream",
     "name": "stdout",
     "text": "Index(['Age', 'DailyRate', 'DistanceFromHome', 'Education', 'EmployeeCount',\n       'EmployeeNumber', 'EnvironmentSatisfaction', 'Gender', 'HourlyRate',\n       'JobInvolvement', 'JobLevel', 'JobSatisfaction', 'MonthlyIncome',\n       'MonthlyRate', 'NumCompaniesWorked', 'OverTime', 'PercentSalaryHike',\n       'PerformanceRating', 'RelationshipSatisfaction', 'StockOptionLevel',\n       'TotalWorkingYears', 'TrainingTimesLastYear', 'WorkLifeBalance',\n       'YearsAtCompany', 'YearsInCurrentRole', 'YearsSinceLastPromotion',\n       'YearsWithCurrManager', 'DUM_Non-Travel', 'DUM_Travel_Frequently',\n       'DUM_Travel_Rarely', 'DUM_Human Resources',\n       'DUM_Research & Development', 'DUM_Sales', 'DUM_Human Resources',\n       'DUM_Life Sciences', 'DUM_Marketing', 'DUM_Medical', 'DUM_Other',\n       'DUM_Technical Degree', 'DUM_Healthcare Representative',\n       'DUM_Human Resources', 'DUM_Laboratory Technician', 'DUM_Manager',\n       'DUM_Manufacturing Director', 'DUM_Research Director',\n       'DUM_Research Scientist', 'DUM_Sales Executive',\n       'DUM_Sales Representative', 'DUM_Divorced', 'DUM_Married',\n       'DUM_Single'],\n      dtype='object')\n"
    },
    {
     "output_type": "execute_result",
     "data": {
      "text/plain": "   Age  DailyRate  DistanceFromHome  Education  EmployeeCount  EmployeeNumber  \\\n0   41       1102                 1          2              1               1   \n1   49        279                 8          1              1               2   \n2   37       1373                 2          2              1               4   \n3   33       1392                 3          4              1               5   \n4   27        591                 2          1              1               7   \n\n   EnvironmentSatisfaction  Gender  HourlyRate  JobInvolvement  ...  \\\n0                        2       1          94               3  ...   \n1                        3       0          61               2  ...   \n2                        4       0          92               2  ...   \n3                        4       1          56               3  ...   \n4                        1       0          40               3  ...   \n\n   DUM_Laboratory Technician  DUM_Manager  DUM_Manufacturing Director  \\\n0                          0            0                           0   \n1                          0            0                           0   \n2                          1            0                           0   \n3                          0            0                           0   \n4                          1            0                           0   \n\n   DUM_Research Director  DUM_Research Scientist  DUM_Sales Executive  \\\n0                      0                       0                    1   \n1                      0                       1                    0   \n2                      0                       0                    0   \n3                      0                       1                    0   \n4                      0                       0                    0   \n\n   DUM_Sales Representative  DUM_Divorced  DUM_Married  DUM_Single  \n0                         0             0            0           1  \n1                         0             0            1           0  \n2                         0             0            0           1  \n3                         0             0            1           0  \n4                         0             0            1           0  \n\n[5 rows x 51 columns]",
      "text/html": "<div>\n<style scoped>\n    .dataframe tbody tr th:only-of-type {\n        vertical-align: middle;\n    }\n\n    .dataframe tbody tr th {\n        vertical-align: top;\n    }\n\n    .dataframe thead th {\n        text-align: right;\n    }\n</style>\n<table border=\"1\" class=\"dataframe\">\n  <thead>\n    <tr style=\"text-align: right;\">\n      <th></th>\n      <th>Age</th>\n      <th>DailyRate</th>\n      <th>DistanceFromHome</th>\n      <th>Education</th>\n      <th>EmployeeCount</th>\n      <th>EmployeeNumber</th>\n      <th>EnvironmentSatisfaction</th>\n      <th>Gender</th>\n      <th>HourlyRate</th>\n      <th>JobInvolvement</th>\n      <th>...</th>\n      <th>DUM_Laboratory Technician</th>\n      <th>DUM_Manager</th>\n      <th>DUM_Manufacturing Director</th>\n      <th>DUM_Research Director</th>\n      <th>DUM_Research Scientist</th>\n      <th>DUM_Sales Executive</th>\n      <th>DUM_Sales Representative</th>\n      <th>DUM_Divorced</th>\n      <th>DUM_Married</th>\n      <th>DUM_Single</th>\n    </tr>\n  </thead>\n  <tbody>\n    <tr>\n      <th>0</th>\n      <td>41</td>\n      <td>1102</td>\n      <td>1</td>\n      <td>2</td>\n      <td>1</td>\n      <td>1</td>\n      <td>2</td>\n      <td>1</td>\n      <td>94</td>\n      <td>3</td>\n      <td>...</td>\n      <td>0</td>\n      <td>0</td>\n      <td>0</td>\n      <td>0</td>\n      <td>0</td>\n      <td>1</td>\n      <td>0</td>\n      <td>0</td>\n      <td>0</td>\n      <td>1</td>\n    </tr>\n    <tr>\n      <th>1</th>\n      <td>49</td>\n      <td>279</td>\n      <td>8</td>\n      <td>1</td>\n      <td>1</td>\n      <td>2</td>\n      <td>3</td>\n      <td>0</td>\n      <td>61</td>\n      <td>2</td>\n      <td>...</td>\n      <td>0</td>\n      <td>0</td>\n      <td>0</td>\n      <td>0</td>\n      <td>1</td>\n      <td>0</td>\n      <td>0</td>\n      <td>0</td>\n      <td>1</td>\n      <td>0</td>\n    </tr>\n    <tr>\n      <th>2</th>\n      <td>37</td>\n      <td>1373</td>\n      <td>2</td>\n      <td>2</td>\n      <td>1</td>\n      <td>4</td>\n      <td>4</td>\n      <td>0</td>\n      <td>92</td>\n      <td>2</td>\n      <td>...</td>\n      <td>1</td>\n      <td>0</td>\n      <td>0</td>\n      <td>0</td>\n      <td>0</td>\n      <td>0</td>\n      <td>0</td>\n      <td>0</td>\n      <td>0</td>\n      <td>1</td>\n    </tr>\n    <tr>\n      <th>3</th>\n      <td>33</td>\n      <td>1392</td>\n      <td>3</td>\n      <td>4</td>\n      <td>1</td>\n      <td>5</td>\n      <td>4</td>\n      <td>1</td>\n      <td>56</td>\n      <td>3</td>\n      <td>...</td>\n      <td>0</td>\n      <td>0</td>\n      <td>0</td>\n      <td>0</td>\n      <td>1</td>\n      <td>0</td>\n      <td>0</td>\n      <td>0</td>\n      <td>1</td>\n      <td>0</td>\n    </tr>\n    <tr>\n      <th>4</th>\n      <td>27</td>\n      <td>591</td>\n      <td>2</td>\n      <td>1</td>\n      <td>1</td>\n      <td>7</td>\n      <td>1</td>\n      <td>0</td>\n      <td>40</td>\n      <td>3</td>\n      <td>...</td>\n      <td>1</td>\n      <td>0</td>\n      <td>0</td>\n      <td>0</td>\n      <td>0</td>\n      <td>0</td>\n      <td>0</td>\n      <td>0</td>\n      <td>1</td>\n      <td>0</td>\n    </tr>\n  </tbody>\n</table>\n<p>5 rows × 51 columns</p>\n</div>"
     },
     "metadata": {},
     "execution_count": 7
    }
   ],
   "source": [
    "# x -> variables\n",
    "# Get all columns except the one we want to predict\n",
    "data = employee.drop([\"Attrition\"], axis=1)\n",
    "feature_names = data.columns\n",
    "print(feature_names)\n",
    "data.head()"
   ]
  },
  {
   "cell_type": "code",
   "execution_count": 8,
   "metadata": {},
   "outputs": [],
   "source": [
    "# Split the data using train_test_split\n",
    "from sklearn.model_selection import train_test_split\n",
    "# Split data into train and test\n",
    "X_train, X_test, y_train, y_test = train_test_split(data,target, random_state=10)"
   ]
  },
  {
   "cell_type": "code",
   "execution_count": 39,
   "metadata": {
    "tags": []
   },
   "outputs": [
    {
     "output_type": "stream",
     "name": "stdout",
     "text": "================================\nEstimators: 100\nTrain score: 1.0\nTest score: 0.8369565217391305\n(6.695364077155948, 'MonthlyIncome')\n(5.209064765675301, 'Age')\n(5.0521755932374965, 'EmployeeNumber')\n(4.88203302707683, 'TotalWorkingYears')\n(4.76949834590873, 'MonthlyRate')\n(4.566989790334479, 'DailyRate')\n(4.4580559617666236, 'OverTime')\n(4.430834233101158, 'DistanceFromHome')\n(4.332657587983659, 'HourlyRate')\n(4.019983776340581, 'YearsAtCompany')\n(3.358243613187807, 'PercentSalaryHike')\n(3.3053600683558595, 'NumCompaniesWorked')\n(2.9160435379018077, 'EnvironmentSatisfaction')\n(2.909593023808422, 'JobSatisfaction')\n(2.6706035672928023, 'YearsWithCurrManager')\n(2.633618747279435, 'StockOptionLevel')\n(2.4025687334226875, 'RelationshipSatisfaction')\n(2.3608973331374776, 'WorkLifeBalance')\n(2.3374701905789537, 'TrainingTimesLastYear')\n(2.3051752080081442, 'YearsSinceLastPromotion')\n(2.286658508631765, 'YearsInCurrentRole')\n(2.194951252635534, 'JobLevel')\n(2.1605599267447975, 'JobInvolvement')\n(1.7981451894264509, 'DUM_Single')\n(1.7713736131704516, 'Education')\n(1.328424066132654, 'DUM_Travel_Frequently')\n================================\nEstimators: 200\nTrain score: 1.0\nTest score: 0.8369565217391305\n(6.997400553426061, 'MonthlyIncome')\n(5.673555964064567, 'Age')\n(4.869751358681498, 'EmployeeNumber')\n(4.813795444088918, 'DailyRate')\n(4.680272077436262, 'MonthlyRate')\n(4.660797629029389, 'OverTime')\n(4.529918857880017, 'TotalWorkingYears')\n(4.394173702960877, 'HourlyRate')\n(4.3566898660920765, 'DistanceFromHome')\n(4.132814263801855, 'YearsAtCompany')\n(3.2113037923780743, 'PercentSalaryHike')\n(3.091685107016471, 'NumCompaniesWorked')\n(2.8666351704365667, 'EnvironmentSatisfaction')\n(2.739437610711076, 'JobSatisfaction')\n(2.7137226129539385, 'StockOptionLevel')\n(2.5617932861200248, 'TrainingTimesLastYear')\n(2.47955571405304, 'YearsInCurrentRole')\n(2.47929154328213, 'YearsWithCurrManager')\n(2.4433884007390074, 'WorkLifeBalance')\n(2.197057081319791, 'YearsSinceLastPromotion')\n(2.169179347290701, 'JobLevel')\n(2.16327319651682, 'JobInvolvement')\n(2.0929036124376452, 'RelationshipSatisfaction')\n(1.8636586753736701, 'DUM_Single')\n(1.7474641319514725, 'Education')\n(1.3254208259903655, 'DUM_Travel_Frequently')\n================================\nEstimators: 300\nTrain score: 1.0\nTest score: 0.8396739130434783\n(7.02366495988755, 'MonthlyIncome')\n(5.693661405629475, 'Age')\n(4.836914108348133, 'DailyRate')\n(4.793910117972427, 'EmployeeNumber')\n(4.756614888517621, 'MonthlyRate')\n(4.725628576727233, 'OverTime')\n(4.620971278427357, 'HourlyRate')\n(4.575076084113835, 'TotalWorkingYears')\n(4.1936602274898656, 'DistanceFromHome')\n(3.962290194688349, 'YearsAtCompany')\n(3.538839484322686, 'PercentSalaryHike')\n(2.9533902571521686, 'NumCompaniesWorked')\n(2.785127185240002, 'YearsWithCurrManager')\n(2.779925803357192, 'JobSatisfaction')\n(2.69560212080018, 'EnvironmentSatisfaction')\n(2.6561600173933266, 'StockOptionLevel')\n(2.473868202425434, 'TrainingTimesLastYear')\n(2.3654159852766856, 'WorkLifeBalance')\n(2.3151829026630324, 'JobInvolvement')\n(2.292926679565396, 'YearsSinceLastPromotion')\n(2.1821480545206864, 'YearsInCurrentRole')\n(2.156070971620303, 'RelationshipSatisfaction')\n(1.9860451984886558, 'JobLevel')\n(1.77779833773237, 'Education')\n(1.683258121145449, 'DUM_Single')\n(1.3010752092732674, 'DUM_Travel_Frequently')\n================================\nEstimators: 400\nTrain score: 1.0\nTest score: 0.842391304347826\n(6.6663411227756155, 'MonthlyIncome')\n(5.22961495039926, 'Age')\n(5.090025590782265, 'EmployeeNumber')\n(4.78418006654547, 'DailyRate')\n(4.688656655128775, 'OverTime')\n(4.670473662637194, 'MonthlyRate')\n(4.663276681703139, 'TotalWorkingYears')\n(4.520621606758637, 'HourlyRate')\n(4.320684498898203, 'DistanceFromHome')\n(4.17113574811234, 'YearsAtCompany')\n(3.278559933587911, 'PercentSalaryHike')\n(3.0296543149477695, 'NumCompaniesWorked')\n(2.8530080948023806, 'EnvironmentSatisfaction')\n(2.852339607260393, 'JobSatisfaction')\n(2.839156193873056, 'StockOptionLevel')\n(2.692534711621453, 'YearsWithCurrManager')\n(2.4573671254180813, 'TrainingTimesLastYear')\n(2.4129044101948627, 'YearsInCurrentRole')\n(2.2975915312807333, 'JobInvolvement')\n(2.217244486962485, 'WorkLifeBalance')\n(2.2161322385689863, 'RelationshipSatisfaction')\n(2.1967654070456004, 'YearsSinceLastPromotion')\n(1.9434527392103773, 'JobLevel')\n(1.8198700995306873, 'Education')\n(1.8046765244841632, 'DUM_Single')\n(1.3093844133644443, 'DUM_Travel_Frequently')\n================================\nEstimators: 500\nTrain score: 1.0\nTest score: 0.8396739130434783\n(7.0076611152824775, 'MonthlyIncome')\n(5.402178003490232, 'Age')\n(4.900409560353839, 'DailyRate')\n(4.8849518982788105, 'MonthlyRate')\n(4.768288807195732, 'EmployeeNumber')\n(4.626148498841999, 'TotalWorkingYears')\n(4.444843587812771, 'OverTime')\n(4.310765975534774, 'HourlyRate')\n(4.265492485229739, 'DistanceFromHome')\n(4.057443428297882, 'YearsAtCompany')\n(3.353657140360626, 'PercentSalaryHike')\n(3.0596098298849705, 'NumCompaniesWorked')\n(2.927959765075596, 'StockOptionLevel')\n(2.882784791241055, 'JobSatisfaction')\n(2.7640022195795653, 'EnvironmentSatisfaction')\n(2.668817131102286, 'YearsWithCurrManager')\n(2.470403270049764, 'TrainingTimesLastYear')\n(2.3974147728929425, 'YearsInCurrentRole')\n(2.3589622219970483, 'JobInvolvement')\n(2.311904517086769, 'RelationshipSatisfaction')\n(2.282359140958349, 'WorkLifeBalance')\n(2.274219517964199, 'YearsSinceLastPromotion')\n(1.9603288552239786, 'JobLevel')\n(1.8055447030606278, 'Education')\n(1.7720737631233365, 'DUM_Single')\n(1.299859210807084, 'DUM_Travel_Frequently')\n================================\nEstimators: 600\nTrain score: 1.0\nTest score: 0.8396739130434783\n(7.141151297885276, 'MonthlyIncome')\n(5.530121655875538, 'Age')\n(4.985129153423986, 'DailyRate')\n(4.889237355019673, 'EmployeeNumber')\n(4.771010949492425, 'MonthlyRate')\n(4.676457208245944, 'TotalWorkingYears')\n(4.53008114777755, 'OverTime')\n(4.33570745461034, 'HourlyRate')\n(4.309126711166048, 'DistanceFromHome')\n(3.957211717658081, 'YearsAtCompany')\n(3.292402581432801, 'PercentSalaryHike')\n(3.1543453378290773, 'NumCompaniesWorked')\n(2.887270050507738, 'StockOptionLevel')\n(2.8426451319803747, 'JobSatisfaction')\n(2.7157291565386243, 'EnvironmentSatisfaction')\n(2.598149792146332, 'YearsWithCurrManager')\n(2.5531255182486117, 'TrainingTimesLastYear')\n(2.338683965310596, 'WorkLifeBalance')\n(2.2973011786853204, 'YearsInCurrentRole')\n(2.2669902136664892, 'YearsSinceLastPromotion')\n(2.18763345970664, 'JobInvolvement')\n(2.1458272123770725, 'RelationshipSatisfaction')\n(1.9378481546136461, 'JobLevel')\n(1.731941143233201, 'Education')\n(1.7178911736315736, 'DUM_Single')\n(1.2842616194739356, 'DUM_Travel_Frequently')\n================================\nEstimators: 700\nTrain score: 1.0\nTest score: 0.8396739130434783\n(6.982023937023725, 'MonthlyIncome')\n(5.380840506851593, 'Age')\n(4.8348130340345055, 'MonthlyRate')\n(4.807520937665741, 'EmployeeNumber')\n(4.788404702433009, 'DailyRate')\n(4.693672294000727, 'TotalWorkingYears')\n(4.625603071773884, 'HourlyRate')\n(4.352127988410634, 'OverTime')\n(4.343449602548193, 'DistanceFromHome')\n(4.049252572652485, 'YearsAtCompany')\n(3.3780644915566893, 'PercentSalaryHike')\n(3.1490141776730542, 'NumCompaniesWorked')\n(2.984785074248468, 'EnvironmentSatisfaction')\n(2.828837941884227, 'JobSatisfaction')\n(2.7859663841168394, 'StockOptionLevel')\n(2.5501233781609702, 'YearsWithCurrManager')\n(2.4488839477088913, 'YearsInCurrentRole')\n(2.3964598047430807, 'TrainingTimesLastYear')\n(2.333645401314596, 'JobInvolvement')\n(2.295614816451234, 'WorkLifeBalance')\n(2.1851532481071088, 'YearsSinceLastPromotion')\n(2.171877122613156, 'RelationshipSatisfaction')\n(1.9431033539084712, 'JobLevel')\n(1.8236003822359181, 'DUM_Single')\n(1.7484491244834928, 'Education')\n(1.3010921441881773, 'DUM_Travel_Frequently')\n================================\nEstimators: 800\nTrain score: 1.0\nTest score: 0.8396739130434783\n(6.894842790910399, 'MonthlyIncome')\n(5.420950730093021, 'Age')\n(4.962486569509202, 'DailyRate')\n(4.840385275718419, 'MonthlyRate')\n(4.8343685735154605, 'EmployeeNumber')\n(4.482386455085141, 'OverTime')\n(4.466686637148373, 'TotalWorkingYears')\n(4.424172864595353, 'HourlyRate')\n(4.183743466852872, 'DistanceFromHome')\n(4.070054173426552, 'YearsAtCompany')\n(3.4405697525652, 'PercentSalaryHike')\n(3.133903421835456, 'NumCompaniesWorked')\n(2.924782518808299, 'JobSatisfaction')\n(2.78769080798582, 'StockOptionLevel')\n(2.777446227555914, 'EnvironmentSatisfaction')\n(2.7350412937550685, 'YearsWithCurrManager')\n(2.4279382624794, 'WorkLifeBalance')\n(2.423821761127866, 'TrainingTimesLastYear')\n(2.3861816092706998, 'YearsInCurrentRole')\n(2.286393236146401, 'RelationshipSatisfaction')\n(2.2733354684810356, 'YearsSinceLastPromotion')\n(2.234087939669165, 'JobInvolvement')\n(1.9088329524753793, 'JobLevel')\n(1.810280762199266, 'Education')\n(1.7117359542800623, 'DUM_Single')\n(1.3576544479005086, 'DUM_Travel_Frequently')\n================================\nEstimators: 900\nTrain score: 1.0\nTest score: 0.8396739130434783\n(6.844016543937405, 'MonthlyIncome')\n(5.4780897982067, 'Age')\n(4.879144208705575, 'DailyRate')\n(4.778512021503341, 'EmployeeNumber')\n(4.708348281869072, 'MonthlyRate')\n(4.553332887343245, 'TotalWorkingYears')\n(4.491177458546222, 'OverTime')\n(4.46752785967597, 'HourlyRate')\n(4.255688748158745, 'DistanceFromHome')\n(3.9042140829885357, 'YearsAtCompany')\n(3.4611638301623886, 'PercentSalaryHike')\n(3.0141548485437233, 'NumCompaniesWorked')\n(2.9000932051385786, 'JobSatisfaction')\n(2.896089696441927, 'EnvironmentSatisfaction')\n(2.845445530107916, 'StockOptionLevel')\n(2.776688336423704, 'YearsWithCurrManager')\n(2.507593970124624, 'TrainingTimesLastYear')\n(2.3834124176653946, 'YearsInCurrentRole')\n(2.3629796783049457, 'JobInvolvement')\n(2.322498265023064, 'WorkLifeBalance')\n(2.284535029664061, 'RelationshipSatisfaction')\n(2.241790069558273, 'YearsSinceLastPromotion')\n(1.9448190365625486, 'JobLevel')\n(1.7988329900026554, 'Education')\n(1.7677002963813118, 'DUM_Single')\n(1.3653010936499084, 'DUM_Travel_Frequently')\n"
    }
   ],
   "source": [
    "# Create, fit, and score a Random Forest Classifier\n",
    "from sklearn.ensemble import RandomForestClassifier\n",
    "# Generate forest models from 100 to 1,000 each with 100 increase in estimators\n",
    "# i.e. model 1 = 100, model 2 = 200, model 3 = 300, etc\n",
    "for i in range(100,1000,100):\n",
    "    print(\"================================\")\n",
    "    rf = RandomForestClassifier(n_estimators=i)\n",
    "    rf = rf.fit(X_train, y_train)\n",
    "    # print scores for each model\n",
    "    print(f\"Estimators: {i}\")\n",
    "    print(f\"Train score: {rf.score(X_train,y_train)}\")\n",
    "    print(f\"Test score: {rf.score(X_test,y_test)}\")\n",
    "    importances = rf.feature_importances_\n",
    "    weights = sorted (zip((importances*100),feature_names),reverse = True)\n",
    "    for j in range(0,len(weights)):\n",
    "        # Print variables greater than 1%\n",
    "        if(weights[j][0] > 1):\n",
    "            print(weights[j])\n",
    "\n",
    "\n"
   ]
  },
  {
   "cell_type": "code",
   "execution_count": 30,
   "metadata": {},
   "outputs": [],
   "source": [
    "import math\n",
    "importances = rf.feature_importances_\n",
    "# sort features by importance (here, we have results for last model)\n",
    "values = sorted (zip((importances*100),feature_names),reverse = True)"
   ]
  },
  {
   "cell_type": "code",
   "execution_count": 32,
   "metadata": {},
   "outputs": [
    {
     "output_type": "execute_result",
     "data": {
      "text/plain": "6.8814280874652605"
     },
     "metadata": {},
     "execution_count": 32
    }
   ],
   "source": [
    "values[0][0]"
   ]
  },
  {
   "cell_type": "code",
   "execution_count": null,
   "metadata": {},
   "outputs": [],
   "source": []
  }
 ],
 "metadata": {
  "kernelspec": {
   "display_name": "Python 3.6.10 64-bit ('MachLeanPy36': conda)",
   "language": "python",
   "name": "python_defaultSpec_1596413260692"
  },
  "language_info": {
   "codemirror_mode": {
    "name": "ipython",
    "version": 3
   },
   "file_extension": ".py",
   "mimetype": "text/x-python",
   "name": "python",
   "nbconvert_exporter": "python",
   "pygments_lexer": "ipython3",
   "version": "3.6.10-final"
  },
  "varInspector": {
   "cols": {
    "lenName": 16,
    "lenType": 16,
    "lenVar": 40
   },
   "kernels_config": {
    "python": {
     "delete_cmd_postfix": "",
     "delete_cmd_prefix": "del ",
     "library": "var_list.py",
     "varRefreshCmd": "print(var_dic_list())"
    },
    "r": {
     "delete_cmd_postfix": ") ",
     "delete_cmd_prefix": "rm(",
     "library": "var_list.r",
     "varRefreshCmd": "cat(var_dic_list()) "
    }
   },
   "types_to_exclude": [
    "module",
    "function",
    "builtin_function_or_method",
    "instance",
    "_Feature"
   ],
   "window_display": false
  }
 },
 "nbformat": 4,
 "nbformat_minor": 2
}