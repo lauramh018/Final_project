{
 "cells": [
  {
   "cell_type": "code",
   "execution_count": 1,
   "metadata": {},
   "outputs": [],
   "source": [
    "# Import modules\n",
    "from sklearn.ensemble import RandomForestClassifier\n",
    "import pandas as pd"
   ]
  },
  {
   "cell_type": "code",
   "execution_count": 2,
   "metadata": {},
   "outputs": [
    {
     "output_type": "execute_result",
     "data": {
      "text/plain": "   Age Attrition     BusinessTravel  DailyRate              Department  \\\n0   41       Yes      Travel_Rarely       1102                   Sales   \n1   49        No  Travel_Frequently        279  Research & Development   \n2   37       Yes      Travel_Rarely       1373  Research & Development   \n3   33        No  Travel_Frequently       1392  Research & Development   \n4   27        No      Travel_Rarely        591  Research & Development   \n\n   DistanceFromHome  Education EducationField  EmployeeCount  EmployeeNumber  \\\n0                 1          2  Life Sciences              1               1   \n1                 8          1  Life Sciences              1               2   \n2                 2          2          Other              1               4   \n3                 3          4  Life Sciences              1               5   \n4                 2          1        Medical              1               7   \n\n   ...  RelationshipSatisfaction StandardHours  StockOptionLevel  \\\n0  ...                         1            80                 0   \n1  ...                         4            80                 1   \n2  ...                         2            80                 0   \n3  ...                         3            80                 0   \n4  ...                         4            80                 1   \n\n   TotalWorkingYears  TrainingTimesLastYear WorkLifeBalance  YearsAtCompany  \\\n0                  8                      0               1               6   \n1                 10                      3               3              10   \n2                  7                      3               3               0   \n3                  8                      3               3               8   \n4                  6                      3               3               2   \n\n  YearsInCurrentRole  YearsSinceLastPromotion  YearsWithCurrManager  \n0                  4                        0                     5  \n1                  7                        1                     7  \n2                  0                        0                     0  \n3                  7                        3                     0  \n4                  2                        2                     2  \n\n[5 rows x 35 columns]",
      "text/html": "<div>\n<style scoped>\n    .dataframe tbody tr th:only-of-type {\n        vertical-align: middle;\n    }\n\n    .dataframe tbody tr th {\n        vertical-align: top;\n    }\n\n    .dataframe thead th {\n        text-align: right;\n    }\n</style>\n<table border=\"1\" class=\"dataframe\">\n  <thead>\n    <tr style=\"text-align: right;\">\n      <th></th>\n      <th>Age</th>\n      <th>Attrition</th>\n      <th>BusinessTravel</th>\n      <th>DailyRate</th>\n      <th>Department</th>\n      <th>DistanceFromHome</th>\n      <th>Education</th>\n      <th>EducationField</th>\n      <th>EmployeeCount</th>\n      <th>EmployeeNumber</th>\n      <th>...</th>\n      <th>RelationshipSatisfaction</th>\n      <th>StandardHours</th>\n      <th>StockOptionLevel</th>\n      <th>TotalWorkingYears</th>\n      <th>TrainingTimesLastYear</th>\n      <th>WorkLifeBalance</th>\n      <th>YearsAtCompany</th>\n      <th>YearsInCurrentRole</th>\n      <th>YearsSinceLastPromotion</th>\n      <th>YearsWithCurrManager</th>\n    </tr>\n  </thead>\n  <tbody>\n    <tr>\n      <th>0</th>\n      <td>41</td>\n      <td>Yes</td>\n      <td>Travel_Rarely</td>\n      <td>1102</td>\n      <td>Sales</td>\n      <td>1</td>\n      <td>2</td>\n      <td>Life Sciences</td>\n      <td>1</td>\n      <td>1</td>\n      <td>...</td>\n      <td>1</td>\n      <td>80</td>\n      <td>0</td>\n      <td>8</td>\n      <td>0</td>\n      <td>1</td>\n      <td>6</td>\n      <td>4</td>\n      <td>0</td>\n      <td>5</td>\n    </tr>\n    <tr>\n      <th>1</th>\n      <td>49</td>\n      <td>No</td>\n      <td>Travel_Frequently</td>\n      <td>279</td>\n      <td>Research &amp; Development</td>\n      <td>8</td>\n      <td>1</td>\n      <td>Life Sciences</td>\n      <td>1</td>\n      <td>2</td>\n      <td>...</td>\n      <td>4</td>\n      <td>80</td>\n      <td>1</td>\n      <td>10</td>\n      <td>3</td>\n      <td>3</td>\n      <td>10</td>\n      <td>7</td>\n      <td>1</td>\n      <td>7</td>\n    </tr>\n    <tr>\n      <th>2</th>\n      <td>37</td>\n      <td>Yes</td>\n      <td>Travel_Rarely</td>\n      <td>1373</td>\n      <td>Research &amp; Development</td>\n      <td>2</td>\n      <td>2</td>\n      <td>Other</td>\n      <td>1</td>\n      <td>4</td>\n      <td>...</td>\n      <td>2</td>\n      <td>80</td>\n      <td>0</td>\n      <td>7</td>\n      <td>3</td>\n      <td>3</td>\n      <td>0</td>\n      <td>0</td>\n      <td>0</td>\n      <td>0</td>\n    </tr>\n    <tr>\n      <th>3</th>\n      <td>33</td>\n      <td>No</td>\n      <td>Travel_Frequently</td>\n      <td>1392</td>\n      <td>Research &amp; Development</td>\n      <td>3</td>\n      <td>4</td>\n      <td>Life Sciences</td>\n      <td>1</td>\n      <td>5</td>\n      <td>...</td>\n      <td>3</td>\n      <td>80</td>\n      <td>0</td>\n      <td>8</td>\n      <td>3</td>\n      <td>3</td>\n      <td>8</td>\n      <td>7</td>\n      <td>3</td>\n      <td>0</td>\n    </tr>\n    <tr>\n      <th>4</th>\n      <td>27</td>\n      <td>No</td>\n      <td>Travel_Rarely</td>\n      <td>591</td>\n      <td>Research &amp; Development</td>\n      <td>2</td>\n      <td>1</td>\n      <td>Medical</td>\n      <td>1</td>\n      <td>7</td>\n      <td>...</td>\n      <td>4</td>\n      <td>80</td>\n      <td>1</td>\n      <td>6</td>\n      <td>3</td>\n      <td>3</td>\n      <td>2</td>\n      <td>2</td>\n      <td>2</td>\n      <td>2</td>\n    </tr>\n  </tbody>\n</table>\n<p>5 rows × 35 columns</p>\n</div>"
     },
     "metadata": {},
     "execution_count": 2
    }
   ],
   "source": [
    "# Read csv file and display sample data\n",
    "employee = pd.read_csv('Employee-Attrition.csv')\n",
    "employee.head()"
   ]
  },
  {
   "cell_type": "code",
   "execution_count": 3,
   "metadata": {},
   "outputs": [
    {
     "output_type": "execute_result",
     "data": {
      "text/plain": "   Age  Attrition     BusinessTravel  DailyRate              Department  \\\n0   41          1      Travel_Rarely       1102                   Sales   \n1   49          0  Travel_Frequently        279  Research & Development   \n2   37          1      Travel_Rarely       1373  Research & Development   \n3   33          0  Travel_Frequently       1392  Research & Development   \n4   27          0      Travel_Rarely        591  Research & Development   \n\n   DistanceFromHome  Education EducationField  EmployeeCount  EmployeeNumber  \\\n0                 1          2  Life Sciences              1               1   \n1                 8          1  Life Sciences              1               2   \n2                 2          2          Other              1               4   \n3                 3          4  Life Sciences              1               5   \n4                 2          1        Medical              1               7   \n\n   ...  PerformanceRating  RelationshipSatisfaction  StockOptionLevel  \\\n0  ...                  3                         1                 0   \n1  ...                  4                         4                 1   \n2  ...                  3                         2                 0   \n3  ...                  3                         3                 0   \n4  ...                  3                         4                 1   \n\n   TotalWorkingYears  TrainingTimesLastYear WorkLifeBalance  YearsAtCompany  \\\n0                  8                      0               1               6   \n1                 10                      3               3              10   \n2                  7                      3               3               0   \n3                  8                      3               3               8   \n4                  6                      3               3               2   \n\n  YearsInCurrentRole  YearsSinceLastPromotion  YearsWithCurrManager  \n0                  4                        0                     5  \n1                  7                        1                     7  \n2                  0                        0                     0  \n3                  7                        3                     0  \n4                  2                        2                     2  \n\n[5 rows x 33 columns]",
      "text/html": "<div>\n<style scoped>\n    .dataframe tbody tr th:only-of-type {\n        vertical-align: middle;\n    }\n\n    .dataframe tbody tr th {\n        vertical-align: top;\n    }\n\n    .dataframe thead th {\n        text-align: right;\n    }\n</style>\n<table border=\"1\" class=\"dataframe\">\n  <thead>\n    <tr style=\"text-align: right;\">\n      <th></th>\n      <th>Age</th>\n      <th>Attrition</th>\n      <th>BusinessTravel</th>\n      <th>DailyRate</th>\n      <th>Department</th>\n      <th>DistanceFromHome</th>\n      <th>Education</th>\n      <th>EducationField</th>\n      <th>EmployeeCount</th>\n      <th>EmployeeNumber</th>\n      <th>...</th>\n      <th>PerformanceRating</th>\n      <th>RelationshipSatisfaction</th>\n      <th>StockOptionLevel</th>\n      <th>TotalWorkingYears</th>\n      <th>TrainingTimesLastYear</th>\n      <th>WorkLifeBalance</th>\n      <th>YearsAtCompany</th>\n      <th>YearsInCurrentRole</th>\n      <th>YearsSinceLastPromotion</th>\n      <th>YearsWithCurrManager</th>\n    </tr>\n  </thead>\n  <tbody>\n    <tr>\n      <th>0</th>\n      <td>41</td>\n      <td>1</td>\n      <td>Travel_Rarely</td>\n      <td>1102</td>\n      <td>Sales</td>\n      <td>1</td>\n      <td>2</td>\n      <td>Life Sciences</td>\n      <td>1</td>\n      <td>1</td>\n      <td>...</td>\n      <td>3</td>\n      <td>1</td>\n      <td>0</td>\n      <td>8</td>\n      <td>0</td>\n      <td>1</td>\n      <td>6</td>\n      <td>4</td>\n      <td>0</td>\n      <td>5</td>\n    </tr>\n    <tr>\n      <th>1</th>\n      <td>49</td>\n      <td>0</td>\n      <td>Travel_Frequently</td>\n      <td>279</td>\n      <td>Research &amp; Development</td>\n      <td>8</td>\n      <td>1</td>\n      <td>Life Sciences</td>\n      <td>1</td>\n      <td>2</td>\n      <td>...</td>\n      <td>4</td>\n      <td>4</td>\n      <td>1</td>\n      <td>10</td>\n      <td>3</td>\n      <td>3</td>\n      <td>10</td>\n      <td>7</td>\n      <td>1</td>\n      <td>7</td>\n    </tr>\n    <tr>\n      <th>2</th>\n      <td>37</td>\n      <td>1</td>\n      <td>Travel_Rarely</td>\n      <td>1373</td>\n      <td>Research &amp; Development</td>\n      <td>2</td>\n      <td>2</td>\n      <td>Other</td>\n      <td>1</td>\n      <td>4</td>\n      <td>...</td>\n      <td>3</td>\n      <td>2</td>\n      <td>0</td>\n      <td>7</td>\n      <td>3</td>\n      <td>3</td>\n      <td>0</td>\n      <td>0</td>\n      <td>0</td>\n      <td>0</td>\n    </tr>\n    <tr>\n      <th>3</th>\n      <td>33</td>\n      <td>0</td>\n      <td>Travel_Frequently</td>\n      <td>1392</td>\n      <td>Research &amp; Development</td>\n      <td>3</td>\n      <td>4</td>\n      <td>Life Sciences</td>\n      <td>1</td>\n      <td>5</td>\n      <td>...</td>\n      <td>3</td>\n      <td>3</td>\n      <td>0</td>\n      <td>8</td>\n      <td>3</td>\n      <td>3</td>\n      <td>8</td>\n      <td>7</td>\n      <td>3</td>\n      <td>0</td>\n    </tr>\n    <tr>\n      <th>4</th>\n      <td>27</td>\n      <td>0</td>\n      <td>Travel_Rarely</td>\n      <td>591</td>\n      <td>Research &amp; Development</td>\n      <td>2</td>\n      <td>1</td>\n      <td>Medical</td>\n      <td>1</td>\n      <td>7</td>\n      <td>...</td>\n      <td>3</td>\n      <td>4</td>\n      <td>1</td>\n      <td>6</td>\n      <td>3</td>\n      <td>3</td>\n      <td>2</td>\n      <td>2</td>\n      <td>2</td>\n      <td>2</td>\n    </tr>\n  </tbody>\n</table>\n<p>5 rows × 33 columns</p>\n</div>"
     },
     "metadata": {},
     "execution_count": 3
    }
   ],
   "source": [
    "# Remove uncecessary columns and code binary ones Yes = 1 | No = 0\n",
    "employee[\"Attrition\"] = employee[\"Attrition\"].eq('Yes').mul(1)\n",
    "employee[\"OverTime\"] = employee[\"OverTime\"].eq('Yes').mul(1)\n",
    "employee[\"Gender\"] = employee[\"Gender\"].eq('Female').mul(1)\n",
    "# Remove unwanted columns\n",
    "employee = employee.drop([\"Over18\",\"StandardHours\"], axis = 1)\n",
    "employee.head()"
   ]
  },
  {
   "cell_type": "code",
   "execution_count": 4,
   "metadata": {
    "tags": []
   },
   "outputs": [],
   "source": [
    "# change columns to numbers in order to analyze the data\n",
    "import numpy as np\n",
    "# Select those categorical columns to map themo to dummy values\n",
    "encoder = employee[[\"BusinessTravel\", \"Department\",\"EducationField\",\"JobRole\",\"MaritalStatus\"]]\n",
    "dum_employee = pd.get_dummies(encoder, prefix=\"DUM\")\n",
    "# join with original data\n",
    "employee = employee.join(dum_employee,lsuffix=\"EMP\")\n"
   ]
  },
  {
   "cell_type": "code",
   "execution_count": 5,
   "metadata": {
    "tags": []
   },
   "outputs": [
    {
     "output_type": "stream",
     "name": "stdout",
     "text": "Age  Attrition     BusinessTravel  DailyRate              Department  \\\n0   41          1      Travel_Rarely       1102                   Sales   \n1   49          0  Travel_Frequently        279  Research & Development   \n2   37          1      Travel_Rarely       1373  Research & Development   \n3   33          0  Travel_Frequently       1392  Research & Development   \n4   27          0      Travel_Rarely        591  Research & Development   \n\n   DistanceFromHome  Education EducationField  EmployeeCount  EmployeeNumber  \\\n0                 1          2  Life Sciences              1               1   \n1                 8          1  Life Sciences              1               2   \n2                 2          2          Other              1               4   \n3                 3          4  Life Sciences              1               5   \n4                 2          1        Medical              1               7   \n\n   ...  DUM_Laboratory Technician  DUM_Manager  DUM_Manufacturing Director  \\\n0  ...                          0            0                           0   \n1  ...                          0            0                           0   \n2  ...                          1            0                           0   \n3  ...                          0            0                           0   \n4  ...                          1            0                           0   \n\n   DUM_Research Director  DUM_Research Scientist DUM_Sales Executive  \\\n0                      0                       0                   1   \n1                      0                       1                   0   \n2                      0                       0                   0   \n3                      0                       1                   0   \n4                      0                       0                   0   \n\n   DUM_Sales Representative DUM_Divorced  DUM_Married  DUM_Single  \n0                         0            0            0           1  \n1                         0            0            1           0  \n2                         0            0            0           1  \n3                         0            0            1           0  \n4                         0            0            1           0  \n\n[5 rows x 57 columns]\n   Age  Attrition  DailyRate  DistanceFromHome  Education  EmployeeCount  \\\n0   41          1       1102                 1          2              1   \n1   49          0        279                 8          1              1   \n2   37          1       1373                 2          2              1   \n3   33          0       1392                 3          4              1   \n4   27          0        591                 2          1              1   \n\n   EmployeeNumber  EnvironmentSatisfaction  Gender  HourlyRate  ...  \\\n0               1                        2       1          94  ...   \n1               2                        3       0          61  ...   \n2               4                        4       0          92  ...   \n3               5                        4       1          56  ...   \n4               7                        1       0          40  ...   \n\n   DUM_Laboratory Technician  DUM_Manager  DUM_Manufacturing Director  \\\n0                          0            0                           0   \n1                          0            0                           0   \n2                          1            0                           0   \n3                          0            0                           0   \n4                          1            0                           0   \n\n   DUM_Research Director  DUM_Research Scientist  DUM_Sales Executive  \\\n0                      0                       0                    1   \n1                      0                       1                    0   \n2                      0                       0                    0   \n3                      0                       1                    0   \n4                      0                       0                    0   \n\n   DUM_Sales Representative  DUM_Divorced  DUM_Married  DUM_Single  \n0                         0             0            0           1  \n1                         0             0            1           0  \n2                         0             0            0           1  \n3                         0             0            1           0  \n4                         0             0            1           0  \n\n[5 rows x 52 columns]\nIndex(['Age', 'Attrition', 'DailyRate', 'DistanceFromHome', 'Education',\n       'EmployeeCount', 'EmployeeNumber', 'EnvironmentSatisfaction', 'Gender',\n       'HourlyRate', 'JobInvolvement', 'JobLevel', 'JobSatisfaction',\n       'MonthlyIncome', 'MonthlyRate', 'NumCompaniesWorked', 'OverTime',\n       'PercentSalaryHike', 'PerformanceRating', 'RelationshipSatisfaction',\n       'StockOptionLevel', 'TotalWorkingYears', 'TrainingTimesLastYear',\n       'WorkLifeBalance', 'YearsAtCompany', 'YearsInCurrentRole',\n       'YearsSinceLastPromotion', 'YearsWithCurrManager', 'DUM_Non-Travel',\n       'DUM_Travel_Frequently', 'DUM_Travel_Rarely', 'DUM_Human Resources',\n       'DUM_Research & Development', 'DUM_Sales', 'DUM_Human Resources',\n       'DUM_Life Sciences', 'DUM_Marketing', 'DUM_Medical', 'DUM_Other',\n       'DUM_Technical Degree', 'DUM_Healthcare Representative',\n       'DUM_Human Resources', 'DUM_Laboratory Technician', 'DUM_Manager',\n       'DUM_Manufacturing Director', 'DUM_Research Director',\n       'DUM_Research Scientist', 'DUM_Sales Executive',\n       'DUM_Sales Representative', 'DUM_Divorced', 'DUM_Married',\n       'DUM_Single'],\n      dtype='object')\n"
    }
   ],
   "source": [
    "print(employee.head())\n",
    "# Remove categorical columns. We already have them with dummy values\n",
    "employee = employee.drop([\"BusinessTravel\",\"Department\",\"EducationField\",\"JobRole\",\"MaritalStatus\"], axis = 1)\n",
    "print(employee.head())\n",
    "print(employee.columns)"
   ]
  },
  {
   "cell_type": "code",
   "execution_count": 6,
   "metadata": {},
   "outputs": [],
   "source": [
    "# Y -> outcome\n",
    "target = employee[\"Attrition\"]\n",
    "target_names = [\"Yes\", \"No\"]"
   ]
  },
  {
   "cell_type": "code",
   "execution_count": 7,
   "metadata": {
    "tags": []
   },
   "outputs": [
    {
     "output_type": "stream",
     "name": "stdout",
     "text": "Index(['Age', 'DailyRate', 'DistanceFromHome', 'Education', 'EmployeeCount',\n       'EmployeeNumber', 'EnvironmentSatisfaction', 'Gender', 'HourlyRate',\n       'JobInvolvement', 'JobLevel', 'JobSatisfaction', 'MonthlyIncome',\n       'MonthlyRate', 'NumCompaniesWorked', 'OverTime', 'PercentSalaryHike',\n       'PerformanceRating', 'RelationshipSatisfaction', 'StockOptionLevel',\n       'TotalWorkingYears', 'TrainingTimesLastYear', 'WorkLifeBalance',\n       'YearsAtCompany', 'YearsInCurrentRole', 'YearsSinceLastPromotion',\n       'YearsWithCurrManager', 'DUM_Non-Travel', 'DUM_Travel_Frequently',\n       'DUM_Travel_Rarely', 'DUM_Human Resources',\n       'DUM_Research & Development', 'DUM_Sales', 'DUM_Human Resources',\n       'DUM_Life Sciences', 'DUM_Marketing', 'DUM_Medical', 'DUM_Other',\n       'DUM_Technical Degree', 'DUM_Healthcare Representative',\n       'DUM_Human Resources', 'DUM_Laboratory Technician', 'DUM_Manager',\n       'DUM_Manufacturing Director', 'DUM_Research Director',\n       'DUM_Research Scientist', 'DUM_Sales Executive',\n       'DUM_Sales Representative', 'DUM_Divorced', 'DUM_Married',\n       'DUM_Single'],\n      dtype='object')\n"
    },
    {
     "output_type": "execute_result",
     "data": {
      "text/plain": "   Age  DailyRate  DistanceFromHome  Education  EmployeeCount  EmployeeNumber  \\\n0   41       1102                 1          2              1               1   \n1   49        279                 8          1              1               2   \n2   37       1373                 2          2              1               4   \n3   33       1392                 3          4              1               5   \n4   27        591                 2          1              1               7   \n\n   EnvironmentSatisfaction  Gender  HourlyRate  JobInvolvement  ...  \\\n0                        2       1          94               3  ...   \n1                        3       0          61               2  ...   \n2                        4       0          92               2  ...   \n3                        4       1          56               3  ...   \n4                        1       0          40               3  ...   \n\n   DUM_Laboratory Technician  DUM_Manager  DUM_Manufacturing Director  \\\n0                          0            0                           0   \n1                          0            0                           0   \n2                          1            0                           0   \n3                          0            0                           0   \n4                          1            0                           0   \n\n   DUM_Research Director  DUM_Research Scientist  DUM_Sales Executive  \\\n0                      0                       0                    1   \n1                      0                       1                    0   \n2                      0                       0                    0   \n3                      0                       1                    0   \n4                      0                       0                    0   \n\n   DUM_Sales Representative  DUM_Divorced  DUM_Married  DUM_Single  \n0                         0             0            0           1  \n1                         0             0            1           0  \n2                         0             0            0           1  \n3                         0             0            1           0  \n4                         0             0            1           0  \n\n[5 rows x 51 columns]",
      "text/html": "<div>\n<style scoped>\n    .dataframe tbody tr th:only-of-type {\n        vertical-align: middle;\n    }\n\n    .dataframe tbody tr th {\n        vertical-align: top;\n    }\n\n    .dataframe thead th {\n        text-align: right;\n    }\n</style>\n<table border=\"1\" class=\"dataframe\">\n  <thead>\n    <tr style=\"text-align: right;\">\n      <th></th>\n      <th>Age</th>\n      <th>DailyRate</th>\n      <th>DistanceFromHome</th>\n      <th>Education</th>\n      <th>EmployeeCount</th>\n      <th>EmployeeNumber</th>\n      <th>EnvironmentSatisfaction</th>\n      <th>Gender</th>\n      <th>HourlyRate</th>\n      <th>JobInvolvement</th>\n      <th>...</th>\n      <th>DUM_Laboratory Technician</th>\n      <th>DUM_Manager</th>\n      <th>DUM_Manufacturing Director</th>\n      <th>DUM_Research Director</th>\n      <th>DUM_Research Scientist</th>\n      <th>DUM_Sales Executive</th>\n      <th>DUM_Sales Representative</th>\n      <th>DUM_Divorced</th>\n      <th>DUM_Married</th>\n      <th>DUM_Single</th>\n    </tr>\n  </thead>\n  <tbody>\n    <tr>\n      <th>0</th>\n      <td>41</td>\n      <td>1102</td>\n      <td>1</td>\n      <td>2</td>\n      <td>1</td>\n      <td>1</td>\n      <td>2</td>\n      <td>1</td>\n      <td>94</td>\n      <td>3</td>\n      <td>...</td>\n      <td>0</td>\n      <td>0</td>\n      <td>0</td>\n      <td>0</td>\n      <td>0</td>\n      <td>1</td>\n      <td>0</td>\n      <td>0</td>\n      <td>0</td>\n      <td>1</td>\n    </tr>\n    <tr>\n      <th>1</th>\n      <td>49</td>\n      <td>279</td>\n      <td>8</td>\n      <td>1</td>\n      <td>1</td>\n      <td>2</td>\n      <td>3</td>\n      <td>0</td>\n      <td>61</td>\n      <td>2</td>\n      <td>...</td>\n      <td>0</td>\n      <td>0</td>\n      <td>0</td>\n      <td>0</td>\n      <td>1</td>\n      <td>0</td>\n      <td>0</td>\n      <td>0</td>\n      <td>1</td>\n      <td>0</td>\n    </tr>\n    <tr>\n      <th>2</th>\n      <td>37</td>\n      <td>1373</td>\n      <td>2</td>\n      <td>2</td>\n      <td>1</td>\n      <td>4</td>\n      <td>4</td>\n      <td>0</td>\n      <td>92</td>\n      <td>2</td>\n      <td>...</td>\n      <td>1</td>\n      <td>0</td>\n      <td>0</td>\n      <td>0</td>\n      <td>0</td>\n      <td>0</td>\n      <td>0</td>\n      <td>0</td>\n      <td>0</td>\n      <td>1</td>\n    </tr>\n    <tr>\n      <th>3</th>\n      <td>33</td>\n      <td>1392</td>\n      <td>3</td>\n      <td>4</td>\n      <td>1</td>\n      <td>5</td>\n      <td>4</td>\n      <td>1</td>\n      <td>56</td>\n      <td>3</td>\n      <td>...</td>\n      <td>0</td>\n      <td>0</td>\n      <td>0</td>\n      <td>0</td>\n      <td>1</td>\n      <td>0</td>\n      <td>0</td>\n      <td>0</td>\n      <td>1</td>\n      <td>0</td>\n    </tr>\n    <tr>\n      <th>4</th>\n      <td>27</td>\n      <td>591</td>\n      <td>2</td>\n      <td>1</td>\n      <td>1</td>\n      <td>7</td>\n      <td>1</td>\n      <td>0</td>\n      <td>40</td>\n      <td>3</td>\n      <td>...</td>\n      <td>1</td>\n      <td>0</td>\n      <td>0</td>\n      <td>0</td>\n      <td>0</td>\n      <td>0</td>\n      <td>0</td>\n      <td>0</td>\n      <td>1</td>\n      <td>0</td>\n    </tr>\n  </tbody>\n</table>\n<p>5 rows × 51 columns</p>\n</div>"
     },
     "metadata": {},
     "execution_count": 7
    }
   ],
   "source": [
    "# x -> variables\n",
    "# Get all columns except the one we want to predict\n",
    "data = employee.drop([\"Attrition\"], axis=1)\n",
    "feature_names = data.columns\n",
    "print(feature_names)\n",
    "data.head()"
   ]
  },
  {
   "cell_type": "code",
   "execution_count": 8,
   "metadata": {},
   "outputs": [],
   "source": [
    "# Split the data using train_test_split\n",
    "from sklearn.model_selection import train_test_split\n",
    "# Split data into train and test\n",
    "X_train, X_test, y_train, y_test = train_test_split(data,target, random_state=10)"
   ]
  },
  {
   "cell_type": "code",
   "execution_count": 9,
   "metadata": {
    "tags": []
   },
   "outputs": [
    {
     "output_type": "stream",
     "name": "stdout",
     "text": "================================\nEstimators: 100\nTrain score: 1.0\nTest score: 0.8369565217391305\n================================\nEstimators: 200\nTrain score: 1.0\nTest score: 0.8396739130434783\n================================\nEstimators: 300\nTrain score: 1.0\nTest score: 0.8369565217391305\n================================\nEstimators: 400\nTrain score: 1.0\nTest score: 0.8396739130434783\n================================\nEstimators: 500\nTrain score: 1.0\nTest score: 0.8396739130434783\n================================\nEstimators: 600\nTrain score: 1.0\nTest score: 0.8396739130434783\n================================\nEstimators: 700\nTrain score: 1.0\nTest score: 0.842391304347826\n================================\nEstimators: 800\nTrain score: 1.0\nTest score: 0.8396739130434783\n================================\nEstimators: 900\nTrain score: 1.0\nTest score: 0.8396739130434783\n"
    }
   ],
   "source": [
    "# Create, fit, and score a Random Forest Classifier\n",
    "from sklearn.ensemble import RandomForestClassifier\n",
    "# Generate forest models from 100 to 1,000 each with 100 increase in estimators\n",
    "# i.e. model 1 = 100, model 2 = 200, model 3 = 300, etc\n",
    "for i in range(100,1000,100):\n",
    "    print(\"================================\")\n",
    "    rf = RandomForestClassifier(n_estimators=i)\n",
    "    rf = rf.fit(X_train, y_train)\n",
    "    # print scores for each model\n",
    "    print(f\"Estimators: {i}\")\n",
    "    print(f\"Train score: {rf.score(X_train,y_train)}\")\n",
    "    print(f\"Test score: {rf.score(X_test,y_test)}\")\n",
    "\n"
   ]
  },
  {
   "cell_type": "code",
   "execution_count": 10,
   "metadata": {},
   "outputs": [
    {
     "output_type": "execute_result",
     "data": {
      "text/plain": "[(0.06965200188469117, 'MonthlyIncome'),\n (0.05329999731227767, 'Age'),\n (0.04966831746674187, 'DailyRate'),\n (0.04840209035813289, 'MonthlyRate'),\n (0.047984561282813414, 'EmployeeNumber'),\n (0.04629964531520821, 'TotalWorkingYears'),\n (0.046094654942969736, 'OverTime'),\n (0.044295570379843434, 'HourlyRate'),\n (0.04177176534275504, 'DistanceFromHome'),\n (0.04073667556602493, 'YearsAtCompany'),\n (0.033839877419508585, 'PercentSalaryHike'),\n (0.030841237844161377, 'NumCompaniesWorked'),\n (0.02944324480836495, 'EnvironmentSatisfaction'),\n (0.028998723641619824, 'JobSatisfaction'),\n (0.027694466023503006, 'StockOptionLevel'),\n (0.02604490544729617, 'YearsWithCurrManager'),\n (0.024388229519318762, 'TrainingTimesLastYear'),\n (0.023842312892466185, 'WorkLifeBalance'),\n (0.02361044211892943, 'YearsInCurrentRole'),\n (0.022583082956415687, 'YearsSinceLastPromotion'),\n (0.022580254903309817, 'JobInvolvement'),\n (0.022407222975106597, 'RelationshipSatisfaction'),\n (0.019663664912290248, 'JobLevel'),\n (0.017614132912521164, 'Education'),\n (0.017086182683689898, 'DUM_Single'),\n (0.013788969588378061, 'DUM_Travel_Frequently'),\n (0.008683745295416594, 'DUM_Laboratory Technician'),\n (0.008218808708728851, 'DUM_Sales'),\n (0.0079464450384897, 'DUM_Married'),\n (0.007880507917726643, 'Gender'),\n (0.007841910231432495, 'DUM_Travel_Rarely'),\n (0.007832447555106472, 'DUM_Research & Development'),\n (0.007717975199992092, 'DUM_Medical'),\n (0.0073709895787413245, 'DUM_Sales Executive'),\n (0.007314911633598363, 'DUM_Marketing'),\n (0.007061672621515556, 'DUM_Life Sciences'),\n (0.006249228710687367, 'DUM_Sales Representative'),\n (0.006232468172311152, 'DUM_Technical Degree'),\n (0.005942591133868247, 'DUM_Research Scientist'),\n (0.0055467856140848345, 'PerformanceRating'),\n (0.005470439820909389, 'DUM_Divorced'),\n (0.003920048071137588, 'DUM_Manufacturing Director'),\n (0.0037335579334320315, 'DUM_Non-Travel'),\n (0.00281932442513359, 'DUM_Healthcare Representative'),\n (0.00253955807705034, 'DUM_Other'),\n (0.0018733107710894041, 'DUM_Human Resources'),\n (0.0015594675378873741, 'DUM_Manager'),\n (0.0014731795303758754, 'DUM_Human Resources'),\n (0.0014207456322993589, 'DUM_Human Resources'),\n (0.0007176502906471781, 'DUM_Research Director'),\n (0.0, 'EmployeeCount')]"
     },
     "metadata": {},
     "execution_count": 10
    }
   ],
   "source": [
    "import math\n",
    "importances = rf.feature_importances_\n",
    "# sort features by importance (here, we have results for last model)\n",
    "sorted (zip((importances),feature_names),reverse = True)"
   ]
  },
  {
   "cell_type": "code",
   "execution_count": 13,
   "metadata": {},
   "outputs": [
    {
     "output_type": "execute_result",
     "data": {
      "text/plain": "   Age Attrition     BusinessTravel  DailyRate              Department  \\\n0   41       Yes      Travel_Rarely       1102                   Sales   \n1   49        No  Travel_Frequently        279  Research & Development   \n2   37       Yes      Travel_Rarely       1373  Research & Development   \n3   33        No  Travel_Frequently       1392  Research & Development   \n4   27        No      Travel_Rarely        591  Research & Development   \n\n   DistanceFromHome  Education EducationField  EmployeeCount  EmployeeNumber  \\\n0                 1          2  Life Sciences              1               1   \n1                 8          1  Life Sciences              1               2   \n2                 2          2          Other              1               4   \n3                 3          4  Life Sciences              1               5   \n4                 2          1        Medical              1               7   \n\n   ...  RelationshipSatisfaction StandardHours  StockOptionLevel  \\\n0  ...                         1            80                 0   \n1  ...                         4            80                 1   \n2  ...                         2            80                 0   \n3  ...                         3            80                 0   \n4  ...                         4            80                 1   \n\n   TotalWorkingYears  TrainingTimesLastYear WorkLifeBalance  YearsAtCompany  \\\n0                  8                      0               1               6   \n1                 10                      3               3              10   \n2                  7                      3               3               0   \n3                  8                      3               3               8   \n4                  6                      3               3               2   \n\n  YearsInCurrentRole  YearsSinceLastPromotion  YearsWithCurrManager  \n0                  4                        0                     5  \n1                  7                        1                     7  \n2                  0                        0                     0  \n3                  7                        3                     0  \n4                  2                        2                     2  \n\n[5 rows x 35 columns]",
      "text/html": "<div>\n<style scoped>\n    .dataframe tbody tr th:only-of-type {\n        vertical-align: middle;\n    }\n\n    .dataframe tbody tr th {\n        vertical-align: top;\n    }\n\n    .dataframe thead th {\n        text-align: right;\n    }\n</style>\n<table border=\"1\" class=\"dataframe\">\n  <thead>\n    <tr style=\"text-align: right;\">\n      <th></th>\n      <th>Age</th>\n      <th>Attrition</th>\n      <th>BusinessTravel</th>\n      <th>DailyRate</th>\n      <th>Department</th>\n      <th>DistanceFromHome</th>\n      <th>Education</th>\n      <th>EducationField</th>\n      <th>EmployeeCount</th>\n      <th>EmployeeNumber</th>\n      <th>...</th>\n      <th>RelationshipSatisfaction</th>\n      <th>StandardHours</th>\n      <th>StockOptionLevel</th>\n      <th>TotalWorkingYears</th>\n      <th>TrainingTimesLastYear</th>\n      <th>WorkLifeBalance</th>\n      <th>YearsAtCompany</th>\n      <th>YearsInCurrentRole</th>\n      <th>YearsSinceLastPromotion</th>\n      <th>YearsWithCurrManager</th>\n    </tr>\n  </thead>\n  <tbody>\n    <tr>\n      <th>0</th>\n      <td>41</td>\n      <td>Yes</td>\n      <td>Travel_Rarely</td>\n      <td>1102</td>\n      <td>Sales</td>\n      <td>1</td>\n      <td>2</td>\n      <td>Life Sciences</td>\n      <td>1</td>\n      <td>1</td>\n      <td>...</td>\n      <td>1</td>\n      <td>80</td>\n      <td>0</td>\n      <td>8</td>\n      <td>0</td>\n      <td>1</td>\n      <td>6</td>\n      <td>4</td>\n      <td>0</td>\n      <td>5</td>\n    </tr>\n    <tr>\n      <th>1</th>\n      <td>49</td>\n      <td>No</td>\n      <td>Travel_Frequently</td>\n      <td>279</td>\n      <td>Research &amp; Development</td>\n      <td>8</td>\n      <td>1</td>\n      <td>Life Sciences</td>\n      <td>1</td>\n      <td>2</td>\n      <td>...</td>\n      <td>4</td>\n      <td>80</td>\n      <td>1</td>\n      <td>10</td>\n      <td>3</td>\n      <td>3</td>\n      <td>10</td>\n      <td>7</td>\n      <td>1</td>\n      <td>7</td>\n    </tr>\n    <tr>\n      <th>2</th>\n      <td>37</td>\n      <td>Yes</td>\n      <td>Travel_Rarely</td>\n      <td>1373</td>\n      <td>Research &amp; Development</td>\n      <td>2</td>\n      <td>2</td>\n      <td>Other</td>\n      <td>1</td>\n      <td>4</td>\n      <td>...</td>\n      <td>2</td>\n      <td>80</td>\n      <td>0</td>\n      <td>7</td>\n      <td>3</td>\n      <td>3</td>\n      <td>0</td>\n      <td>0</td>\n      <td>0</td>\n      <td>0</td>\n    </tr>\n    <tr>\n      <th>3</th>\n      <td>33</td>\n      <td>No</td>\n      <td>Travel_Frequently</td>\n      <td>1392</td>\n      <td>Research &amp; Development</td>\n      <td>3</td>\n      <td>4</td>\n      <td>Life Sciences</td>\n      <td>1</td>\n      <td>5</td>\n      <td>...</td>\n      <td>3</td>\n      <td>80</td>\n      <td>0</td>\n      <td>8</td>\n      <td>3</td>\n      <td>3</td>\n      <td>8</td>\n      <td>7</td>\n      <td>3</td>\n      <td>0</td>\n    </tr>\n    <tr>\n      <th>4</th>\n      <td>27</td>\n      <td>No</td>\n      <td>Travel_Rarely</td>\n      <td>591</td>\n      <td>Research &amp; Development</td>\n      <td>2</td>\n      <td>1</td>\n      <td>Medical</td>\n      <td>1</td>\n      <td>7</td>\n      <td>...</td>\n      <td>4</td>\n      <td>80</td>\n      <td>1</td>\n      <td>6</td>\n      <td>3</td>\n      <td>3</td>\n      <td>2</td>\n      <td>2</td>\n      <td>2</td>\n      <td>2</td>\n    </tr>\n  </tbody>\n</table>\n<p>5 rows × 35 columns</p>\n</div>"
     },
     "metadata": {},
     "execution_count": 13
    }
   ],
   "source": [
    "# Number 2 try out\n",
    "features = pd.read_csv('Employee-Attrition.csv')\n",
    "features.head(5)"
   ]
  },
  {
   "cell_type": "code",
   "execution_count": 14,
   "metadata": {
    "tags": []
   },
   "outputs": [
    {
     "output_type": "stream",
     "name": "stdout",
     "text": "The shape of our features is: (1470, 35)\n"
    }
   ],
   "source": [
    "print('The shape of our features is:', features.shape)\n"
   ]
  },
  {
   "cell_type": "code",
   "execution_count": 16,
   "metadata": {},
   "outputs": [
    {
     "output_type": "execute_result",
     "data": {
      "text/plain": "               Age    DailyRate  DistanceFromHome    Education  EmployeeCount  \\\ncount  1470.000000  1470.000000       1470.000000  1470.000000         1470.0   \nmean     36.923810   802.485714          9.192517     2.912925            1.0   \nstd       9.135373   403.509100          8.106864     1.024165            0.0   \nmin      18.000000   102.000000          1.000000     1.000000            1.0   \n25%      30.000000   465.000000          2.000000     2.000000            1.0   \n50%      36.000000   802.000000          7.000000     3.000000            1.0   \n75%      43.000000  1157.000000         14.000000     4.000000            1.0   \nmax      60.000000  1499.000000         29.000000     5.000000            1.0   \n\n       EmployeeNumber  EnvironmentSatisfaction   HourlyRate  JobInvolvement  \\\ncount     1470.000000              1470.000000  1470.000000     1470.000000   \nmean      1024.865306                 2.721769    65.891156        2.729932   \nstd        602.024335                 1.093082    20.329428        0.711561   \nmin          1.000000                 1.000000    30.000000        1.000000   \n25%        491.250000                 2.000000    48.000000        2.000000   \n50%       1020.500000                 3.000000    66.000000        3.000000   \n75%       1555.750000                 4.000000    83.750000        3.000000   \nmax       2068.000000                 4.000000   100.000000        4.000000   \n\n          JobLevel  ...  RelationshipSatisfaction  StandardHours  \\\ncount  1470.000000  ...               1470.000000         1470.0   \nmean      2.063946  ...                  2.712245           80.0   \nstd       1.106940  ...                  1.081209            0.0   \nmin       1.000000  ...                  1.000000           80.0   \n25%       1.000000  ...                  2.000000           80.0   \n50%       2.000000  ...                  3.000000           80.0   \n75%       3.000000  ...                  4.000000           80.0   \nmax       5.000000  ...                  4.000000           80.0   \n\n       StockOptionLevel  TotalWorkingYears  TrainingTimesLastYear  \\\ncount       1470.000000        1470.000000            1470.000000   \nmean           0.793878          11.279592               2.799320   \nstd            0.852077           7.780782               1.289271   \nmin            0.000000           0.000000               0.000000   \n25%            0.000000           6.000000               2.000000   \n50%            1.000000          10.000000               3.000000   \n75%            1.000000          15.000000               3.000000   \nmax            3.000000          40.000000               6.000000   \n\n       WorkLifeBalance  YearsAtCompany  YearsInCurrentRole  \\\ncount      1470.000000     1470.000000         1470.000000   \nmean          2.761224        7.008163            4.229252   \nstd           0.706476        6.126525            3.623137   \nmin           1.000000        0.000000            0.000000   \n25%           2.000000        3.000000            2.000000   \n50%           3.000000        5.000000            3.000000   \n75%           3.000000        9.000000            7.000000   \nmax           4.000000       40.000000           18.000000   \n\n       YearsSinceLastPromotion  YearsWithCurrManager  \ncount              1470.000000           1470.000000  \nmean                  2.187755              4.123129  \nstd                   3.222430              3.568136  \nmin                   0.000000              0.000000  \n25%                   0.000000              2.000000  \n50%                   1.000000              3.000000  \n75%                   3.000000              7.000000  \nmax                  15.000000             17.000000  \n\n[8 rows x 26 columns]",
      "text/html": "<div>\n<style scoped>\n    .dataframe tbody tr th:only-of-type {\n        vertical-align: middle;\n    }\n\n    .dataframe tbody tr th {\n        vertical-align: top;\n    }\n\n    .dataframe thead th {\n        text-align: right;\n    }\n</style>\n<table border=\"1\" class=\"dataframe\">\n  <thead>\n    <tr style=\"text-align: right;\">\n      <th></th>\n      <th>Age</th>\n      <th>DailyRate</th>\n      <th>DistanceFromHome</th>\n      <th>Education</th>\n      <th>EmployeeCount</th>\n      <th>EmployeeNumber</th>\n      <th>EnvironmentSatisfaction</th>\n      <th>HourlyRate</th>\n      <th>JobInvolvement</th>\n      <th>JobLevel</th>\n      <th>...</th>\n      <th>RelationshipSatisfaction</th>\n      <th>StandardHours</th>\n      <th>StockOptionLevel</th>\n      <th>TotalWorkingYears</th>\n      <th>TrainingTimesLastYear</th>\n      <th>WorkLifeBalance</th>\n      <th>YearsAtCompany</th>\n      <th>YearsInCurrentRole</th>\n      <th>YearsSinceLastPromotion</th>\n      <th>YearsWithCurrManager</th>\n    </tr>\n  </thead>\n  <tbody>\n    <tr>\n      <th>count</th>\n      <td>1470.000000</td>\n      <td>1470.000000</td>\n      <td>1470.000000</td>\n      <td>1470.000000</td>\n      <td>1470.0</td>\n      <td>1470.000000</td>\n      <td>1470.000000</td>\n      <td>1470.000000</td>\n      <td>1470.000000</td>\n      <td>1470.000000</td>\n      <td>...</td>\n      <td>1470.000000</td>\n      <td>1470.0</td>\n      <td>1470.000000</td>\n      <td>1470.000000</td>\n      <td>1470.000000</td>\n      <td>1470.000000</td>\n      <td>1470.000000</td>\n      <td>1470.000000</td>\n      <td>1470.000000</td>\n      <td>1470.000000</td>\n    </tr>\n    <tr>\n      <th>mean</th>\n      <td>36.923810</td>\n      <td>802.485714</td>\n      <td>9.192517</td>\n      <td>2.912925</td>\n      <td>1.0</td>\n      <td>1024.865306</td>\n      <td>2.721769</td>\n      <td>65.891156</td>\n      <td>2.729932</td>\n      <td>2.063946</td>\n      <td>...</td>\n      <td>2.712245</td>\n      <td>80.0</td>\n      <td>0.793878</td>\n      <td>11.279592</td>\n      <td>2.799320</td>\n      <td>2.761224</td>\n      <td>7.008163</td>\n      <td>4.229252</td>\n      <td>2.187755</td>\n      <td>4.123129</td>\n    </tr>\n    <tr>\n      <th>std</th>\n      <td>9.135373</td>\n      <td>403.509100</td>\n      <td>8.106864</td>\n      <td>1.024165</td>\n      <td>0.0</td>\n      <td>602.024335</td>\n      <td>1.093082</td>\n      <td>20.329428</td>\n      <td>0.711561</td>\n      <td>1.106940</td>\n      <td>...</td>\n      <td>1.081209</td>\n      <td>0.0</td>\n      <td>0.852077</td>\n      <td>7.780782</td>\n      <td>1.289271</td>\n      <td>0.706476</td>\n      <td>6.126525</td>\n      <td>3.623137</td>\n      <td>3.222430</td>\n      <td>3.568136</td>\n    </tr>\n    <tr>\n      <th>min</th>\n      <td>18.000000</td>\n      <td>102.000000</td>\n      <td>1.000000</td>\n      <td>1.000000</td>\n      <td>1.0</td>\n      <td>1.000000</td>\n      <td>1.000000</td>\n      <td>30.000000</td>\n      <td>1.000000</td>\n      <td>1.000000</td>\n      <td>...</td>\n      <td>1.000000</td>\n      <td>80.0</td>\n      <td>0.000000</td>\n      <td>0.000000</td>\n      <td>0.000000</td>\n      <td>1.000000</td>\n      <td>0.000000</td>\n      <td>0.000000</td>\n      <td>0.000000</td>\n      <td>0.000000</td>\n    </tr>\n    <tr>\n      <th>25%</th>\n      <td>30.000000</td>\n      <td>465.000000</td>\n      <td>2.000000</td>\n      <td>2.000000</td>\n      <td>1.0</td>\n      <td>491.250000</td>\n      <td>2.000000</td>\n      <td>48.000000</td>\n      <td>2.000000</td>\n      <td>1.000000</td>\n      <td>...</td>\n      <td>2.000000</td>\n      <td>80.0</td>\n      <td>0.000000</td>\n      <td>6.000000</td>\n      <td>2.000000</td>\n      <td>2.000000</td>\n      <td>3.000000</td>\n      <td>2.000000</td>\n      <td>0.000000</td>\n      <td>2.000000</td>\n    </tr>\n    <tr>\n      <th>50%</th>\n      <td>36.000000</td>\n      <td>802.000000</td>\n      <td>7.000000</td>\n      <td>3.000000</td>\n      <td>1.0</td>\n      <td>1020.500000</td>\n      <td>3.000000</td>\n      <td>66.000000</td>\n      <td>3.000000</td>\n      <td>2.000000</td>\n      <td>...</td>\n      <td>3.000000</td>\n      <td>80.0</td>\n      <td>1.000000</td>\n      <td>10.000000</td>\n      <td>3.000000</td>\n      <td>3.000000</td>\n      <td>5.000000</td>\n      <td>3.000000</td>\n      <td>1.000000</td>\n      <td>3.000000</td>\n    </tr>\n    <tr>\n      <th>75%</th>\n      <td>43.000000</td>\n      <td>1157.000000</td>\n      <td>14.000000</td>\n      <td>4.000000</td>\n      <td>1.0</td>\n      <td>1555.750000</td>\n      <td>4.000000</td>\n      <td>83.750000</td>\n      <td>3.000000</td>\n      <td>3.000000</td>\n      <td>...</td>\n      <td>4.000000</td>\n      <td>80.0</td>\n      <td>1.000000</td>\n      <td>15.000000</td>\n      <td>3.000000</td>\n      <td>3.000000</td>\n      <td>9.000000</td>\n      <td>7.000000</td>\n      <td>3.000000</td>\n      <td>7.000000</td>\n    </tr>\n    <tr>\n      <th>max</th>\n      <td>60.000000</td>\n      <td>1499.000000</td>\n      <td>29.000000</td>\n      <td>5.000000</td>\n      <td>1.0</td>\n      <td>2068.000000</td>\n      <td>4.000000</td>\n      <td>100.000000</td>\n      <td>4.000000</td>\n      <td>5.000000</td>\n      <td>...</td>\n      <td>4.000000</td>\n      <td>80.0</td>\n      <td>3.000000</td>\n      <td>40.000000</td>\n      <td>6.000000</td>\n      <td>4.000000</td>\n      <td>40.000000</td>\n      <td>18.000000</td>\n      <td>15.000000</td>\n      <td>17.000000</td>\n    </tr>\n  </tbody>\n</table>\n<p>8 rows × 26 columns</p>\n</div>"
     },
     "metadata": {},
     "execution_count": 16
    }
   ],
   "source": [
    "features.describe()"
   ]
  },
  {
   "cell_type": "code",
   "execution_count": 17,
   "metadata": {},
   "outputs": [
    {
     "output_type": "execute_result",
     "data": {
      "text/plain": "   EmployeeNumber  EnvironmentSatisfaction  HourlyRate  JobInvolvement  \\\n0               1                        2          94               3   \n1               2                        3          61               2   \n2               4                        4          92               2   \n3               5                        4          56               3   \n4               7                        1          40               3   \n\n   JobLevel  JobSatisfaction  MonthlyIncome  MonthlyRate  NumCompaniesWorked  \\\n0         2                4           5993        19479                   8   \n1         2                2           5130        24907                   1   \n2         1                3           2090         2396                   6   \n3         1                3           2909        23159                   1   \n4         1                2           3468        16632                   9   \n\n   PercentSalaryHike  ...  JobRole_Research Director  \\\n0                 11  ...                          0   \n1                 23  ...                          0   \n2                 15  ...                          0   \n3                 11  ...                          0   \n4                 12  ...                          0   \n\n   JobRole_Research Scientist  JobRole_Sales Executive  \\\n0                           0                        1   \n1                           1                        0   \n2                           0                        0   \n3                           1                        0   \n4                           0                        0   \n\n   JobRole_Sales Representative  MaritalStatus_Divorced  \\\n0                             0                       0   \n1                             0                       0   \n2                             0                       0   \n3                             0                       0   \n4                             0                       0   \n\n   MaritalStatus_Married  MaritalStatus_Single  Over18_Y  OverTime_No  \\\n0                      0                     1         1            0   \n1                      1                     0         1            1   \n2                      0                     1         1            0   \n3                      1                     0         1            0   \n4                      1                     0         1            1   \n\n   OverTime_Yes  \n0             1  \n1             0  \n2             1  \n3             1  \n4             0  \n\n[5 rows x 52 columns]",
      "text/html": "<div>\n<style scoped>\n    .dataframe tbody tr th:only-of-type {\n        vertical-align: middle;\n    }\n\n    .dataframe tbody tr th {\n        vertical-align: top;\n    }\n\n    .dataframe thead th {\n        text-align: right;\n    }\n</style>\n<table border=\"1\" class=\"dataframe\">\n  <thead>\n    <tr style=\"text-align: right;\">\n      <th></th>\n      <th>EmployeeNumber</th>\n      <th>EnvironmentSatisfaction</th>\n      <th>HourlyRate</th>\n      <th>JobInvolvement</th>\n      <th>JobLevel</th>\n      <th>JobSatisfaction</th>\n      <th>MonthlyIncome</th>\n      <th>MonthlyRate</th>\n      <th>NumCompaniesWorked</th>\n      <th>PercentSalaryHike</th>\n      <th>...</th>\n      <th>JobRole_Research Director</th>\n      <th>JobRole_Research Scientist</th>\n      <th>JobRole_Sales Executive</th>\n      <th>JobRole_Sales Representative</th>\n      <th>MaritalStatus_Divorced</th>\n      <th>MaritalStatus_Married</th>\n      <th>MaritalStatus_Single</th>\n      <th>Over18_Y</th>\n      <th>OverTime_No</th>\n      <th>OverTime_Yes</th>\n    </tr>\n  </thead>\n  <tbody>\n    <tr>\n      <th>0</th>\n      <td>1</td>\n      <td>2</td>\n      <td>94</td>\n      <td>3</td>\n      <td>2</td>\n      <td>4</td>\n      <td>5993</td>\n      <td>19479</td>\n      <td>8</td>\n      <td>11</td>\n      <td>...</td>\n      <td>0</td>\n      <td>0</td>\n      <td>1</td>\n      <td>0</td>\n      <td>0</td>\n      <td>0</td>\n      <td>1</td>\n      <td>1</td>\n      <td>0</td>\n      <td>1</td>\n    </tr>\n    <tr>\n      <th>1</th>\n      <td>2</td>\n      <td>3</td>\n      <td>61</td>\n      <td>2</td>\n      <td>2</td>\n      <td>2</td>\n      <td>5130</td>\n      <td>24907</td>\n      <td>1</td>\n      <td>23</td>\n      <td>...</td>\n      <td>0</td>\n      <td>1</td>\n      <td>0</td>\n      <td>0</td>\n      <td>0</td>\n      <td>1</td>\n      <td>0</td>\n      <td>1</td>\n      <td>1</td>\n      <td>0</td>\n    </tr>\n    <tr>\n      <th>2</th>\n      <td>4</td>\n      <td>4</td>\n      <td>92</td>\n      <td>2</td>\n      <td>1</td>\n      <td>3</td>\n      <td>2090</td>\n      <td>2396</td>\n      <td>6</td>\n      <td>15</td>\n      <td>...</td>\n      <td>0</td>\n      <td>0</td>\n      <td>0</td>\n      <td>0</td>\n      <td>0</td>\n      <td>0</td>\n      <td>1</td>\n      <td>1</td>\n      <td>0</td>\n      <td>1</td>\n    </tr>\n    <tr>\n      <th>3</th>\n      <td>5</td>\n      <td>4</td>\n      <td>56</td>\n      <td>3</td>\n      <td>1</td>\n      <td>3</td>\n      <td>2909</td>\n      <td>23159</td>\n      <td>1</td>\n      <td>11</td>\n      <td>...</td>\n      <td>0</td>\n      <td>1</td>\n      <td>0</td>\n      <td>0</td>\n      <td>0</td>\n      <td>1</td>\n      <td>0</td>\n      <td>1</td>\n      <td>0</td>\n      <td>1</td>\n    </tr>\n    <tr>\n      <th>4</th>\n      <td>7</td>\n      <td>1</td>\n      <td>40</td>\n      <td>3</td>\n      <td>1</td>\n      <td>2</td>\n      <td>3468</td>\n      <td>16632</td>\n      <td>9</td>\n      <td>12</td>\n      <td>...</td>\n      <td>0</td>\n      <td>0</td>\n      <td>0</td>\n      <td>0</td>\n      <td>0</td>\n      <td>1</td>\n      <td>0</td>\n      <td>1</td>\n      <td>1</td>\n      <td>0</td>\n    </tr>\n  </tbody>\n</table>\n<p>5 rows × 52 columns</p>\n</div>"
     },
     "metadata": {},
     "execution_count": 17
    }
   ],
   "source": [
    "# One-hot encode the data using pandas get_dummies\n",
    "features = pd.get_dummies(features)\n",
    "# Display the first 5 rows of the last 12 columns\n",
    "features.iloc[:,5:].head(5)"
   ]
  },
  {
   "cell_type": "code",
   "execution_count": 20,
   "metadata": {},
   "outputs": [
    {
     "output_type": "execute_result",
     "data": {
      "text/plain": "Index(['Age', 'DailyRate', 'DistanceFromHome', 'Education', 'EmployeeCount',\n       'EmployeeNumber', 'EnvironmentSatisfaction', 'HourlyRate',\n       'JobInvolvement', 'JobLevel', 'JobSatisfaction', 'MonthlyIncome',\n       'MonthlyRate', 'NumCompaniesWorked', 'PercentSalaryHike',\n       'PerformanceRating', 'RelationshipSatisfaction', 'StandardHours',\n       'StockOptionLevel', 'TotalWorkingYears', 'TrainingTimesLastYear',\n       'WorkLifeBalance', 'YearsAtCompany', 'YearsInCurrentRole',\n       'YearsSinceLastPromotion', 'YearsWithCurrManager', 'Attrition_No',\n       'Attrition_Yes', 'BusinessTravel_Non-Travel',\n       'BusinessTravel_Travel_Frequently', 'BusinessTravel_Travel_Rarely',\n       'Department_Human Resources', 'Department_Research & Development',\n       'Department_Sales', 'EducationField_Human Resources',\n       'EducationField_Life Sciences', 'EducationField_Marketing',\n       'EducationField_Medical', 'EducationField_Other',\n       'EducationField_Technical Degree', 'Gender_Female', 'Gender_Male',\n       'JobRole_Healthcare Representative', 'JobRole_Human Resources',\n       'JobRole_Laboratory Technician', 'JobRole_Manager',\n       'JobRole_Manufacturing Director', 'JobRole_Research Director',\n       'JobRole_Research Scientist', 'JobRole_Sales Executive',\n       'JobRole_Sales Representative', 'MaritalStatus_Divorced',\n       'MaritalStatus_Married', 'MaritalStatus_Single', 'Over18_Y',\n       'OverTime_No', 'OverTime_Yes'],\n      dtype='object')"
     },
     "metadata": {},
     "execution_count": 20
    }
   ],
   "source": [
    "features.columns"
   ]
  },
  {
   "cell_type": "code",
   "execution_count": 21,
   "metadata": {},
   "outputs": [],
   "source": [
    "# Use numpy to convert to arrays\n",
    "import numpy as np\n",
    "# Labels are the values we want to predict\n",
    "labels = np.array(features['Attrition_Yes'])\n",
    "# Remove the labels from the features\n",
    "# axis 1 refers to the columns\n",
    "features= features.drop('Attrition_Yes', axis = 1)\n",
    "# Saving feature names for later use\n",
    "feature_list = list(features.columns)\n",
    "# Convert to numpy array\n",
    "features = np.array(features)"
   ]
  },
  {
   "cell_type": "code",
   "execution_count": 22,
   "metadata": {},
   "outputs": [],
   "source": [
    "# Using Skicit-learn to split data into training and testing sets\n",
    "from sklearn.model_selection import train_test_split\n",
    "# Split the data into training and testing sets\n",
    "train_features, test_features, train_labels, test_labels = train_test_split(features, labels, test_size = 0.25, random_state = 42)"
   ]
  },
  {
   "cell_type": "code",
   "execution_count": 23,
   "metadata": {
    "tags": []
   },
   "outputs": [
    {
     "output_type": "stream",
     "name": "stdout",
     "text": "Training Features Shape: (1102, 56)\nTraining Labels Shape: (1102,)\nTesting Features Shape: (368, 56)\nTesting Labels Shape: (368,)\n"
    }
   ],
   "source": [
    "print('Training Features Shape:', train_features.shape)\n",
    "print('Training Labels Shape:', train_labels.shape)\n",
    "print('Testing Features Shape:', test_features.shape)\n",
    "print('Testing Labels Shape:', test_labels.shape)"
   ]
  },
  {
   "cell_type": "code",
   "execution_count": 28,
   "metadata": {},
   "outputs": [],
   "source": [
    "# Import the model we are using\n",
    "from sklearn.ensemble import RandomForestRegressor\n",
    "# Instantiate model with 1000 decision trees\n",
    "rf = RandomForestRegressor(n_estimators = 500, random_state = 42)\n",
    "# Train the model on training data\n",
    "rf.fit(train_features, train_labels);"
   ]
  },
  {
   "cell_type": "code",
   "execution_count": 32,
   "metadata": {
    "tags": []
   },
   "outputs": [
    {
     "output_type": "stream",
     "name": "stdout",
     "text": "[0. 0. 0. 0. 0. 0. 0. 0. 0. 0. 0. 0. 0. 0. 0. 0. 0. 0. 0. 0. 0. 0. 0. 0.\n 0. 0. 0. 0. 0. 0. 0. 0. 0. 0. 0. 0. 0. 0. 0. 0. 0. 0. 0. 0. 0. 0. 0. 0.\n 0. 0. 0. 0. 0. 0. 0. 0. 0. 0. 0. 0. 0. 0. 0. 0. 0. 0. 0. 0. 0. 0. 0. 0.\n 0. 0. 0. 0. 0. 0. 0. 0. 0. 0. 0. 0. 0. 0. 0. 0. 0. 0. 0. 0. 0. 0. 0. 0.\n 0. 0. 0. 0. 0. 0. 0. 0. 0. 0. 0. 0. 0. 0. 0. 0. 0. 0. 0. 0. 0. 0. 0. 0.\n 0. 0. 0. 0. 0. 0. 0. 0. 0. 0. 0. 0. 0. 0. 0. 0. 0. 0. 0. 0. 0. 0. 0. 0.\n 0. 0. 0. 0. 0. 0. 0. 0. 0. 0. 0. 0. 0. 0. 0. 0. 0. 0. 0. 0. 0. 0. 0. 0.\n 0. 0. 0. 0. 0. 0. 0. 0. 0. 0. 0. 0. 0. 0. 0. 0. 0. 0. 0. 0. 0. 0. 0. 0.\n 0. 0. 0. 0. 0. 0. 0. 0. 0. 0. 0. 0. 0. 0. 0. 0. 0. 0. 0. 0. 0. 0. 0. 0.\n 0. 0. 0. 0. 0. 0. 0. 0. 0. 0. 0. 0. 0. 0. 0. 0. 0. 0. 0. 0. 0. 0. 0. 0.\n 0. 0. 0. 0. 0. 0. 0. 0. 0. 0. 0. 0. 0. 0. 0. 0. 0. 0. 0. 0. 0. 0. 0. 0.\n 0. 0. 0. 0. 0. 0. 0. 0. 0. 0. 0. 0. 0. 0. 0. 0. 0. 0. 0. 0. 0. 0. 0. 0.\n 0. 0. 0. 0. 0. 0. 0. 0. 0. 0. 0. 0. 0. 0. 0. 0. 0. 0. 0. 0. 0. 0. 0. 0.\n 0. 0. 0. 0. 0. 0. 0. 0. 0. 0. 0. 0. 0. 0. 0. 0. 0. 0. 0. 0. 0. 0. 0. 0.\n 0. 0. 0. 0. 0. 0. 0. 0. 0. 0. 0. 0. 0. 0. 0. 0. 0. 0. 0. 0. 0. 0. 0. 0.\n 0. 0. 0. 0. 0. 0. 0. 0.]\n"
    }
   ],
   "source": [
    "# Use the forest's predict method on the test data\n",
    "predictions = rf.predict(test_features)\n",
    "# Calculate the absolute errors\n",
    "errors = abs(predictions - test_labels)\n",
    "print(errors)"
   ]
  },
  {
   "cell_type": "code",
   "execution_count": null,
   "metadata": {},
   "outputs": [],
   "source": []
  }
 ],
 "metadata": {
  "kernelspec": {
   "display_name": "Python 3",
   "language": "python",
   "name": "python3"
  },
  "language_info": {
   "codemirror_mode": {
    "name": "ipython",
    "version": 3
   },
   "file_extension": ".py",
   "mimetype": "text/x-python",
   "name": "python",
   "nbconvert_exporter": "python",
   "pygments_lexer": "ipython3",
   "version": "3.7.6-final"
  },
  "varInspector": {
   "cols": {
    "lenName": 16,
    "lenType": 16,
    "lenVar": 40
   },
   "kernels_config": {
    "python": {
     "delete_cmd_postfix": "",
     "delete_cmd_prefix": "del ",
     "library": "var_list.py",
     "varRefreshCmd": "print(var_dic_list())"
    },
    "r": {
     "delete_cmd_postfix": ") ",
     "delete_cmd_prefix": "rm(",
     "library": "var_list.r",
     "varRefreshCmd": "cat(var_dic_list()) "
    }
   },
   "types_to_exclude": [
    "module",
    "function",
    "builtin_function_or_method",
    "instance",
    "_Feature"
   ],
   "window_display": false
  }
 },
 "nbformat": 4,
 "nbformat_minor": 2
}