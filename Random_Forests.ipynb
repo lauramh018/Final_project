{
 "cells": [
  {
   "cell_type": "code",
   "execution_count": 1,
   "metadata": {},
   "outputs": [],
   "source": [
    "# Import modules\n",
    "from sklearn.ensemble import RandomForestClassifier\n",
    "import pandas as pd"
   ]
  },
  {
   "cell_type": "code",
   "execution_count": 2,
   "metadata": {},
   "outputs": [
    {
     "output_type": "execute_result",
     "data": {
      "text/plain": "   Age Attrition     BusinessTravel  DailyRate              Department  \\\n0   41       Yes      Travel_Rarely       1102                   Sales   \n1   49        No  Travel_Frequently        279  Research & Development   \n2   37       Yes      Travel_Rarely       1373  Research & Development   \n3   33        No  Travel_Frequently       1392  Research & Development   \n4   27        No      Travel_Rarely        591  Research & Development   \n\n   DistanceFromHome  Education EducationField  EmployeeCount  EmployeeNumber  \\\n0                 1          2  Life Sciences              1               1   \n1                 8          1  Life Sciences              1               2   \n2                 2          2          Other              1               4   \n3                 3          4  Life Sciences              1               5   \n4                 2          1        Medical              1               7   \n\n   ...  RelationshipSatisfaction StandardHours  StockOptionLevel  \\\n0  ...                         1            80                 0   \n1  ...                         4            80                 1   \n2  ...                         2            80                 0   \n3  ...                         3            80                 0   \n4  ...                         4            80                 1   \n\n   TotalWorkingYears  TrainingTimesLastYear WorkLifeBalance  YearsAtCompany  \\\n0                  8                      0               1               6   \n1                 10                      3               3              10   \n2                  7                      3               3               0   \n3                  8                      3               3               8   \n4                  6                      3               3               2   \n\n  YearsInCurrentRole  YearsSinceLastPromotion  YearsWithCurrManager  \n0                  4                        0                     5  \n1                  7                        1                     7  \n2                  0                        0                     0  \n3                  7                        3                     0  \n4                  2                        2                     2  \n\n[5 rows x 35 columns]",
      "text/html": "<div>\n<style scoped>\n    .dataframe tbody tr th:only-of-type {\n        vertical-align: middle;\n    }\n\n    .dataframe tbody tr th {\n        vertical-align: top;\n    }\n\n    .dataframe thead th {\n        text-align: right;\n    }\n</style>\n<table border=\"1\" class=\"dataframe\">\n  <thead>\n    <tr style=\"text-align: right;\">\n      <th></th>\n      <th>Age</th>\n      <th>Attrition</th>\n      <th>BusinessTravel</th>\n      <th>DailyRate</th>\n      <th>Department</th>\n      <th>DistanceFromHome</th>\n      <th>Education</th>\n      <th>EducationField</th>\n      <th>EmployeeCount</th>\n      <th>EmployeeNumber</th>\n      <th>...</th>\n      <th>RelationshipSatisfaction</th>\n      <th>StandardHours</th>\n      <th>StockOptionLevel</th>\n      <th>TotalWorkingYears</th>\n      <th>TrainingTimesLastYear</th>\n      <th>WorkLifeBalance</th>\n      <th>YearsAtCompany</th>\n      <th>YearsInCurrentRole</th>\n      <th>YearsSinceLastPromotion</th>\n      <th>YearsWithCurrManager</th>\n    </tr>\n  </thead>\n  <tbody>\n    <tr>\n      <th>0</th>\n      <td>41</td>\n      <td>Yes</td>\n      <td>Travel_Rarely</td>\n      <td>1102</td>\n      <td>Sales</td>\n      <td>1</td>\n      <td>2</td>\n      <td>Life Sciences</td>\n      <td>1</td>\n      <td>1</td>\n      <td>...</td>\n      <td>1</td>\n      <td>80</td>\n      <td>0</td>\n      <td>8</td>\n      <td>0</td>\n      <td>1</td>\n      <td>6</td>\n      <td>4</td>\n      <td>0</td>\n      <td>5</td>\n    </tr>\n    <tr>\n      <th>1</th>\n      <td>49</td>\n      <td>No</td>\n      <td>Travel_Frequently</td>\n      <td>279</td>\n      <td>Research &amp; Development</td>\n      <td>8</td>\n      <td>1</td>\n      <td>Life Sciences</td>\n      <td>1</td>\n      <td>2</td>\n      <td>...</td>\n      <td>4</td>\n      <td>80</td>\n      <td>1</td>\n      <td>10</td>\n      <td>3</td>\n      <td>3</td>\n      <td>10</td>\n      <td>7</td>\n      <td>1</td>\n      <td>7</td>\n    </tr>\n    <tr>\n      <th>2</th>\n      <td>37</td>\n      <td>Yes</td>\n      <td>Travel_Rarely</td>\n      <td>1373</td>\n      <td>Research &amp; Development</td>\n      <td>2</td>\n      <td>2</td>\n      <td>Other</td>\n      <td>1</td>\n      <td>4</td>\n      <td>...</td>\n      <td>2</td>\n      <td>80</td>\n      <td>0</td>\n      <td>7</td>\n      <td>3</td>\n      <td>3</td>\n      <td>0</td>\n      <td>0</td>\n      <td>0</td>\n      <td>0</td>\n    </tr>\n    <tr>\n      <th>3</th>\n      <td>33</td>\n      <td>No</td>\n      <td>Travel_Frequently</td>\n      <td>1392</td>\n      <td>Research &amp; Development</td>\n      <td>3</td>\n      <td>4</td>\n      <td>Life Sciences</td>\n      <td>1</td>\n      <td>5</td>\n      <td>...</td>\n      <td>3</td>\n      <td>80</td>\n      <td>0</td>\n      <td>8</td>\n      <td>3</td>\n      <td>3</td>\n      <td>8</td>\n      <td>7</td>\n      <td>3</td>\n      <td>0</td>\n    </tr>\n    <tr>\n      <th>4</th>\n      <td>27</td>\n      <td>No</td>\n      <td>Travel_Rarely</td>\n      <td>591</td>\n      <td>Research &amp; Development</td>\n      <td>2</td>\n      <td>1</td>\n      <td>Medical</td>\n      <td>1</td>\n      <td>7</td>\n      <td>...</td>\n      <td>4</td>\n      <td>80</td>\n      <td>1</td>\n      <td>6</td>\n      <td>3</td>\n      <td>3</td>\n      <td>2</td>\n      <td>2</td>\n      <td>2</td>\n      <td>2</td>\n    </tr>\n  </tbody>\n</table>\n<p>5 rows × 35 columns</p>\n</div>"
     },
     "metadata": {},
     "execution_count": 2
    }
   ],
   "source": [
    "# Read csv file and display sample data\n",
    "employee = pd.read_csv('Employee-Attrition.csv')\n",
    "employee.head()"
   ]
  },
  {
   "cell_type": "code",
   "execution_count": 3,
   "metadata": {},
   "outputs": [
    {
     "output_type": "execute_result",
     "data": {
      "text/plain": "   Age  Attrition     BusinessTravel  DailyRate              Department  \\\n0   41          1      Travel_Rarely       1102                   Sales   \n1   49          0  Travel_Frequently        279  Research & Development   \n2   37          1      Travel_Rarely       1373  Research & Development   \n3   33          0  Travel_Frequently       1392  Research & Development   \n4   27          0      Travel_Rarely        591  Research & Development   \n\n   DistanceFromHome  Education EducationField  EmployeeCount  EmployeeNumber  \\\n0                 1          2  Life Sciences              1               1   \n1                 8          1  Life Sciences              1               2   \n2                 2          2          Other              1               4   \n3                 3          4  Life Sciences              1               5   \n4                 2          1        Medical              1               7   \n\n   ...  PerformanceRating  RelationshipSatisfaction  StockOptionLevel  \\\n0  ...                  3                         1                 0   \n1  ...                  4                         4                 1   \n2  ...                  3                         2                 0   \n3  ...                  3                         3                 0   \n4  ...                  3                         4                 1   \n\n   TotalWorkingYears  TrainingTimesLastYear WorkLifeBalance  YearsAtCompany  \\\n0                  8                      0               1               6   \n1                 10                      3               3              10   \n2                  7                      3               3               0   \n3                  8                      3               3               8   \n4                  6                      3               3               2   \n\n  YearsInCurrentRole  YearsSinceLastPromotion  YearsWithCurrManager  \n0                  4                        0                     5  \n1                  7                        1                     7  \n2                  0                        0                     0  \n3                  7                        3                     0  \n4                  2                        2                     2  \n\n[5 rows x 33 columns]",
      "text/html": "<div>\n<style scoped>\n    .dataframe tbody tr th:only-of-type {\n        vertical-align: middle;\n    }\n\n    .dataframe tbody tr th {\n        vertical-align: top;\n    }\n\n    .dataframe thead th {\n        text-align: right;\n    }\n</style>\n<table border=\"1\" class=\"dataframe\">\n  <thead>\n    <tr style=\"text-align: right;\">\n      <th></th>\n      <th>Age</th>\n      <th>Attrition</th>\n      <th>BusinessTravel</th>\n      <th>DailyRate</th>\n      <th>Department</th>\n      <th>DistanceFromHome</th>\n      <th>Education</th>\n      <th>EducationField</th>\n      <th>EmployeeCount</th>\n      <th>EmployeeNumber</th>\n      <th>...</th>\n      <th>PerformanceRating</th>\n      <th>RelationshipSatisfaction</th>\n      <th>StockOptionLevel</th>\n      <th>TotalWorkingYears</th>\n      <th>TrainingTimesLastYear</th>\n      <th>WorkLifeBalance</th>\n      <th>YearsAtCompany</th>\n      <th>YearsInCurrentRole</th>\n      <th>YearsSinceLastPromotion</th>\n      <th>YearsWithCurrManager</th>\n    </tr>\n  </thead>\n  <tbody>\n    <tr>\n      <th>0</th>\n      <td>41</td>\n      <td>1</td>\n      <td>Travel_Rarely</td>\n      <td>1102</td>\n      <td>Sales</td>\n      <td>1</td>\n      <td>2</td>\n      <td>Life Sciences</td>\n      <td>1</td>\n      <td>1</td>\n      <td>...</td>\n      <td>3</td>\n      <td>1</td>\n      <td>0</td>\n      <td>8</td>\n      <td>0</td>\n      <td>1</td>\n      <td>6</td>\n      <td>4</td>\n      <td>0</td>\n      <td>5</td>\n    </tr>\n    <tr>\n      <th>1</th>\n      <td>49</td>\n      <td>0</td>\n      <td>Travel_Frequently</td>\n      <td>279</td>\n      <td>Research &amp; Development</td>\n      <td>8</td>\n      <td>1</td>\n      <td>Life Sciences</td>\n      <td>1</td>\n      <td>2</td>\n      <td>...</td>\n      <td>4</td>\n      <td>4</td>\n      <td>1</td>\n      <td>10</td>\n      <td>3</td>\n      <td>3</td>\n      <td>10</td>\n      <td>7</td>\n      <td>1</td>\n      <td>7</td>\n    </tr>\n    <tr>\n      <th>2</th>\n      <td>37</td>\n      <td>1</td>\n      <td>Travel_Rarely</td>\n      <td>1373</td>\n      <td>Research &amp; Development</td>\n      <td>2</td>\n      <td>2</td>\n      <td>Other</td>\n      <td>1</td>\n      <td>4</td>\n      <td>...</td>\n      <td>3</td>\n      <td>2</td>\n      <td>0</td>\n      <td>7</td>\n      <td>3</td>\n      <td>3</td>\n      <td>0</td>\n      <td>0</td>\n      <td>0</td>\n      <td>0</td>\n    </tr>\n    <tr>\n      <th>3</th>\n      <td>33</td>\n      <td>0</td>\n      <td>Travel_Frequently</td>\n      <td>1392</td>\n      <td>Research &amp; Development</td>\n      <td>3</td>\n      <td>4</td>\n      <td>Life Sciences</td>\n      <td>1</td>\n      <td>5</td>\n      <td>...</td>\n      <td>3</td>\n      <td>3</td>\n      <td>0</td>\n      <td>8</td>\n      <td>3</td>\n      <td>3</td>\n      <td>8</td>\n      <td>7</td>\n      <td>3</td>\n      <td>0</td>\n    </tr>\n    <tr>\n      <th>4</th>\n      <td>27</td>\n      <td>0</td>\n      <td>Travel_Rarely</td>\n      <td>591</td>\n      <td>Research &amp; Development</td>\n      <td>2</td>\n      <td>1</td>\n      <td>Medical</td>\n      <td>1</td>\n      <td>7</td>\n      <td>...</td>\n      <td>3</td>\n      <td>4</td>\n      <td>1</td>\n      <td>6</td>\n      <td>3</td>\n      <td>3</td>\n      <td>2</td>\n      <td>2</td>\n      <td>2</td>\n      <td>2</td>\n    </tr>\n  </tbody>\n</table>\n<p>5 rows × 33 columns</p>\n</div>"
     },
     "metadata": {},
     "execution_count": 3
    }
   ],
   "source": [
    "# Remove uncecessary columns and code binary ones Yes = 1 | No = 0\n",
    "employee[\"Attrition\"] = employee[\"Attrition\"].eq('Yes').mul(1)\n",
    "employee[\"OverTime\"] = employee[\"OverTime\"].eq('Yes').mul(1)\n",
    "employee[\"Gender\"] = employee[\"Gender\"].eq('Female').mul(1)\n",
    "# Remove unwanted columns\n",
    "employee = employee.drop([\"Over18\",\"StandardHours\"], axis = 1)\n",
    "employee.head()"
   ]
  },
  {
   "cell_type": "code",
   "execution_count": 4,
   "metadata": {
    "tags": []
   },
   "outputs": [],
   "source": [
    "# change columns to numbers in order to analyze the data\n",
    "import numpy as np\n",
    "# Select those categorical columns to map themo to dummy values\n",
    "encoder = employee[[\"BusinessTravel\", \"Department\",\"EducationField\",\"JobRole\",\"MaritalStatus\"]]\n",
    "dum_employee = pd.get_dummies(encoder, prefix=\"DUM\")\n",
    "# join with original data\n",
    "employee = employee.join(dum_employee,lsuffix=\"EMP\")\n"
   ]
  },
  {
   "cell_type": "code",
   "execution_count": 5,
   "metadata": {
    "tags": []
   },
   "outputs": [
    {
     "output_type": "stream",
     "name": "stdout",
     "text": "Age  Attrition     BusinessTravel  DailyRate              Department  \\\n0   41          1      Travel_Rarely       1102                   Sales   \n1   49          0  Travel_Frequently        279  Research & Development   \n2   37          1      Travel_Rarely       1373  Research & Development   \n3   33          0  Travel_Frequently       1392  Research & Development   \n4   27          0      Travel_Rarely        591  Research & Development   \n\n   DistanceFromHome  Education EducationField  EmployeeCount  EmployeeNumber  \\\n0                 1          2  Life Sciences              1               1   \n1                 8          1  Life Sciences              1               2   \n2                 2          2          Other              1               4   \n3                 3          4  Life Sciences              1               5   \n4                 2          1        Medical              1               7   \n\n   ...  DUM_Laboratory Technician  DUM_Manager  DUM_Manufacturing Director  \\\n0  ...                          0            0                           0   \n1  ...                          0            0                           0   \n2  ...                          1            0                           0   \n3  ...                          0            0                           0   \n4  ...                          1            0                           0   \n\n   DUM_Research Director  DUM_Research Scientist DUM_Sales Executive  \\\n0                      0                       0                   1   \n1                      0                       1                   0   \n2                      0                       0                   0   \n3                      0                       1                   0   \n4                      0                       0                   0   \n\n   DUM_Sales Representative DUM_Divorced  DUM_Married  DUM_Single  \n0                         0            0            0           1  \n1                         0            0            1           0  \n2                         0            0            0           1  \n3                         0            0            1           0  \n4                         0            0            1           0  \n\n[5 rows x 57 columns]\n   Age  Attrition  DailyRate  DistanceFromHome  Education  EmployeeCount  \\\n0   41          1       1102                 1          2              1   \n1   49          0        279                 8          1              1   \n2   37          1       1373                 2          2              1   \n3   33          0       1392                 3          4              1   \n4   27          0        591                 2          1              1   \n\n   EmployeeNumber  EnvironmentSatisfaction  Gender  HourlyRate  ...  \\\n0               1                        2       1          94  ...   \n1               2                        3       0          61  ...   \n2               4                        4       0          92  ...   \n3               5                        4       1          56  ...   \n4               7                        1       0          40  ...   \n\n   DUM_Laboratory Technician  DUM_Manager  DUM_Manufacturing Director  \\\n0                          0            0                           0   \n1                          0            0                           0   \n2                          1            0                           0   \n3                          0            0                           0   \n4                          1            0                           0   \n\n   DUM_Research Director  DUM_Research Scientist  DUM_Sales Executive  \\\n0                      0                       0                    1   \n1                      0                       1                    0   \n2                      0                       0                    0   \n3                      0                       1                    0   \n4                      0                       0                    0   \n\n   DUM_Sales Representative  DUM_Divorced  DUM_Married  DUM_Single  \n0                         0             0            0           1  \n1                         0             0            1           0  \n2                         0             0            0           1  \n3                         0             0            1           0  \n4                         0             0            1           0  \n\n[5 rows x 52 columns]\nIndex(['Age', 'Attrition', 'DailyRate', 'DistanceFromHome', 'Education',\n       'EmployeeCount', 'EmployeeNumber', 'EnvironmentSatisfaction', 'Gender',\n       'HourlyRate', 'JobInvolvement', 'JobLevel', 'JobSatisfaction',\n       'MonthlyIncome', 'MonthlyRate', 'NumCompaniesWorked', 'OverTime',\n       'PercentSalaryHike', 'PerformanceRating', 'RelationshipSatisfaction',\n       'StockOptionLevel', 'TotalWorkingYears', 'TrainingTimesLastYear',\n       'WorkLifeBalance', 'YearsAtCompany', 'YearsInCurrentRole',\n       'YearsSinceLastPromotion', 'YearsWithCurrManager', 'DUM_Non-Travel',\n       'DUM_Travel_Frequently', 'DUM_Travel_Rarely', 'DUM_Human Resources',\n       'DUM_Research & Development', 'DUM_Sales', 'DUM_Human Resources',\n       'DUM_Life Sciences', 'DUM_Marketing', 'DUM_Medical', 'DUM_Other',\n       'DUM_Technical Degree', 'DUM_Healthcare Representative',\n       'DUM_Human Resources', 'DUM_Laboratory Technician', 'DUM_Manager',\n       'DUM_Manufacturing Director', 'DUM_Research Director',\n       'DUM_Research Scientist', 'DUM_Sales Executive',\n       'DUM_Sales Representative', 'DUM_Divorced', 'DUM_Married',\n       'DUM_Single'],\n      dtype='object')\n"
    }
   ],
   "source": [
    "print(employee.head())\n",
    "# Remove categorical columns. We already have them with dummy values\n",
    "employee = employee.drop([\"BusinessTravel\",\"Department\",\"EducationField\",\"JobRole\",\"MaritalStatus\"], axis = 1)\n",
    "print(employee.head())\n",
    "print(employee.columns)"
   ]
  },
  {
   "cell_type": "code",
   "execution_count": 6,
   "metadata": {},
   "outputs": [],
   "source": [
    "# Y -> outcome\n",
    "target = employee[\"Attrition\"]\n",
    "target_names = [\"Yes\", \"No\"]"
   ]
  },
  {
   "cell_type": "code",
   "execution_count": 7,
   "metadata": {
    "tags": []
   },
   "outputs": [
    {
     "output_type": "stream",
     "name": "stdout",
     "text": "Index(['Age', 'DailyRate', 'DistanceFromHome', 'Education', 'EmployeeCount',\n       'EmployeeNumber', 'EnvironmentSatisfaction', 'Gender', 'HourlyRate',\n       'JobInvolvement', 'JobLevel', 'JobSatisfaction', 'MonthlyIncome',\n       'MonthlyRate', 'NumCompaniesWorked', 'OverTime', 'PercentSalaryHike',\n       'PerformanceRating', 'RelationshipSatisfaction', 'StockOptionLevel',\n       'TotalWorkingYears', 'TrainingTimesLastYear', 'WorkLifeBalance',\n       'YearsAtCompany', 'YearsInCurrentRole', 'YearsSinceLastPromotion',\n       'YearsWithCurrManager', 'DUM_Non-Travel', 'DUM_Travel_Frequently',\n       'DUM_Travel_Rarely', 'DUM_Human Resources',\n       'DUM_Research & Development', 'DUM_Sales', 'DUM_Human Resources',\n       'DUM_Life Sciences', 'DUM_Marketing', 'DUM_Medical', 'DUM_Other',\n       'DUM_Technical Degree', 'DUM_Healthcare Representative',\n       'DUM_Human Resources', 'DUM_Laboratory Technician', 'DUM_Manager',\n       'DUM_Manufacturing Director', 'DUM_Research Director',\n       'DUM_Research Scientist', 'DUM_Sales Executive',\n       'DUM_Sales Representative', 'DUM_Divorced', 'DUM_Married',\n       'DUM_Single'],\n      dtype='object')\n"
    },
    {
     "output_type": "execute_result",
     "data": {
      "text/plain": "   Age  DailyRate  DistanceFromHome  Education  EmployeeCount  EmployeeNumber  \\\n0   41       1102                 1          2              1               1   \n1   49        279                 8          1              1               2   \n2   37       1373                 2          2              1               4   \n3   33       1392                 3          4              1               5   \n4   27        591                 2          1              1               7   \n\n   EnvironmentSatisfaction  Gender  HourlyRate  JobInvolvement  ...  \\\n0                        2       1          94               3  ...   \n1                        3       0          61               2  ...   \n2                        4       0          92               2  ...   \n3                        4       1          56               3  ...   \n4                        1       0          40               3  ...   \n\n   DUM_Laboratory Technician  DUM_Manager  DUM_Manufacturing Director  \\\n0                          0            0                           0   \n1                          0            0                           0   \n2                          1            0                           0   \n3                          0            0                           0   \n4                          1            0                           0   \n\n   DUM_Research Director  DUM_Research Scientist  DUM_Sales Executive  \\\n0                      0                       0                    1   \n1                      0                       1                    0   \n2                      0                       0                    0   \n3                      0                       1                    0   \n4                      0                       0                    0   \n\n   DUM_Sales Representative  DUM_Divorced  DUM_Married  DUM_Single  \n0                         0             0            0           1  \n1                         0             0            1           0  \n2                         0             0            0           1  \n3                         0             0            1           0  \n4                         0             0            1           0  \n\n[5 rows x 51 columns]",
      "text/html": "<div>\n<style scoped>\n    .dataframe tbody tr th:only-of-type {\n        vertical-align: middle;\n    }\n\n    .dataframe tbody tr th {\n        vertical-align: top;\n    }\n\n    .dataframe thead th {\n        text-align: right;\n    }\n</style>\n<table border=\"1\" class=\"dataframe\">\n  <thead>\n    <tr style=\"text-align: right;\">\n      <th></th>\n      <th>Age</th>\n      <th>DailyRate</th>\n      <th>DistanceFromHome</th>\n      <th>Education</th>\n      <th>EmployeeCount</th>\n      <th>EmployeeNumber</th>\n      <th>EnvironmentSatisfaction</th>\n      <th>Gender</th>\n      <th>HourlyRate</th>\n      <th>JobInvolvement</th>\n      <th>...</th>\n      <th>DUM_Laboratory Technician</th>\n      <th>DUM_Manager</th>\n      <th>DUM_Manufacturing Director</th>\n      <th>DUM_Research Director</th>\n      <th>DUM_Research Scientist</th>\n      <th>DUM_Sales Executive</th>\n      <th>DUM_Sales Representative</th>\n      <th>DUM_Divorced</th>\n      <th>DUM_Married</th>\n      <th>DUM_Single</th>\n    </tr>\n  </thead>\n  <tbody>\n    <tr>\n      <th>0</th>\n      <td>41</td>\n      <td>1102</td>\n      <td>1</td>\n      <td>2</td>\n      <td>1</td>\n      <td>1</td>\n      <td>2</td>\n      <td>1</td>\n      <td>94</td>\n      <td>3</td>\n      <td>...</td>\n      <td>0</td>\n      <td>0</td>\n      <td>0</td>\n      <td>0</td>\n      <td>0</td>\n      <td>1</td>\n      <td>0</td>\n      <td>0</td>\n      <td>0</td>\n      <td>1</td>\n    </tr>\n    <tr>\n      <th>1</th>\n      <td>49</td>\n      <td>279</td>\n      <td>8</td>\n      <td>1</td>\n      <td>1</td>\n      <td>2</td>\n      <td>3</td>\n      <td>0</td>\n      <td>61</td>\n      <td>2</td>\n      <td>...</td>\n      <td>0</td>\n      <td>0</td>\n      <td>0</td>\n      <td>0</td>\n      <td>1</td>\n      <td>0</td>\n      <td>0</td>\n      <td>0</td>\n      <td>1</td>\n      <td>0</td>\n    </tr>\n    <tr>\n      <th>2</th>\n      <td>37</td>\n      <td>1373</td>\n      <td>2</td>\n      <td>2</td>\n      <td>1</td>\n      <td>4</td>\n      <td>4</td>\n      <td>0</td>\n      <td>92</td>\n      <td>2</td>\n      <td>...</td>\n      <td>1</td>\n      <td>0</td>\n      <td>0</td>\n      <td>0</td>\n      <td>0</td>\n      <td>0</td>\n      <td>0</td>\n      <td>0</td>\n      <td>0</td>\n      <td>1</td>\n    </tr>\n    <tr>\n      <th>3</th>\n      <td>33</td>\n      <td>1392</td>\n      <td>3</td>\n      <td>4</td>\n      <td>1</td>\n      <td>5</td>\n      <td>4</td>\n      <td>1</td>\n      <td>56</td>\n      <td>3</td>\n      <td>...</td>\n      <td>0</td>\n      <td>0</td>\n      <td>0</td>\n      <td>0</td>\n      <td>1</td>\n      <td>0</td>\n      <td>0</td>\n      <td>0</td>\n      <td>1</td>\n      <td>0</td>\n    </tr>\n    <tr>\n      <th>4</th>\n      <td>27</td>\n      <td>591</td>\n      <td>2</td>\n      <td>1</td>\n      <td>1</td>\n      <td>7</td>\n      <td>1</td>\n      <td>0</td>\n      <td>40</td>\n      <td>3</td>\n      <td>...</td>\n      <td>1</td>\n      <td>0</td>\n      <td>0</td>\n      <td>0</td>\n      <td>0</td>\n      <td>0</td>\n      <td>0</td>\n      <td>0</td>\n      <td>1</td>\n      <td>0</td>\n    </tr>\n  </tbody>\n</table>\n<p>5 rows × 51 columns</p>\n</div>"
     },
     "metadata": {},
     "execution_count": 7
    }
   ],
   "source": [
    "# x -> variables\n",
    "# Get all columns except the one we want to predict\n",
    "data = employee.drop([\"Attrition\"], axis=1)\n",
    "feature_names = data.columns\n",
    "print(feature_names)\n",
    "data.head()"
   ]
  },
  {
   "cell_type": "code",
   "execution_count": 8,
   "metadata": {},
   "outputs": [],
   "source": [
    "# Split the data using train_test_split\n",
    "from sklearn.model_selection import train_test_split\n",
    "# Split data into train and test\n",
    "X_train, X_test, y_train, y_test = train_test_split(data,target, random_state=10)"
   ]
  },
  {
   "cell_type": "code",
   "execution_count": 15,
   "metadata": {
    "tags": []
   },
   "outputs": [
    {
     "output_type": "stream",
     "name": "stdout",
     "text": "================================\nEstimators: 100\nTrain score: 1.0\nTest score: 0.8369565217391305\n================================\nEstimators: 200\nTrain score: 1.0\nTest score: 0.8369565217391305\n================================\nEstimators: 300\nTrain score: 1.0\nTest score: 0.8369565217391305\n================================\nEstimators: 400\nTrain score: 1.0\nTest score: 0.8396739130434783\n================================\nEstimators: 500\nTrain score: 1.0\nTest score: 0.8396739130434783\n================================\nEstimators: 600\nTrain score: 1.0\nTest score: 0.8396739130434783\n================================\nEstimators: 700\nTrain score: 1.0\nTest score: 0.8396739130434783\n================================\nEstimators: 800\nTrain score: 1.0\nTest score: 0.8396739130434783\n================================\nEstimators: 900\nTrain score: 1.0\nTest score: 0.8396739130434783\n"
    }
   ],
   "source": [
    "# Create, fit, and score a Random Forest Classifier\n",
    "from sklearn.ensemble import RandomForestClassifier\n",
    "# Generate forest models from 100 to 1,000 each with 100 increase in estimators\n",
    "# i.e. model 1 = 100, model 2 = 200, model 3 = 300, etc\n",
    "for i in range(100,1000,100):\n",
    "    print(\"================================\")\n",
    "    rf = RandomForestClassifier(n_estimators=i)\n",
    "    rf = rf.fit(X_train, y_train)\n",
    "    # print scores for each model\n",
    "    print(f\"Estimators: {i}\")\n",
    "    print(f\"Train score: {rf.score(X_train,y_train)}\")\n",
    "    print(f\"Test score: {rf.score(X_test,y_test)}\")\n",
    "\n"
   ]
  },
  {
   "cell_type": "code",
   "execution_count": 29,
   "metadata": {},
   "outputs": [
    {
     "output_type": "execute_result",
     "data": {
      "text/plain": "[(6.8814280874652605, 'MonthlyIncome'),\n (5.3882320890606215, 'Age'),\n (4.965774111854274, 'DailyRate'),\n (4.808785563236375, 'EmployeeNumber'),\n (4.629289735925777, 'TotalWorkingYears'),\n (4.606174246898445, 'HourlyRate'),\n (4.525713658110499, 'MonthlyRate'),\n (4.492123788509902, 'OverTime'),\n (4.309212122319542, 'DistanceFromHome'),\n (4.023484343248683, 'YearsAtCompany'),\n (3.4551987041226084, 'PercentSalaryHike'),\n (3.0145727877362685, 'NumCompaniesWorked'),\n (2.8674719897628935, 'JobSatisfaction'),\n (2.794410289548614, 'EnvironmentSatisfaction'),\n (2.751403305129681, 'YearsWithCurrManager'),\n (2.7361093856523797, 'StockOptionLevel'),\n (2.439302727031132, 'TrainingTimesLastYear'),\n (2.3817922538826184, 'YearsInCurrentRole'),\n (2.381371037864502, 'WorkLifeBalance'),\n (2.3069331153805277, 'JobInvolvement'),\n (2.2729711120861924, 'YearsSinceLastPromotion'),\n (2.2261626760611417, 'RelationshipSatisfaction'),\n (2.085786830462156, 'JobLevel'),\n (1.8123844246688898, 'Education'),\n (1.7948992800401096, 'DUM_Single'),\n (1.3081779158388454, 'DUM_Travel_Frequently'),\n (0.9203903769106028, 'DUM_Laboratory Technician'),\n (0.8837248226765987, 'DUM_Sales'),\n (0.8182032622261668, 'DUM_Marketing'),\n (0.8091958434221306, 'Gender'),\n (0.7985118575673485, 'DUM_Travel_Rarely'),\n (0.7677830242988224, 'DUM_Married'),\n (0.7548447358449052, 'DUM_Medical'),\n (0.7413900637643218, 'DUM_Sales Executive'),\n (0.7323105225462013, 'DUM_Research & Development'),\n (0.7128823970094096, 'DUM_Life Sciences'),\n (0.6568110580841083, 'DUM_Technical Degree'),\n (0.6208535879887195, 'DUM_Research Scientist'),\n (0.5747084113300315, 'DUM_Sales Representative'),\n (0.5638625530425384, 'DUM_Divorced'),\n (0.5006016211782388, 'PerformanceRating'),\n (0.37714768564597345, 'DUM_Non-Travel'),\n (0.3330562315732503, 'DUM_Manufacturing Director'),\n (0.23872092939794484, 'DUM_Healthcare Representative'),\n (0.21991601796161325, 'DUM_Other'),\n (0.16812297810419835, 'DUM_Human Resources'),\n (0.1601580890683599, 'DUM_Human Resources'),\n (0.15695301427661504, 'DUM_Human Resources'),\n (0.1503775715467855, 'DUM_Manager'),\n (0.08030776263717898, 'DUM_Research Director'),\n (0.0, 'EmployeeCount')]"
     },
     "metadata": {},
     "execution_count": 29
    }
   ],
   "source": [
    "import math\n",
    "importances = rf.feature_importances_\n",
    "# sort features by importance (here, we have results for last model)\n",
    "sorted (zip((importances*100),feature_names),reverse = True)"
   ]
  },
  {
   "cell_type": "code",
   "execution_count": null,
   "metadata": {},
   "outputs": [],
   "source": []
  }
 ],
 "metadata": {
  "kernelspec": {
   "display_name": "Python 3.6.10 64-bit ('MachLeanPy36': conda)",
   "language": "python",
   "name": "python_defaultSpec_1596413260692"
  },
  "language_info": {
   "codemirror_mode": {
    "name": "ipython",
    "version": 3
   },
   "file_extension": ".py",
   "mimetype": "text/x-python",
   "name": "python",
   "nbconvert_exporter": "python",
   "pygments_lexer": "ipython3",
   "version": "3.6.10-final"
  },
  "varInspector": {
   "cols": {
    "lenName": 16,
    "lenType": 16,
    "lenVar": 40
   },
   "kernels_config": {
    "python": {
     "delete_cmd_postfix": "",
     "delete_cmd_prefix": "del ",
     "library": "var_list.py",
     "varRefreshCmd": "print(var_dic_list())"
    },
    "r": {
     "delete_cmd_postfix": ") ",
     "delete_cmd_prefix": "rm(",
     "library": "var_list.r",
     "varRefreshCmd": "cat(var_dic_list()) "
    }
   },
   "types_to_exclude": [
    "module",
    "function",
    "builtin_function_or_method",
    "instance",
    "_Feature"
   ],
   "window_display": false
  }
 },
 "nbformat": 4,
 "nbformat_minor": 2
}