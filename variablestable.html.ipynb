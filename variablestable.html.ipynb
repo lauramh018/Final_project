{
 "cells": [
  {
   "cell_type": "markdown",
   "metadata": {},
   "source": [
    "Student: Jorge Alberto Muñozcano Castro\n",
    "Web-Development-Challegn: Latitude Dashboard"
   ]
  },
  {
   "cell_type": "code",
   "execution_count": 1,
   "metadata": {},
   "outputs": [],
   "source": [
    "import pandas as pd"
   ]
  },
  {
   "cell_type": "code",
   "execution_count": 3,
   "metadata": {},
   "outputs": [
    {
     "data": {
      "text/html": [
       "<div>\n",
       "<style scoped>\n",
       "    .dataframe tbody tr th:only-of-type {\n",
       "        vertical-align: middle;\n",
       "    }\n",
       "\n",
       "    .dataframe tbody tr th {\n",
       "        vertical-align: top;\n",
       "    }\n",
       "\n",
       "    .dataframe thead th {\n",
       "        text-align: right;\n",
       "    }\n",
       "</style>\n",
       "<table border=\"1\" class=\"dataframe\">\n",
       "  <thead>\n",
       "    <tr style=\"text-align: right;\">\n",
       "      <th></th>\n",
       "      <th>Column</th>\n",
       "      <th>Datatype</th>\n",
       "      <th>Description</th>\n",
       "    </tr>\n",
       "  </thead>\n",
       "  <tbody>\n",
       "    <tr>\n",
       "      <th>0</th>\n",
       "      <td>AGE</td>\n",
       "      <td>INTEGER</td>\n",
       "      <td>EMPLOYEE AGE</td>\n",
       "    </tr>\n",
       "    <tr>\n",
       "      <th>1</th>\n",
       "      <td>ATTRITION</td>\n",
       "      <td>STRING</td>\n",
       "      <td>EMPLOYEE LEAVING THE COMPANY 0=NO 1=YES</td>\n",
       "    </tr>\n",
       "    <tr>\n",
       "      <th>2</th>\n",
       "      <td>BUSINESS TRAVEL</td>\n",
       "      <td>STRING</td>\n",
       "      <td>NO TRAVEL, TRAVEL FREQUENTLY, TRAVEL RARELY</td>\n",
       "    </tr>\n",
       "    <tr>\n",
       "      <th>3</th>\n",
       "      <td>DAILY RATE</td>\n",
       "      <td>INTEGER</td>\n",
       "      <td>SALARY LEVEL (USD)</td>\n",
       "    </tr>\n",
       "    <tr>\n",
       "      <th>4</th>\n",
       "      <td>DEPARTMENT</td>\n",
       "      <td>STRING</td>\n",
       "      <td>(HR, Research &amp; Development, Sales)</td>\n",
       "    </tr>\n",
       "  </tbody>\n",
       "</table>\n",
       "</div>"
      ],
      "text/plain": [
       "            Column Datatype                                  Description\n",
       "0              AGE  INTEGER                                 EMPLOYEE AGE\n",
       "1        ATTRITION   STRING      EMPLOYEE LEAVING THE COMPANY 0=NO 1=YES\n",
       "2  BUSINESS TRAVEL   STRING  NO TRAVEL, TRAVEL FREQUENTLY, TRAVEL RARELY\n",
       "3       DAILY RATE  INTEGER                           SALARY LEVEL (USD)\n",
       "4       DEPARTMENT   STRING          (HR, Research & Development, Sales)"
      ]
     },
     "execution_count": 3,
     "metadata": {},
     "output_type": "execute_result"
    }
   ],
   "source": [
    "att1 = pd.read_csv('tabla1.csv')\n",
    "att1.head()"
   ]
  },
  {
   "cell_type": "code",
   "execution_count": 5,
   "metadata": {},
   "outputs": [
    {
     "data": {
      "text/plain": [
       "'<table border=\"1\" class=\"dataframe\">\\n  <thead>\\n    <tr style=\"text-align: right;\">\\n      <th></th>\\n      <th>Column</th>\\n      <th>Datatype</th>\\n      <th>Description</th>\\n    </tr>\\n  </thead>\\n  <tbody>\\n    <tr>\\n      <th>0</th>\\n      <td>AGE</td>\\n      <td>INTEGER</td>\\n      <td>EMPLOYEE AGE</td>\\n    </tr>\\n    <tr>\\n      <th>1</th>\\n      <td>ATTRITION</td>\\n      <td>STRING</td>\\n      <td>EMPLOYEE LEAVING THE COMPANY 0=NO 1=YES</td>\\n    </tr>\\n    <tr>\\n      <th>2</th>\\n      <td>BUSINESS TRAVEL</td>\\n      <td>STRING</td>\\n      <td>NO TRAVEL, TRAVEL FREQUENTLY, TRAVEL RARELY</td>\\n    </tr>\\n    <tr>\\n      <th>3</th>\\n      <td>DAILY RATE</td>\\n      <td>INTEGER</td>\\n      <td>SALARY LEVEL (USD)</td>\\n    </tr>\\n    <tr>\\n      <th>4</th>\\n      <td>DEPARTMENT</td>\\n      <td>STRING</td>\\n      <td>(HR, Research &amp; Development, Sales)</td>\\n    </tr>\\n    <tr>\\n      <th>5</th>\\n      <td>DISTANCE FROM HOME</td>\\n      <td>INTEGER</td>\\n      <td>THE DISTANCE FROM WORK TO HOME</td>\\n    </tr>\\n    <tr>\\n      <th>6</th>\\n      <td>EDUCATION</td>\\n      <td>INTEGER</td>\\n      <td>1-Below College, 2-College, 3-Bachelor, 4-Master,5-Doctor</td>\\n    </tr>\\n    <tr>\\n      <th>7</th>\\n      <td>EDUCATION FIELD</td>\\n      <td>STRING</td>\\n      <td>1=HR, 2=LIFE SCIENCES, 3=MARKETING, 4=MEDICAL SCIENCES, 5=OTHERS, 6= TEHCNICAL</td>\\n    </tr>\\n    <tr>\\n      <th>8</th>\\n      <td>EMPLOYEE NUMBER</td>\\n      <td>INTEGER</td>\\n      <td>EMPLOYEE ID</td>\\n    </tr>\\n    <tr>\\n      <th>9</th>\\n      <td>ENVIROMENT SATISFACTION</td>\\n      <td>INTEGER</td>\\n      <td>SATISFACTION WITH THE ENVIROMENT: 1-Low, 2-Medium, 3-High, 4-Very High</td>\\n    </tr>\\n    <tr>\\n      <th>10</th>\\n      <td>GENDER</td>\\n      <td>STRING</td>\\n      <td>FEMALE, MALE</td>\\n    </tr>\\n    <tr>\\n      <th>11</th>\\n      <td>HOURLY RATE</td>\\n      <td>INTEGER</td>\\n      <td>HOURLY SALARY</td>\\n    </tr>\\n    <tr>\\n      <th>12</th>\\n      <td>JOB INVOLVEMENT</td>\\n      <td>INTEGER</td>\\n      <td>JOB INVOLVEMENT</td>\\n    </tr>\\n    <tr>\\n      <th>13</th>\\n      <td>JOB LEVEL</td>\\n      <td>INTEGER</td>\\n      <td>LEVEL OF JOB</td>\\n    </tr>\\n    <tr>\\n      <th>14</th>\\n      <td>JOB ROLE</td>\\n      <td>STRING</td>\\n      <td>(1=HC REP, 2=HR, 3=LAB TECHNICIAN, 4=MANAGER, 5= MANAGING DIRECTOR, 6= REASEARCH DIRECTOR, 7= RESEARCH SCIENTIST, 8=SALES EXECUTIEVE, 9= SALES REPRESENTATIVE)</td>\\n    </tr>\\n    <tr>\\n      <th>15</th>\\n      <td>JOB SATISFACTION</td>\\n      <td>INTEGER</td>\\n      <td>1-LOW, 2-MEDIUM, 3-HIGH, 4-VERY HIGH</td>\\n    </tr>\\n    <tr>\\n      <th>16</th>\\n      <td>MARITAL STATUS</td>\\n      <td>STRING</td>\\n      <td>DIVORCED, MARRIED, SINGLE</td>\\n    </tr>\\n    <tr>\\n      <th>17</th>\\n      <td>MONTHLY INCOME</td>\\n      <td>INTEGER</td>\\n      <td>MONTHLY SALARY (USD)</td>\\n    </tr>\\n    <tr>\\n      <th>18</th>\\n      <td>MONTHY RATE</td>\\n      <td>INTEGER</td>\\n      <td>MONTHLY RATE (USD)</td>\\n    </tr>\\n    <tr>\\n      <th>19</th>\\n      <td>NUMCOMPANIES WORKED</td>\\n      <td>INTEGER</td>\\n      <td>NO. OF COMPANIES WORKED AT</td>\\n    </tr>\\n    <tr>\\n      <th>20</th>\\n      <td>OVERTIME</td>\\n      <td>STRING</td>\\n      <td>(NO,YES)</td>\\n    </tr>\\n    <tr>\\n      <th>21</th>\\n      <td>PERCENT SALARY HIKE</td>\\n      <td>INTEGER</td>\\n      <td>PERCENTAGE INCREASE IN SALARY</td>\\n    </tr>\\n    <tr>\\n      <th>22</th>\\n      <td>PERFORMANCE RATING</td>\\n      <td>INTEGER</td>\\n      <td>1 LOW, 2 GOOD, 3 EXCELLENT, 4 OUTSTANDING</td>\\n    </tr>\\n    <tr>\\n      <th>23</th>\\n      <td>RELATIONS SATISFACTION</td>\\n      <td>INTEGER</td>\\n      <td>1 LOW, 2 MEDIUM, 3 HIGH, 4 VERY HIGH</td>\\n    </tr>\\n    <tr>\\n      <th>24</th>\\n      <td>STANDARD HOURS</td>\\n      <td>INTEGER</td>\\n      <td>STANDARD HOURS</td>\\n    </tr>\\n    <tr>\\n      <th>25</th>\\n      <td>STOCK OPTIONS LEVEL</td>\\n      <td>INTEGER</td>\\n      <td>STOCK OPTIONS</td>\\n    </tr>\\n    <tr>\\n      <th>26</th>\\n      <td>TOTAL WORKING YEARS</td>\\n      <td>INTEGER</td>\\n      <td>TOTAL YEARS WORKED</td>\\n    </tr>\\n    <tr>\\n      <th>27</th>\\n      <td>TRAINING TIMES LAST YEAR</td>\\n      <td>INTEGER</td>\\n      <td>TOTAL TRAINNING TIMES LAST YEAR</td>\\n    </tr>\\n    <tr>\\n      <th>28</th>\\n      <td>WORK LIFE BALANCE</td>\\n      <td>INTEGER</td>\\n      <td>1 BAD, 2 GOOD, 3 BETTER, 4 BEST</td>\\n    </tr>\\n    <tr>\\n      <th>29</th>\\n      <td>YEARS AT COMPANY</td>\\n      <td>INTEGER</td>\\n      <td>TOTAL NUMBER OF YEARS AT THE COMPANY</td>\\n    </tr>\\n    <tr>\\n      <th>30</th>\\n      <td>YEARS IN CURRENT ROLE</td>\\n      <td>INTEGER</td>\\n      <td>YEARS IN CURRENT ROLE</td>\\n    </tr>\\n    <tr>\\n      <th>31</th>\\n      <td>YEARS SINCE LAST PROMOTION</td>\\n      <td>INTEGER</td>\\n      <td>LAST PROMOTION</td>\\n    </tr>\\n    <tr>\\n      <th>32</th>\\n      <td>YEARS WITH CURRENT MANAGER</td>\\n      <td>INTEGER</td>\\n      <td>YEARS SPENT WITH CURRENT MANAGER</td>\\n    </tr>\\n  </tbody>\\n</table>'"
      ]
     },
     "execution_count": 5,
     "metadata": {},
     "output_type": "execute_result"
    }
   ],
   "source": [
    " = att1.to_html()\n",
    "tabla_html #test succesfull html generated"
   ]
  },
  {
   "cell_type": "code",
   "execution_count": 8,
   "metadata": {},
   "outputs": [],
   "source": [
    "att1.to_html('att1.html')\n",
    "#test succesfull html Generated"
   ]
  },
  {
   "cell_type": "code",
   "execution_count": null,
   "metadata": {},
   "outputs": [],
   "source": []
  }
 ],
 "metadata": {
  "kernelspec": {
   "display_name": "Python 3",
   "language": "python",
   "name": "python3"
  },
  "language_info": {
   "codemirror_mode": {
    "name": "ipython",
    "version": 3
   },
   "file_extension": ".py",
   "mimetype": "text/x-python",
   "name": "python",
   "nbconvert_exporter": "python",
   "pygments_lexer": "ipython3",
   "version": "3.7.6"
  }
 },
 "nbformat": 4,
 "nbformat_minor": 4
}
