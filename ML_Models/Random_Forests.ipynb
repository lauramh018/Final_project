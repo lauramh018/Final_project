{
 "cells": [
  {
   "cell_type": "code",
   "execution_count": 1,
   "metadata": {},
   "outputs": [],
   "source": [
    "# Import modules\n",
    "from sklearn.ensemble import RandomForestClassifier\n",
    "import pandas as pd\n",
    "import pickle"
   ]
  },
  {
   "cell_type": "code",
   "execution_count": 2,
   "metadata": {},
   "outputs": [
    {
     "output_type": "execute_result",
     "data": {
      "text/plain": "   Age Attrition     BusinessTravel  DailyRate              Department  \\\n0   41       Yes      Travel_Rarely       1102                   Sales   \n1   49        No  Travel_Frequently        279  Research & Development   \n2   37       Yes      Travel_Rarely       1373  Research & Development   \n3   33        No  Travel_Frequently       1392  Research & Development   \n4   27        No      Travel_Rarely        591  Research & Development   \n\n   DistanceFromHome  Education EducationField  EmployeeCount  EmployeeNumber  \\\n0                 1          2  Life Sciences              1               1   \n1                 8          1  Life Sciences              1               2   \n2                 2          2          Other              1               4   \n3                 3          4  Life Sciences              1               5   \n4                 2          1        Medical              1               7   \n\n   ...  RelationshipSatisfaction StandardHours  StockOptionLevel  \\\n0  ...                         1            80                 0   \n1  ...                         4            80                 1   \n2  ...                         2            80                 0   \n3  ...                         3            80                 0   \n4  ...                         4            80                 1   \n\n   TotalWorkingYears  TrainingTimesLastYear WorkLifeBalance  YearsAtCompany  \\\n0                  8                      0               1               6   \n1                 10                      3               3              10   \n2                  7                      3               3               0   \n3                  8                      3               3               8   \n4                  6                      3               3               2   \n\n  YearsInCurrentRole  YearsSinceLastPromotion  YearsWithCurrManager  \n0                  4                        0                     5  \n1                  7                        1                     7  \n2                  0                        0                     0  \n3                  7                        3                     0  \n4                  2                        2                     2  \n\n[5 rows x 35 columns]",
      "text/html": "<div>\n<style scoped>\n    .dataframe tbody tr th:only-of-type {\n        vertical-align: middle;\n    }\n\n    .dataframe tbody tr th {\n        vertical-align: top;\n    }\n\n    .dataframe thead th {\n        text-align: right;\n    }\n</style>\n<table border=\"1\" class=\"dataframe\">\n  <thead>\n    <tr style=\"text-align: right;\">\n      <th></th>\n      <th>Age</th>\n      <th>Attrition</th>\n      <th>BusinessTravel</th>\n      <th>DailyRate</th>\n      <th>Department</th>\n      <th>DistanceFromHome</th>\n      <th>Education</th>\n      <th>EducationField</th>\n      <th>EmployeeCount</th>\n      <th>EmployeeNumber</th>\n      <th>...</th>\n      <th>RelationshipSatisfaction</th>\n      <th>StandardHours</th>\n      <th>StockOptionLevel</th>\n      <th>TotalWorkingYears</th>\n      <th>TrainingTimesLastYear</th>\n      <th>WorkLifeBalance</th>\n      <th>YearsAtCompany</th>\n      <th>YearsInCurrentRole</th>\n      <th>YearsSinceLastPromotion</th>\n      <th>YearsWithCurrManager</th>\n    </tr>\n  </thead>\n  <tbody>\n    <tr>\n      <td>0</td>\n      <td>41</td>\n      <td>Yes</td>\n      <td>Travel_Rarely</td>\n      <td>1102</td>\n      <td>Sales</td>\n      <td>1</td>\n      <td>2</td>\n      <td>Life Sciences</td>\n      <td>1</td>\n      <td>1</td>\n      <td>...</td>\n      <td>1</td>\n      <td>80</td>\n      <td>0</td>\n      <td>8</td>\n      <td>0</td>\n      <td>1</td>\n      <td>6</td>\n      <td>4</td>\n      <td>0</td>\n      <td>5</td>\n    </tr>\n    <tr>\n      <td>1</td>\n      <td>49</td>\n      <td>No</td>\n      <td>Travel_Frequently</td>\n      <td>279</td>\n      <td>Research &amp; Development</td>\n      <td>8</td>\n      <td>1</td>\n      <td>Life Sciences</td>\n      <td>1</td>\n      <td>2</td>\n      <td>...</td>\n      <td>4</td>\n      <td>80</td>\n      <td>1</td>\n      <td>10</td>\n      <td>3</td>\n      <td>3</td>\n      <td>10</td>\n      <td>7</td>\n      <td>1</td>\n      <td>7</td>\n    </tr>\n    <tr>\n      <td>2</td>\n      <td>37</td>\n      <td>Yes</td>\n      <td>Travel_Rarely</td>\n      <td>1373</td>\n      <td>Research &amp; Development</td>\n      <td>2</td>\n      <td>2</td>\n      <td>Other</td>\n      <td>1</td>\n      <td>4</td>\n      <td>...</td>\n      <td>2</td>\n      <td>80</td>\n      <td>0</td>\n      <td>7</td>\n      <td>3</td>\n      <td>3</td>\n      <td>0</td>\n      <td>0</td>\n      <td>0</td>\n      <td>0</td>\n    </tr>\n    <tr>\n      <td>3</td>\n      <td>33</td>\n      <td>No</td>\n      <td>Travel_Frequently</td>\n      <td>1392</td>\n      <td>Research &amp; Development</td>\n      <td>3</td>\n      <td>4</td>\n      <td>Life Sciences</td>\n      <td>1</td>\n      <td>5</td>\n      <td>...</td>\n      <td>3</td>\n      <td>80</td>\n      <td>0</td>\n      <td>8</td>\n      <td>3</td>\n      <td>3</td>\n      <td>8</td>\n      <td>7</td>\n      <td>3</td>\n      <td>0</td>\n    </tr>\n    <tr>\n      <td>4</td>\n      <td>27</td>\n      <td>No</td>\n      <td>Travel_Rarely</td>\n      <td>591</td>\n      <td>Research &amp; Development</td>\n      <td>2</td>\n      <td>1</td>\n      <td>Medical</td>\n      <td>1</td>\n      <td>7</td>\n      <td>...</td>\n      <td>4</td>\n      <td>80</td>\n      <td>1</td>\n      <td>6</td>\n      <td>3</td>\n      <td>3</td>\n      <td>2</td>\n      <td>2</td>\n      <td>2</td>\n      <td>2</td>\n    </tr>\n  </tbody>\n</table>\n<p>5 rows × 35 columns</p>\n</div>"
     },
     "metadata": {},
     "execution_count": 2
    }
   ],
   "source": [
    "# Reading the data\n",
    "features = pd.read_csv('../Resources/Data/Employee-Attrition.csv')\n",
    "features.head(5)"
   ]
  },
  {
   "cell_type": "code",
   "execution_count": 3,
   "metadata": {
    "tags": []
   },
   "outputs": [
    {
     "output_type": "stream",
     "name": "stdout",
     "text": "The shape of our features is: (1470, 35)\n"
    }
   ],
   "source": [
    "print('The shape of our features is:', features.shape)\n"
   ]
  },
  {
   "cell_type": "code",
   "execution_count": 4,
   "metadata": {},
   "outputs": [
    {
     "output_type": "execute_result",
     "data": {
      "text/plain": "               Age    DailyRate  DistanceFromHome    Education  EmployeeCount  \\\ncount  1470.000000  1470.000000       1470.000000  1470.000000         1470.0   \nmean     36.923810   802.485714          9.192517     2.912925            1.0   \nstd       9.135373   403.509100          8.106864     1.024165            0.0   \nmin      18.000000   102.000000          1.000000     1.000000            1.0   \n25%      30.000000   465.000000          2.000000     2.000000            1.0   \n50%      36.000000   802.000000          7.000000     3.000000            1.0   \n75%      43.000000  1157.000000         14.000000     4.000000            1.0   \nmax      60.000000  1499.000000         29.000000     5.000000            1.0   \n\n       EmployeeNumber  EnvironmentSatisfaction   HourlyRate  JobInvolvement  \\\ncount     1470.000000              1470.000000  1470.000000     1470.000000   \nmean      1024.865306                 2.721769    65.891156        2.729932   \nstd        602.024335                 1.093082    20.329428        0.711561   \nmin          1.000000                 1.000000    30.000000        1.000000   \n25%        491.250000                 2.000000    48.000000        2.000000   \n50%       1020.500000                 3.000000    66.000000        3.000000   \n75%       1555.750000                 4.000000    83.750000        3.000000   \nmax       2068.000000                 4.000000   100.000000        4.000000   \n\n          JobLevel  ...  RelationshipSatisfaction  StandardHours  \\\ncount  1470.000000  ...               1470.000000         1470.0   \nmean      2.063946  ...                  2.712245           80.0   \nstd       1.106940  ...                  1.081209            0.0   \nmin       1.000000  ...                  1.000000           80.0   \n25%       1.000000  ...                  2.000000           80.0   \n50%       2.000000  ...                  3.000000           80.0   \n75%       3.000000  ...                  4.000000           80.0   \nmax       5.000000  ...                  4.000000           80.0   \n\n       StockOptionLevel  TotalWorkingYears  TrainingTimesLastYear  \\\ncount       1470.000000        1470.000000            1470.000000   \nmean           0.793878          11.279592               2.799320   \nstd            0.852077           7.780782               1.289271   \nmin            0.000000           0.000000               0.000000   \n25%            0.000000           6.000000               2.000000   \n50%            1.000000          10.000000               3.000000   \n75%            1.000000          15.000000               3.000000   \nmax            3.000000          40.000000               6.000000   \n\n       WorkLifeBalance  YearsAtCompany  YearsInCurrentRole  \\\ncount      1470.000000     1470.000000         1470.000000   \nmean          2.761224        7.008163            4.229252   \nstd           0.706476        6.126525            3.623137   \nmin           1.000000        0.000000            0.000000   \n25%           2.000000        3.000000            2.000000   \n50%           3.000000        5.000000            3.000000   \n75%           3.000000        9.000000            7.000000   \nmax           4.000000       40.000000           18.000000   \n\n       YearsSinceLastPromotion  YearsWithCurrManager  \ncount              1470.000000           1470.000000  \nmean                  2.187755              4.123129  \nstd                   3.222430              3.568136  \nmin                   0.000000              0.000000  \n25%                   0.000000              2.000000  \n50%                   1.000000              3.000000  \n75%                   3.000000              7.000000  \nmax                  15.000000             17.000000  \n\n[8 rows x 26 columns]",
      "text/html": "<div>\n<style scoped>\n    .dataframe tbody tr th:only-of-type {\n        vertical-align: middle;\n    }\n\n    .dataframe tbody tr th {\n        vertical-align: top;\n    }\n\n    .dataframe thead th {\n        text-align: right;\n    }\n</style>\n<table border=\"1\" class=\"dataframe\">\n  <thead>\n    <tr style=\"text-align: right;\">\n      <th></th>\n      <th>Age</th>\n      <th>DailyRate</th>\n      <th>DistanceFromHome</th>\n      <th>Education</th>\n      <th>EmployeeCount</th>\n      <th>EmployeeNumber</th>\n      <th>EnvironmentSatisfaction</th>\n      <th>HourlyRate</th>\n      <th>JobInvolvement</th>\n      <th>JobLevel</th>\n      <th>...</th>\n      <th>RelationshipSatisfaction</th>\n      <th>StandardHours</th>\n      <th>StockOptionLevel</th>\n      <th>TotalWorkingYears</th>\n      <th>TrainingTimesLastYear</th>\n      <th>WorkLifeBalance</th>\n      <th>YearsAtCompany</th>\n      <th>YearsInCurrentRole</th>\n      <th>YearsSinceLastPromotion</th>\n      <th>YearsWithCurrManager</th>\n    </tr>\n  </thead>\n  <tbody>\n    <tr>\n      <td>count</td>\n      <td>1470.000000</td>\n      <td>1470.000000</td>\n      <td>1470.000000</td>\n      <td>1470.000000</td>\n      <td>1470.0</td>\n      <td>1470.000000</td>\n      <td>1470.000000</td>\n      <td>1470.000000</td>\n      <td>1470.000000</td>\n      <td>1470.000000</td>\n      <td>...</td>\n      <td>1470.000000</td>\n      <td>1470.0</td>\n      <td>1470.000000</td>\n      <td>1470.000000</td>\n      <td>1470.000000</td>\n      <td>1470.000000</td>\n      <td>1470.000000</td>\n      <td>1470.000000</td>\n      <td>1470.000000</td>\n      <td>1470.000000</td>\n    </tr>\n    <tr>\n      <td>mean</td>\n      <td>36.923810</td>\n      <td>802.485714</td>\n      <td>9.192517</td>\n      <td>2.912925</td>\n      <td>1.0</td>\n      <td>1024.865306</td>\n      <td>2.721769</td>\n      <td>65.891156</td>\n      <td>2.729932</td>\n      <td>2.063946</td>\n      <td>...</td>\n      <td>2.712245</td>\n      <td>80.0</td>\n      <td>0.793878</td>\n      <td>11.279592</td>\n      <td>2.799320</td>\n      <td>2.761224</td>\n      <td>7.008163</td>\n      <td>4.229252</td>\n      <td>2.187755</td>\n      <td>4.123129</td>\n    </tr>\n    <tr>\n      <td>std</td>\n      <td>9.135373</td>\n      <td>403.509100</td>\n      <td>8.106864</td>\n      <td>1.024165</td>\n      <td>0.0</td>\n      <td>602.024335</td>\n      <td>1.093082</td>\n      <td>20.329428</td>\n      <td>0.711561</td>\n      <td>1.106940</td>\n      <td>...</td>\n      <td>1.081209</td>\n      <td>0.0</td>\n      <td>0.852077</td>\n      <td>7.780782</td>\n      <td>1.289271</td>\n      <td>0.706476</td>\n      <td>6.126525</td>\n      <td>3.623137</td>\n      <td>3.222430</td>\n      <td>3.568136</td>\n    </tr>\n    <tr>\n      <td>min</td>\n      <td>18.000000</td>\n      <td>102.000000</td>\n      <td>1.000000</td>\n      <td>1.000000</td>\n      <td>1.0</td>\n      <td>1.000000</td>\n      <td>1.000000</td>\n      <td>30.000000</td>\n      <td>1.000000</td>\n      <td>1.000000</td>\n      <td>...</td>\n      <td>1.000000</td>\n      <td>80.0</td>\n      <td>0.000000</td>\n      <td>0.000000</td>\n      <td>0.000000</td>\n      <td>1.000000</td>\n      <td>0.000000</td>\n      <td>0.000000</td>\n      <td>0.000000</td>\n      <td>0.000000</td>\n    </tr>\n    <tr>\n      <td>25%</td>\n      <td>30.000000</td>\n      <td>465.000000</td>\n      <td>2.000000</td>\n      <td>2.000000</td>\n      <td>1.0</td>\n      <td>491.250000</td>\n      <td>2.000000</td>\n      <td>48.000000</td>\n      <td>2.000000</td>\n      <td>1.000000</td>\n      <td>...</td>\n      <td>2.000000</td>\n      <td>80.0</td>\n      <td>0.000000</td>\n      <td>6.000000</td>\n      <td>2.000000</td>\n      <td>2.000000</td>\n      <td>3.000000</td>\n      <td>2.000000</td>\n      <td>0.000000</td>\n      <td>2.000000</td>\n    </tr>\n    <tr>\n      <td>50%</td>\n      <td>36.000000</td>\n      <td>802.000000</td>\n      <td>7.000000</td>\n      <td>3.000000</td>\n      <td>1.0</td>\n      <td>1020.500000</td>\n      <td>3.000000</td>\n      <td>66.000000</td>\n      <td>3.000000</td>\n      <td>2.000000</td>\n      <td>...</td>\n      <td>3.000000</td>\n      <td>80.0</td>\n      <td>1.000000</td>\n      <td>10.000000</td>\n      <td>3.000000</td>\n      <td>3.000000</td>\n      <td>5.000000</td>\n      <td>3.000000</td>\n      <td>1.000000</td>\n      <td>3.000000</td>\n    </tr>\n    <tr>\n      <td>75%</td>\n      <td>43.000000</td>\n      <td>1157.000000</td>\n      <td>14.000000</td>\n      <td>4.000000</td>\n      <td>1.0</td>\n      <td>1555.750000</td>\n      <td>4.000000</td>\n      <td>83.750000</td>\n      <td>3.000000</td>\n      <td>3.000000</td>\n      <td>...</td>\n      <td>4.000000</td>\n      <td>80.0</td>\n      <td>1.000000</td>\n      <td>15.000000</td>\n      <td>3.000000</td>\n      <td>3.000000</td>\n      <td>9.000000</td>\n      <td>7.000000</td>\n      <td>3.000000</td>\n      <td>7.000000</td>\n    </tr>\n    <tr>\n      <td>max</td>\n      <td>60.000000</td>\n      <td>1499.000000</td>\n      <td>29.000000</td>\n      <td>5.000000</td>\n      <td>1.0</td>\n      <td>2068.000000</td>\n      <td>4.000000</td>\n      <td>100.000000</td>\n      <td>4.000000</td>\n      <td>5.000000</td>\n      <td>...</td>\n      <td>4.000000</td>\n      <td>80.0</td>\n      <td>3.000000</td>\n      <td>40.000000</td>\n      <td>6.000000</td>\n      <td>4.000000</td>\n      <td>40.000000</td>\n      <td>18.000000</td>\n      <td>15.000000</td>\n      <td>17.000000</td>\n    </tr>\n  </tbody>\n</table>\n<p>8 rows × 26 columns</p>\n</div>"
     },
     "metadata": {},
     "execution_count": 4
    }
   ],
   "source": [
    "features.describe()"
   ]
  },
  {
   "cell_type": "code",
   "execution_count": 5,
   "metadata": {},
   "outputs": [],
   "source": [
    "# Remove uncecessary columns and code binary ones Yes = 1 | No = 0\n",
    "features[\"Attrition\"] = features[\"Attrition\"].eq('Yes').mul(1)\n",
    "features[\"OverTime\"] = features[\"OverTime\"].eq('Yes').mul(1)\n",
    "features[\"Gender\"] = features[\"Gender\"].eq('Female').mul(1)"
   ]
  },
  {
   "cell_type": "code",
   "execution_count": 6,
   "metadata": {},
   "outputs": [
    {
     "output_type": "execute_result",
     "data": {
      "text/plain": "   EmployeeCount  EmployeeNumber  EnvironmentSatisfaction  Gender  HourlyRate  \\\n0              1               1                        2       1          94   \n1              1               2                        3       0          61   \n2              1               4                        4       0          92   \n3              1               5                        4       1          56   \n4              1               7                        1       0          40   \n\n   JobInvolvement  JobLevel  JobSatisfaction  MonthlyIncome  MonthlyRate  ...  \\\n0               3         2                4           5993        19479  ...   \n1               2         2                2           5130        24907  ...   \n2               2         1                3           2090         2396  ...   \n3               3         1                3           2909        23159  ...   \n4               3         1                2           3468        16632  ...   \n\n   JobRole_Manager  JobRole_Manufacturing Director  JobRole_Research Director  \\\n0                0                               0                          0   \n1                0                               0                          0   \n2                0                               0                          0   \n3                0                               0                          0   \n4                0                               0                          0   \n\n   JobRole_Research Scientist  JobRole_Sales Executive  \\\n0                           0                        1   \n1                           1                        0   \n2                           0                        0   \n3                           1                        0   \n4                           0                        0   \n\n   JobRole_Sales Representative  MaritalStatus_Divorced  \\\n0                             0                       0   \n1                             0                       0   \n2                             0                       0   \n3                             0                       0   \n4                             0                       0   \n\n   MaritalStatus_Married  MaritalStatus_Single  Over18_Y  \n0                      0                     1         1  \n1                      1                     0         1  \n2                      0                     1         1  \n3                      1                     0         1  \n4                      1                     0         1  \n\n[5 rows x 49 columns]",
      "text/html": "<div>\n<style scoped>\n    .dataframe tbody tr th:only-of-type {\n        vertical-align: middle;\n    }\n\n    .dataframe tbody tr th {\n        vertical-align: top;\n    }\n\n    .dataframe thead th {\n        text-align: right;\n    }\n</style>\n<table border=\"1\" class=\"dataframe\">\n  <thead>\n    <tr style=\"text-align: right;\">\n      <th></th>\n      <th>EmployeeCount</th>\n      <th>EmployeeNumber</th>\n      <th>EnvironmentSatisfaction</th>\n      <th>Gender</th>\n      <th>HourlyRate</th>\n      <th>JobInvolvement</th>\n      <th>JobLevel</th>\n      <th>JobSatisfaction</th>\n      <th>MonthlyIncome</th>\n      <th>MonthlyRate</th>\n      <th>...</th>\n      <th>JobRole_Manager</th>\n      <th>JobRole_Manufacturing Director</th>\n      <th>JobRole_Research Director</th>\n      <th>JobRole_Research Scientist</th>\n      <th>JobRole_Sales Executive</th>\n      <th>JobRole_Sales Representative</th>\n      <th>MaritalStatus_Divorced</th>\n      <th>MaritalStatus_Married</th>\n      <th>MaritalStatus_Single</th>\n      <th>Over18_Y</th>\n    </tr>\n  </thead>\n  <tbody>\n    <tr>\n      <td>0</td>\n      <td>1</td>\n      <td>1</td>\n      <td>2</td>\n      <td>1</td>\n      <td>94</td>\n      <td>3</td>\n      <td>2</td>\n      <td>4</td>\n      <td>5993</td>\n      <td>19479</td>\n      <td>...</td>\n      <td>0</td>\n      <td>0</td>\n      <td>0</td>\n      <td>0</td>\n      <td>1</td>\n      <td>0</td>\n      <td>0</td>\n      <td>0</td>\n      <td>1</td>\n      <td>1</td>\n    </tr>\n    <tr>\n      <td>1</td>\n      <td>1</td>\n      <td>2</td>\n      <td>3</td>\n      <td>0</td>\n      <td>61</td>\n      <td>2</td>\n      <td>2</td>\n      <td>2</td>\n      <td>5130</td>\n      <td>24907</td>\n      <td>...</td>\n      <td>0</td>\n      <td>0</td>\n      <td>0</td>\n      <td>1</td>\n      <td>0</td>\n      <td>0</td>\n      <td>0</td>\n      <td>1</td>\n      <td>0</td>\n      <td>1</td>\n    </tr>\n    <tr>\n      <td>2</td>\n      <td>1</td>\n      <td>4</td>\n      <td>4</td>\n      <td>0</td>\n      <td>92</td>\n      <td>2</td>\n      <td>1</td>\n      <td>3</td>\n      <td>2090</td>\n      <td>2396</td>\n      <td>...</td>\n      <td>0</td>\n      <td>0</td>\n      <td>0</td>\n      <td>0</td>\n      <td>0</td>\n      <td>0</td>\n      <td>0</td>\n      <td>0</td>\n      <td>1</td>\n      <td>1</td>\n    </tr>\n    <tr>\n      <td>3</td>\n      <td>1</td>\n      <td>5</td>\n      <td>4</td>\n      <td>1</td>\n      <td>56</td>\n      <td>3</td>\n      <td>1</td>\n      <td>3</td>\n      <td>2909</td>\n      <td>23159</td>\n      <td>...</td>\n      <td>0</td>\n      <td>0</td>\n      <td>0</td>\n      <td>1</td>\n      <td>0</td>\n      <td>0</td>\n      <td>0</td>\n      <td>1</td>\n      <td>0</td>\n      <td>1</td>\n    </tr>\n    <tr>\n      <td>4</td>\n      <td>1</td>\n      <td>7</td>\n      <td>1</td>\n      <td>0</td>\n      <td>40</td>\n      <td>3</td>\n      <td>1</td>\n      <td>2</td>\n      <td>3468</td>\n      <td>16632</td>\n      <td>...</td>\n      <td>0</td>\n      <td>0</td>\n      <td>0</td>\n      <td>0</td>\n      <td>0</td>\n      <td>0</td>\n      <td>0</td>\n      <td>1</td>\n      <td>0</td>\n      <td>1</td>\n    </tr>\n  </tbody>\n</table>\n<p>5 rows × 49 columns</p>\n</div>"
     },
     "metadata": {},
     "execution_count": 6
    }
   ],
   "source": [
    "\n",
    "# One-hot encode the data using pandas get_dummies\n",
    "features = pd.get_dummies(features)\n",
    "# Display the first 5 rows of the last 12 columns\n",
    "features.iloc[:,5:].head(5)"
   ]
  },
  {
   "cell_type": "code",
   "execution_count": 7,
   "metadata": {},
   "outputs": [
    {
     "output_type": "execute_result",
     "data": {
      "text/plain": "Index(['Age', 'Attrition', 'DailyRate', 'DistanceFromHome', 'Education',\n       'EmployeeCount', 'EmployeeNumber', 'EnvironmentSatisfaction', 'Gender',\n       'HourlyRate', 'JobInvolvement', 'JobLevel', 'JobSatisfaction',\n       'MonthlyIncome', 'MonthlyRate', 'NumCompaniesWorked', 'OverTime',\n       'PercentSalaryHike', 'PerformanceRating', 'RelationshipSatisfaction',\n       'StandardHours', 'StockOptionLevel', 'TotalWorkingYears',\n       'TrainingTimesLastYear', 'WorkLifeBalance', 'YearsAtCompany',\n       'YearsInCurrentRole', 'YearsSinceLastPromotion', 'YearsWithCurrManager',\n       'BusinessTravel_Non-Travel', 'BusinessTravel_Travel_Frequently',\n       'BusinessTravel_Travel_Rarely', 'Department_Human Resources',\n       'Department_Research & Development', 'Department_Sales',\n       'EducationField_Human Resources', 'EducationField_Life Sciences',\n       'EducationField_Marketing', 'EducationField_Medical',\n       'EducationField_Other', 'EducationField_Technical Degree',\n       'JobRole_Healthcare Representative', 'JobRole_Human Resources',\n       'JobRole_Laboratory Technician', 'JobRole_Manager',\n       'JobRole_Manufacturing Director', 'JobRole_Research Director',\n       'JobRole_Research Scientist', 'JobRole_Sales Executive',\n       'JobRole_Sales Representative', 'MaritalStatus_Divorced',\n       'MaritalStatus_Married', 'MaritalStatus_Single', 'Over18_Y'],\n      dtype='object')"
     },
     "metadata": {},
     "execution_count": 7
    }
   ],
   "source": [
    "features.columns"
   ]
  },
  {
   "cell_type": "code",
   "execution_count": 8,
   "metadata": {},
   "outputs": [],
   "source": [
    "#selecting the columns to use\n",
    "columns_keep =['Age','Attrition',\n",
    " 'OverTime',\n",
    " 'MonthlyIncome',\n",
    " 'NumCompaniesWorked',\n",
    " 'DailyRate',\n",
    " 'DistanceFromHome',\n",
    " 'HourlyRate',\n",
    " 'MonthlyRate',\n",
    " 'PercentSalaryHike',\n",
    " 'TotalWorkingYears',\n",
    " 'YearsInCurrentRole',\n",
    " 'YearsAtCompany',\n",
    " 'EnvironmentSatisfaction',\n",
    " 'JobSatisfaction',\n",
    " 'RelationshipSatisfaction',\n",
    " 'StockOptionLevel',\n",
    " 'TrainingTimesLastYear',\n",
    " 'WorkLifeBalance',\n",
    " 'YearsSinceLastPromotion',\n",
    " 'YearsWithCurrManager',\n",
    " 'Education', \n",
    " 'JobInvolvement',\n",
    " 'JobLevel',\n",
    " 'BusinessTravel_Travel_Frequently']"
   ]
  },
  {
   "cell_type": "code",
   "execution_count": 9,
   "metadata": {},
   "outputs": [],
   "source": [
    "#selecting the columns from the DF\n",
    "features = features[columns_keep]"
   ]
  },
  {
   "cell_type": "code",
   "execution_count": 10,
   "metadata": {},
   "outputs": [
    {
     "output_type": "execute_result",
     "data": {
      "text/plain": "      Age  Attrition  OverTime  MonthlyIncome  NumCompaniesWorked  DailyRate  \\\n0      41          1         1           5993                   8       1102   \n1      49          0         0           5130                   1        279   \n2      37          1         1           2090                   6       1373   \n3      33          0         1           2909                   1       1392   \n4      27          0         0           3468                   9        591   \n...   ...        ...       ...            ...                 ...        ...   \n1465   36          0         0           2571                   4        884   \n1466   39          0         0           9991                   4        613   \n1467   27          0         1           6142                   1        155   \n1468   49          0         0           5390                   2       1023   \n1469   34          0         0           4404                   2        628   \n\n      DistanceFromHome  HourlyRate  MonthlyRate  PercentSalaryHike  ...  \\\n0                    1          94        19479                 11  ...   \n1                    8          61        24907                 23  ...   \n2                    2          92         2396                 15  ...   \n3                    3          56        23159                 11  ...   \n4                    2          40        16632                 12  ...   \n...                ...         ...          ...                ...  ...   \n1465                23          41        12290                 17  ...   \n1466                 6          42        21457                 15  ...   \n1467                 4          87         5174                 20  ...   \n1468                 2          63        13243                 14  ...   \n1469                 8          82        10228                 12  ...   \n\n      RelationshipSatisfaction  StockOptionLevel  TrainingTimesLastYear  \\\n0                            1                 0                      0   \n1                            4                 1                      3   \n2                            2                 0                      3   \n3                            3                 0                      3   \n4                            4                 1                      3   \n...                        ...               ...                    ...   \n1465                         3                 1                      3   \n1466                         1                 1                      5   \n1467                         2                 1                      0   \n1468                         4                 0                      3   \n1469                         1                 0                      3   \n\n      WorkLifeBalance  YearsSinceLastPromotion  YearsWithCurrManager  \\\n0                   1                        0                     5   \n1                   3                        1                     7   \n2                   3                        0                     0   \n3                   3                        3                     0   \n4                   3                        2                     2   \n...               ...                      ...                   ...   \n1465                3                        0                     3   \n1466                3                        1                     7   \n1467                3                        0                     3   \n1468                2                        0                     8   \n1469                4                        1                     2   \n\n      Education  JobInvolvement  JobLevel  BusinessTravel_Travel_Frequently  \n0             2               3         2                                 0  \n1             1               2         2                                 1  \n2             2               2         1                                 0  \n3             4               3         1                                 1  \n4             1               3         1                                 0  \n...         ...             ...       ...                               ...  \n1465          2               4         2                                 1  \n1466          1               2         3                                 0  \n1467          3               4         2                                 0  \n1468          3               2         2                                 1  \n1469          3               4         2                                 0  \n\n[1470 rows x 25 columns]",
      "text/html": "<div>\n<style scoped>\n    .dataframe tbody tr th:only-of-type {\n        vertical-align: middle;\n    }\n\n    .dataframe tbody tr th {\n        vertical-align: top;\n    }\n\n    .dataframe thead th {\n        text-align: right;\n    }\n</style>\n<table border=\"1\" class=\"dataframe\">\n  <thead>\n    <tr style=\"text-align: right;\">\n      <th></th>\n      <th>Age</th>\n      <th>Attrition</th>\n      <th>OverTime</th>\n      <th>MonthlyIncome</th>\n      <th>NumCompaniesWorked</th>\n      <th>DailyRate</th>\n      <th>DistanceFromHome</th>\n      <th>HourlyRate</th>\n      <th>MonthlyRate</th>\n      <th>PercentSalaryHike</th>\n      <th>...</th>\n      <th>RelationshipSatisfaction</th>\n      <th>StockOptionLevel</th>\n      <th>TrainingTimesLastYear</th>\n      <th>WorkLifeBalance</th>\n      <th>YearsSinceLastPromotion</th>\n      <th>YearsWithCurrManager</th>\n      <th>Education</th>\n      <th>JobInvolvement</th>\n      <th>JobLevel</th>\n      <th>BusinessTravel_Travel_Frequently</th>\n    </tr>\n  </thead>\n  <tbody>\n    <tr>\n      <td>0</td>\n      <td>41</td>\n      <td>1</td>\n      <td>1</td>\n      <td>5993</td>\n      <td>8</td>\n      <td>1102</td>\n      <td>1</td>\n      <td>94</td>\n      <td>19479</td>\n      <td>11</td>\n      <td>...</td>\n      <td>1</td>\n      <td>0</td>\n      <td>0</td>\n      <td>1</td>\n      <td>0</td>\n      <td>5</td>\n      <td>2</td>\n      <td>3</td>\n      <td>2</td>\n      <td>0</td>\n    </tr>\n    <tr>\n      <td>1</td>\n      <td>49</td>\n      <td>0</td>\n      <td>0</td>\n      <td>5130</td>\n      <td>1</td>\n      <td>279</td>\n      <td>8</td>\n      <td>61</td>\n      <td>24907</td>\n      <td>23</td>\n      <td>...</td>\n      <td>4</td>\n      <td>1</td>\n      <td>3</td>\n      <td>3</td>\n      <td>1</td>\n      <td>7</td>\n      <td>1</td>\n      <td>2</td>\n      <td>2</td>\n      <td>1</td>\n    </tr>\n    <tr>\n      <td>2</td>\n      <td>37</td>\n      <td>1</td>\n      <td>1</td>\n      <td>2090</td>\n      <td>6</td>\n      <td>1373</td>\n      <td>2</td>\n      <td>92</td>\n      <td>2396</td>\n      <td>15</td>\n      <td>...</td>\n      <td>2</td>\n      <td>0</td>\n      <td>3</td>\n      <td>3</td>\n      <td>0</td>\n      <td>0</td>\n      <td>2</td>\n      <td>2</td>\n      <td>1</td>\n      <td>0</td>\n    </tr>\n    <tr>\n      <td>3</td>\n      <td>33</td>\n      <td>0</td>\n      <td>1</td>\n      <td>2909</td>\n      <td>1</td>\n      <td>1392</td>\n      <td>3</td>\n      <td>56</td>\n      <td>23159</td>\n      <td>11</td>\n      <td>...</td>\n      <td>3</td>\n      <td>0</td>\n      <td>3</td>\n      <td>3</td>\n      <td>3</td>\n      <td>0</td>\n      <td>4</td>\n      <td>3</td>\n      <td>1</td>\n      <td>1</td>\n    </tr>\n    <tr>\n      <td>4</td>\n      <td>27</td>\n      <td>0</td>\n      <td>0</td>\n      <td>3468</td>\n      <td>9</td>\n      <td>591</td>\n      <td>2</td>\n      <td>40</td>\n      <td>16632</td>\n      <td>12</td>\n      <td>...</td>\n      <td>4</td>\n      <td>1</td>\n      <td>3</td>\n      <td>3</td>\n      <td>2</td>\n      <td>2</td>\n      <td>1</td>\n      <td>3</td>\n      <td>1</td>\n      <td>0</td>\n    </tr>\n    <tr>\n      <td>...</td>\n      <td>...</td>\n      <td>...</td>\n      <td>...</td>\n      <td>...</td>\n      <td>...</td>\n      <td>...</td>\n      <td>...</td>\n      <td>...</td>\n      <td>...</td>\n      <td>...</td>\n      <td>...</td>\n      <td>...</td>\n      <td>...</td>\n      <td>...</td>\n      <td>...</td>\n      <td>...</td>\n      <td>...</td>\n      <td>...</td>\n      <td>...</td>\n      <td>...</td>\n      <td>...</td>\n    </tr>\n    <tr>\n      <td>1465</td>\n      <td>36</td>\n      <td>0</td>\n      <td>0</td>\n      <td>2571</td>\n      <td>4</td>\n      <td>884</td>\n      <td>23</td>\n      <td>41</td>\n      <td>12290</td>\n      <td>17</td>\n      <td>...</td>\n      <td>3</td>\n      <td>1</td>\n      <td>3</td>\n      <td>3</td>\n      <td>0</td>\n      <td>3</td>\n      <td>2</td>\n      <td>4</td>\n      <td>2</td>\n      <td>1</td>\n    </tr>\n    <tr>\n      <td>1466</td>\n      <td>39</td>\n      <td>0</td>\n      <td>0</td>\n      <td>9991</td>\n      <td>4</td>\n      <td>613</td>\n      <td>6</td>\n      <td>42</td>\n      <td>21457</td>\n      <td>15</td>\n      <td>...</td>\n      <td>1</td>\n      <td>1</td>\n      <td>5</td>\n      <td>3</td>\n      <td>1</td>\n      <td>7</td>\n      <td>1</td>\n      <td>2</td>\n      <td>3</td>\n      <td>0</td>\n    </tr>\n    <tr>\n      <td>1467</td>\n      <td>27</td>\n      <td>0</td>\n      <td>1</td>\n      <td>6142</td>\n      <td>1</td>\n      <td>155</td>\n      <td>4</td>\n      <td>87</td>\n      <td>5174</td>\n      <td>20</td>\n      <td>...</td>\n      <td>2</td>\n      <td>1</td>\n      <td>0</td>\n      <td>3</td>\n      <td>0</td>\n      <td>3</td>\n      <td>3</td>\n      <td>4</td>\n      <td>2</td>\n      <td>0</td>\n    </tr>\n    <tr>\n      <td>1468</td>\n      <td>49</td>\n      <td>0</td>\n      <td>0</td>\n      <td>5390</td>\n      <td>2</td>\n      <td>1023</td>\n      <td>2</td>\n      <td>63</td>\n      <td>13243</td>\n      <td>14</td>\n      <td>...</td>\n      <td>4</td>\n      <td>0</td>\n      <td>3</td>\n      <td>2</td>\n      <td>0</td>\n      <td>8</td>\n      <td>3</td>\n      <td>2</td>\n      <td>2</td>\n      <td>1</td>\n    </tr>\n    <tr>\n      <td>1469</td>\n      <td>34</td>\n      <td>0</td>\n      <td>0</td>\n      <td>4404</td>\n      <td>2</td>\n      <td>628</td>\n      <td>8</td>\n      <td>82</td>\n      <td>10228</td>\n      <td>12</td>\n      <td>...</td>\n      <td>1</td>\n      <td>0</td>\n      <td>3</td>\n      <td>4</td>\n      <td>1</td>\n      <td>2</td>\n      <td>3</td>\n      <td>4</td>\n      <td>2</td>\n      <td>0</td>\n    </tr>\n  </tbody>\n</table>\n<p>1470 rows × 25 columns</p>\n</div>"
     },
     "metadata": {},
     "execution_count": 10
    }
   ],
   "source": [
    "features"
   ]
  },
  {
   "cell_type": "code",
   "execution_count": 11,
   "metadata": {},
   "outputs": [
    {
     "output_type": "execute_result",
     "data": {
      "text/plain": "      Age  Attrition  OverTime  MonthlyIncome  NumCompaniesWorked  DailyRate  \\\n0      41          1         1           5993                   8       1102   \n1      49          0         0           5130                   1        279   \n2      37          1         1           2090                   6       1373   \n3      33          0         1           2909                   1       1392   \n4      27          0         0           3468                   9        591   \n...   ...        ...       ...            ...                 ...        ...   \n1465   36          0         0           2571                   4        884   \n1466   39          0         0           9991                   4        613   \n1467   27          0         1           6142                   1        155   \n1468   49          0         0           5390                   2       1023   \n1469   34          0         0           4404                   2        628   \n\n      DistanceFromHome  HourlyRate  MonthlyRate  PercentSalaryHike  ...  \\\n0                    1          94        19479                 11  ...   \n1                    8          61        24907                 23  ...   \n2                    2          92         2396                 15  ...   \n3                    3          56        23159                 11  ...   \n4                    2          40        16632                 12  ...   \n...                ...         ...          ...                ...  ...   \n1465                23          41        12290                 17  ...   \n1466                 6          42        21457                 15  ...   \n1467                 4          87         5174                 20  ...   \n1468                 2          63        13243                 14  ...   \n1469                 8          82        10228                 12  ...   \n\n      RelationshipSatisfaction  StockOptionLevel  TrainingTimesLastYear  \\\n0                            1                 0                      0   \n1                            4                 1                      3   \n2                            2                 0                      3   \n3                            3                 0                      3   \n4                            4                 1                      3   \n...                        ...               ...                    ...   \n1465                         3                 1                      3   \n1466                         1                 1                      5   \n1467                         2                 1                      0   \n1468                         4                 0                      3   \n1469                         1                 0                      3   \n\n      WorkLifeBalance  YearsSinceLastPromotion  YearsWithCurrManager  \\\n0                   1                        0                     5   \n1                   3                        1                     7   \n2                   3                        0                     0   \n3                   3                        3                     0   \n4                   3                        2                     2   \n...               ...                      ...                   ...   \n1465                3                        0                     3   \n1466                3                        1                     7   \n1467                3                        0                     3   \n1468                2                        0                     8   \n1469                4                        1                     2   \n\n      Education  JobInvolvement  JobLevel  BusinessTravel_Travel_Frequently  \n0             2               3         2                                 0  \n1             1               2         2                                 1  \n2             2               2         1                                 0  \n3             4               3         1                                 1  \n4             1               3         1                                 0  \n...         ...             ...       ...                               ...  \n1465          2               4         2                                 1  \n1466          1               2         3                                 0  \n1467          3               4         2                                 0  \n1468          3               2         2                                 1  \n1469          3               4         2                                 0  \n\n[1470 rows x 25 columns]",
      "text/html": "<div>\n<style scoped>\n    .dataframe tbody tr th:only-of-type {\n        vertical-align: middle;\n    }\n\n    .dataframe tbody tr th {\n        vertical-align: top;\n    }\n\n    .dataframe thead th {\n        text-align: right;\n    }\n</style>\n<table border=\"1\" class=\"dataframe\">\n  <thead>\n    <tr style=\"text-align: right;\">\n      <th></th>\n      <th>Age</th>\n      <th>Attrition</th>\n      <th>OverTime</th>\n      <th>MonthlyIncome</th>\n      <th>NumCompaniesWorked</th>\n      <th>DailyRate</th>\n      <th>DistanceFromHome</th>\n      <th>HourlyRate</th>\n      <th>MonthlyRate</th>\n      <th>PercentSalaryHike</th>\n      <th>...</th>\n      <th>RelationshipSatisfaction</th>\n      <th>StockOptionLevel</th>\n      <th>TrainingTimesLastYear</th>\n      <th>WorkLifeBalance</th>\n      <th>YearsSinceLastPromotion</th>\n      <th>YearsWithCurrManager</th>\n      <th>Education</th>\n      <th>JobInvolvement</th>\n      <th>JobLevel</th>\n      <th>BusinessTravel_Travel_Frequently</th>\n    </tr>\n  </thead>\n  <tbody>\n    <tr>\n      <td>0</td>\n      <td>41</td>\n      <td>1</td>\n      <td>1</td>\n      <td>5993</td>\n      <td>8</td>\n      <td>1102</td>\n      <td>1</td>\n      <td>94</td>\n      <td>19479</td>\n      <td>11</td>\n      <td>...</td>\n      <td>1</td>\n      <td>0</td>\n      <td>0</td>\n      <td>1</td>\n      <td>0</td>\n      <td>5</td>\n      <td>2</td>\n      <td>3</td>\n      <td>2</td>\n      <td>0</td>\n    </tr>\n    <tr>\n      <td>1</td>\n      <td>49</td>\n      <td>0</td>\n      <td>0</td>\n      <td>5130</td>\n      <td>1</td>\n      <td>279</td>\n      <td>8</td>\n      <td>61</td>\n      <td>24907</td>\n      <td>23</td>\n      <td>...</td>\n      <td>4</td>\n      <td>1</td>\n      <td>3</td>\n      <td>3</td>\n      <td>1</td>\n      <td>7</td>\n      <td>1</td>\n      <td>2</td>\n      <td>2</td>\n      <td>1</td>\n    </tr>\n    <tr>\n      <td>2</td>\n      <td>37</td>\n      <td>1</td>\n      <td>1</td>\n      <td>2090</td>\n      <td>6</td>\n      <td>1373</td>\n      <td>2</td>\n      <td>92</td>\n      <td>2396</td>\n      <td>15</td>\n      <td>...</td>\n      <td>2</td>\n      <td>0</td>\n      <td>3</td>\n      <td>3</td>\n      <td>0</td>\n      <td>0</td>\n      <td>2</td>\n      <td>2</td>\n      <td>1</td>\n      <td>0</td>\n    </tr>\n    <tr>\n      <td>3</td>\n      <td>33</td>\n      <td>0</td>\n      <td>1</td>\n      <td>2909</td>\n      <td>1</td>\n      <td>1392</td>\n      <td>3</td>\n      <td>56</td>\n      <td>23159</td>\n      <td>11</td>\n      <td>...</td>\n      <td>3</td>\n      <td>0</td>\n      <td>3</td>\n      <td>3</td>\n      <td>3</td>\n      <td>0</td>\n      <td>4</td>\n      <td>3</td>\n      <td>1</td>\n      <td>1</td>\n    </tr>\n    <tr>\n      <td>4</td>\n      <td>27</td>\n      <td>0</td>\n      <td>0</td>\n      <td>3468</td>\n      <td>9</td>\n      <td>591</td>\n      <td>2</td>\n      <td>40</td>\n      <td>16632</td>\n      <td>12</td>\n      <td>...</td>\n      <td>4</td>\n      <td>1</td>\n      <td>3</td>\n      <td>3</td>\n      <td>2</td>\n      <td>2</td>\n      <td>1</td>\n      <td>3</td>\n      <td>1</td>\n      <td>0</td>\n    </tr>\n    <tr>\n      <td>...</td>\n      <td>...</td>\n      <td>...</td>\n      <td>...</td>\n      <td>...</td>\n      <td>...</td>\n      <td>...</td>\n      <td>...</td>\n      <td>...</td>\n      <td>...</td>\n      <td>...</td>\n      <td>...</td>\n      <td>...</td>\n      <td>...</td>\n      <td>...</td>\n      <td>...</td>\n      <td>...</td>\n      <td>...</td>\n      <td>...</td>\n      <td>...</td>\n      <td>...</td>\n      <td>...</td>\n    </tr>\n    <tr>\n      <td>1465</td>\n      <td>36</td>\n      <td>0</td>\n      <td>0</td>\n      <td>2571</td>\n      <td>4</td>\n      <td>884</td>\n      <td>23</td>\n      <td>41</td>\n      <td>12290</td>\n      <td>17</td>\n      <td>...</td>\n      <td>3</td>\n      <td>1</td>\n      <td>3</td>\n      <td>3</td>\n      <td>0</td>\n      <td>3</td>\n      <td>2</td>\n      <td>4</td>\n      <td>2</td>\n      <td>1</td>\n    </tr>\n    <tr>\n      <td>1466</td>\n      <td>39</td>\n      <td>0</td>\n      <td>0</td>\n      <td>9991</td>\n      <td>4</td>\n      <td>613</td>\n      <td>6</td>\n      <td>42</td>\n      <td>21457</td>\n      <td>15</td>\n      <td>...</td>\n      <td>1</td>\n      <td>1</td>\n      <td>5</td>\n      <td>3</td>\n      <td>1</td>\n      <td>7</td>\n      <td>1</td>\n      <td>2</td>\n      <td>3</td>\n      <td>0</td>\n    </tr>\n    <tr>\n      <td>1467</td>\n      <td>27</td>\n      <td>0</td>\n      <td>1</td>\n      <td>6142</td>\n      <td>1</td>\n      <td>155</td>\n      <td>4</td>\n      <td>87</td>\n      <td>5174</td>\n      <td>20</td>\n      <td>...</td>\n      <td>2</td>\n      <td>1</td>\n      <td>0</td>\n      <td>3</td>\n      <td>0</td>\n      <td>3</td>\n      <td>3</td>\n      <td>4</td>\n      <td>2</td>\n      <td>0</td>\n    </tr>\n    <tr>\n      <td>1468</td>\n      <td>49</td>\n      <td>0</td>\n      <td>0</td>\n      <td>5390</td>\n      <td>2</td>\n      <td>1023</td>\n      <td>2</td>\n      <td>63</td>\n      <td>13243</td>\n      <td>14</td>\n      <td>...</td>\n      <td>4</td>\n      <td>0</td>\n      <td>3</td>\n      <td>2</td>\n      <td>0</td>\n      <td>8</td>\n      <td>3</td>\n      <td>2</td>\n      <td>2</td>\n      <td>1</td>\n    </tr>\n    <tr>\n      <td>1469</td>\n      <td>34</td>\n      <td>0</td>\n      <td>0</td>\n      <td>4404</td>\n      <td>2</td>\n      <td>628</td>\n      <td>8</td>\n      <td>82</td>\n      <td>10228</td>\n      <td>12</td>\n      <td>...</td>\n      <td>1</td>\n      <td>0</td>\n      <td>3</td>\n      <td>4</td>\n      <td>1</td>\n      <td>2</td>\n      <td>3</td>\n      <td>4</td>\n      <td>2</td>\n      <td>0</td>\n    </tr>\n  </tbody>\n</table>\n<p>1470 rows × 25 columns</p>\n</div>"
     },
     "metadata": {},
     "execution_count": 11
    }
   ],
   "source": [
    "features"
   ]
  },
  {
   "cell_type": "code",
   "execution_count": 12,
   "metadata": {},
   "outputs": [],
   "source": [
    "# Use numpy to convert to arrays\n",
    "import numpy as np\n",
    "# Labels are the values we want to predict\n",
    "labels = np.array(features['Attrition'])\n",
    "# Remove the labels from the features\n",
    "# axis 1 refers to the columns\n",
    "features= features.drop('Attrition', axis = 1)\n",
    "# Saving feature names for later use\n",
    "feature_list = list(features.columns)\n",
    "# Convert to numpy array\n",
    "features = np.array(features)"
   ]
  },
  {
   "cell_type": "code",
   "execution_count": 13,
   "metadata": {},
   "outputs": [],
   "source": [
    "# Using Skicit-learn to split data into training and testing sets\n",
    "from sklearn.model_selection import train_test_split\n",
    "# Split the data into training and testing sets\n",
    "train_features, test_features, train_labels, test_labels = train_test_split(features, labels, test_size = 0.80, random_state = 42)"
   ]
  },
  {
   "cell_type": "code",
   "execution_count": 14,
   "metadata": {
    "tags": []
   },
   "outputs": [
    {
     "output_type": "stream",
     "name": "stdout",
     "text": "Training Features Shape: (294, 24)\nTraining Labels Shape: (294,)\nTesting Features Shape: (1176, 24)\nTesting Labels Shape: (1176,)\n"
    }
   ],
   "source": [
    "print('Training Features Shape:', train_features.shape)\n",
    "print('Training Labels Shape:', train_labels.shape)\n",
    "print('Testing Features Shape:', test_features.shape)\n",
    "print('Testing Labels Shape:', test_labels.shape)"
   ]
  },
  {
   "cell_type": "code",
   "execution_count": 15,
   "metadata": {},
   "outputs": [],
   "source": [
    "\n",
    "# Import the model we are using\n",
    "from sklearn.ensemble import RandomForestRegressor\n",
    "# Instantiate model with 1000 decision trees\n",
    "rf = RandomForestRegressor(n_estimators = 500, random_state = 42)\n",
    "# Train the model on training data\n",
    "rf.fit(train_features, train_labels);\n"
   ]
  },
  {
   "cell_type": "code",
   "execution_count": 16,
   "metadata": {
    "tags": []
   },
   "outputs": [
    {
     "output_type": "stream",
     "name": "stdout",
     "text": "Mean Absolute Error: 0.24\n"
    }
   ],
   "source": [
    "# Use the forest's predict method on the test data\n",
    "predictions = rf.predict(test_features)\n",
    "# Calculate the absolute errors\n",
    "errors = abs(predictions - test_labels)\n",
    "# Print out the mean absolute error (mae)\n",
    "print('Mean Absolute Error:', round(np.mean(errors), 2))"
   ]
  },
  {
   "cell_type": "code",
   "execution_count": 17,
   "metadata": {
    "tags": []
   },
   "outputs": [
    {
     "output_type": "stream",
     "name": "stdout",
     "text": "Variable: Age                  Importance: 0.12\nVariable: OverTime             Importance: 0.1\nVariable: MonthlyIncome        Importance: 0.07\nVariable: NumCompaniesWorked   Importance: 0.07\nVariable: DailyRate            Importance: 0.06\nVariable: DistanceFromHome     Importance: 0.06\nVariable: MonthlyRate          Importance: 0.06\nVariable: HourlyRate           Importance: 0.05\nVariable: TotalWorkingYears    Importance: 0.05\nVariable: PercentSalaryHike    Importance: 0.04\nVariable: YearsInCurrentRole   Importance: 0.03\nVariable: YearsAtCompany       Importance: 0.03\nVariable: EnvironmentSatisfaction Importance: 0.03\nVariable: StockOptionLevel     Importance: 0.03\nVariable: TrainingTimesLastYear Importance: 0.03\nVariable: JobSatisfaction      Importance: 0.02\nVariable: RelationshipSatisfaction Importance: 0.02\nVariable: WorkLifeBalance      Importance: 0.02\nVariable: YearsSinceLastPromotion Importance: 0.02\nVariable: YearsWithCurrManager Importance: 0.02\nVariable: Education            Importance: 0.02\nVariable: JobInvolvement       Importance: 0.02\nVariable: BusinessTravel_Travel_Frequently Importance: 0.02\nVariable: JobLevel             Importance: 0.01\n"
    }
   ],
   "source": [
    "# Get numerical feature importances\n",
    "importances = list(rf.feature_importances_)\n",
    "# List of tuples with variable and importance\n",
    "feature_importances = [(feature, round(importance, 2)) for feature, importance in zip(feature_list, importances)]\n",
    "# Sort the feature importances by most important first\n",
    "feature_importances = sorted(feature_importances, key = lambda x: x[1], reverse = True)\n",
    "# Print out the feature and importances \n",
    "[print('Variable: {:20} Importance: {}'.format(*pair)) for pair in feature_importances];"
   ]
  },
  {
   "cell_type": "code",
   "execution_count": 18,
   "metadata": {},
   "outputs": [],
   "source": [
    "fi_df = pd.DataFrame(feature_importances[:32], columns = ['Feature','Feature Importance'])"
   ]
  },
  {
   "cell_type": "code",
   "execution_count": 19,
   "metadata": {},
   "outputs": [
    {
     "output_type": "execute_result",
     "data": {
      "text/plain": "                             Feature  Feature Importance\n0                                Age                0.12\n1                           OverTime                0.10\n2                      MonthlyIncome                0.07\n3                 NumCompaniesWorked                0.07\n4                          DailyRate                0.06\n5                   DistanceFromHome                0.06\n6                        MonthlyRate                0.06\n7                         HourlyRate                0.05\n8                  TotalWorkingYears                0.05\n9                  PercentSalaryHike                0.04\n10                YearsInCurrentRole                0.03\n11                    YearsAtCompany                0.03\n12           EnvironmentSatisfaction                0.03\n13                  StockOptionLevel                0.03\n14             TrainingTimesLastYear                0.03\n15                   JobSatisfaction                0.02\n16          RelationshipSatisfaction                0.02\n17                   WorkLifeBalance                0.02\n18           YearsSinceLastPromotion                0.02\n19              YearsWithCurrManager                0.02\n20                         Education                0.02\n21                    JobInvolvement                0.02\n22  BusinessTravel_Travel_Frequently                0.02\n23                          JobLevel                0.01",
      "text/html": "<div>\n<style scoped>\n    .dataframe tbody tr th:only-of-type {\n        vertical-align: middle;\n    }\n\n    .dataframe tbody tr th {\n        vertical-align: top;\n    }\n\n    .dataframe thead th {\n        text-align: right;\n    }\n</style>\n<table border=\"1\" class=\"dataframe\">\n  <thead>\n    <tr style=\"text-align: right;\">\n      <th></th>\n      <th>Feature</th>\n      <th>Feature Importance</th>\n    </tr>\n  </thead>\n  <tbody>\n    <tr>\n      <td>0</td>\n      <td>Age</td>\n      <td>0.12</td>\n    </tr>\n    <tr>\n      <td>1</td>\n      <td>OverTime</td>\n      <td>0.10</td>\n    </tr>\n    <tr>\n      <td>2</td>\n      <td>MonthlyIncome</td>\n      <td>0.07</td>\n    </tr>\n    <tr>\n      <td>3</td>\n      <td>NumCompaniesWorked</td>\n      <td>0.07</td>\n    </tr>\n    <tr>\n      <td>4</td>\n      <td>DailyRate</td>\n      <td>0.06</td>\n    </tr>\n    <tr>\n      <td>5</td>\n      <td>DistanceFromHome</td>\n      <td>0.06</td>\n    </tr>\n    <tr>\n      <td>6</td>\n      <td>MonthlyRate</td>\n      <td>0.06</td>\n    </tr>\n    <tr>\n      <td>7</td>\n      <td>HourlyRate</td>\n      <td>0.05</td>\n    </tr>\n    <tr>\n      <td>8</td>\n      <td>TotalWorkingYears</td>\n      <td>0.05</td>\n    </tr>\n    <tr>\n      <td>9</td>\n      <td>PercentSalaryHike</td>\n      <td>0.04</td>\n    </tr>\n    <tr>\n      <td>10</td>\n      <td>YearsInCurrentRole</td>\n      <td>0.03</td>\n    </tr>\n    <tr>\n      <td>11</td>\n      <td>YearsAtCompany</td>\n      <td>0.03</td>\n    </tr>\n    <tr>\n      <td>12</td>\n      <td>EnvironmentSatisfaction</td>\n      <td>0.03</td>\n    </tr>\n    <tr>\n      <td>13</td>\n      <td>StockOptionLevel</td>\n      <td>0.03</td>\n    </tr>\n    <tr>\n      <td>14</td>\n      <td>TrainingTimesLastYear</td>\n      <td>0.03</td>\n    </tr>\n    <tr>\n      <td>15</td>\n      <td>JobSatisfaction</td>\n      <td>0.02</td>\n    </tr>\n    <tr>\n      <td>16</td>\n      <td>RelationshipSatisfaction</td>\n      <td>0.02</td>\n    </tr>\n    <tr>\n      <td>17</td>\n      <td>WorkLifeBalance</td>\n      <td>0.02</td>\n    </tr>\n    <tr>\n      <td>18</td>\n      <td>YearsSinceLastPromotion</td>\n      <td>0.02</td>\n    </tr>\n    <tr>\n      <td>19</td>\n      <td>YearsWithCurrManager</td>\n      <td>0.02</td>\n    </tr>\n    <tr>\n      <td>20</td>\n      <td>Education</td>\n      <td>0.02</td>\n    </tr>\n    <tr>\n      <td>21</td>\n      <td>JobInvolvement</td>\n      <td>0.02</td>\n    </tr>\n    <tr>\n      <td>22</td>\n      <td>BusinessTravel_Travel_Frequently</td>\n      <td>0.02</td>\n    </tr>\n    <tr>\n      <td>23</td>\n      <td>JobLevel</td>\n      <td>0.01</td>\n    </tr>\n  </tbody>\n</table>\n</div>"
     },
     "metadata": {},
     "execution_count": 19
    }
   ],
   "source": [
    "fi_df"
   ]
  },
  {
   "cell_type": "code",
   "execution_count": 20,
   "metadata": {},
   "outputs": [],
   "source": [
    "columns_keep = fi_df[\"Feature\"].to_list()"
   ]
  },
  {
   "cell_type": "code",
   "execution_count": 21,
   "metadata": {},
   "outputs": [
    {
     "output_type": "execute_result",
     "data": {
      "text/plain": "['Age',\n 'OverTime',\n 'MonthlyIncome',\n 'NumCompaniesWorked',\n 'DailyRate',\n 'DistanceFromHome',\n 'MonthlyRate',\n 'HourlyRate',\n 'TotalWorkingYears',\n 'PercentSalaryHike',\n 'YearsInCurrentRole',\n 'YearsAtCompany',\n 'EnvironmentSatisfaction',\n 'StockOptionLevel',\n 'TrainingTimesLastYear',\n 'JobSatisfaction',\n 'RelationshipSatisfaction',\n 'WorkLifeBalance',\n 'YearsSinceLastPromotion',\n 'YearsWithCurrManager',\n 'Education',\n 'JobInvolvement',\n 'BusinessTravel_Travel_Frequently',\n 'JobLevel']"
     },
     "metadata": {},
     "execution_count": 21
    }
   ],
   "source": [
    "columns_keep"
   ]
  }
 ],
 "metadata": {
  "kernelspec": {
   "display_name": "Python 3",
   "language": "python",
   "name": "python3"
  },
  "language_info": {
   "codemirror_mode": {
    "name": "ipython",
    "version": 3
   },
   "file_extension": ".py",
   "mimetype": "text/x-python",
   "name": "python",
   "nbconvert_exporter": "python",
   "pygments_lexer": "ipython3",
   "version": "3.7.4-final"
  },
  "varInspector": {
   "cols": {
    "lenName": 16,
    "lenType": 16,
    "lenVar": 40
   },
   "kernels_config": {
    "python": {
     "delete_cmd_postfix": "",
     "delete_cmd_prefix": "del ",
     "library": "var_list.py",
     "varRefreshCmd": "print(var_dic_list())"
    },
    "r": {
     "delete_cmd_postfix": ") ",
     "delete_cmd_prefix": "rm(",
     "library": "var_list.r",
     "varRefreshCmd": "cat(var_dic_list()) "
    }
   },
   "types_to_exclude": [
    "module",
    "function",
    "builtin_function_or_method",
    "instance",
    "_Feature"
   ],
   "window_display": false
  }
 },
 "nbformat": 4,
 "nbformat_minor": 2
}