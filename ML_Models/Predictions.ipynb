{
 "cells": [
  {
   "cell_type": "code",
   "execution_count": 1,
   "metadata": {},
   "outputs": [],
   "source": [
    "###### Dependencies ######\n",
    "from tensorflow.keras.models import Sequential, save_model, load_model\n",
    "import pandas as pd\n",
    "import numpy as np"
   ]
  },
  {
   "cell_type": "code",
   "execution_count": 2,
   "metadata": {},
   "outputs": [],
   "source": [
    "#selecting the columns to use\n",
    "columns_keep =['Age','Attrition',\n",
    " 'OverTime',\n",
    " 'MonthlyIncome',\n",
    " 'NumCompaniesWorked',\n",
    " 'DailyRate',\n",
    " 'DistanceFromHome',\n",
    " 'HourlyRate',\n",
    " 'MonthlyRate',\n",
    " 'PercentSalaryHike',\n",
    " 'TotalWorkingYears',\n",
    " 'YearsInCurrentRole',\n",
    " 'YearsAtCompany',\n",
    " 'EnvironmentSatisfaction',\n",
    " 'JobSatisfaction',\n",
    " 'RelationshipSatisfaction',\n",
    " 'StockOptionLevel',\n",
    " 'TrainingTimesLastYear',\n",
    " 'WorkLifeBalance',\n",
    " 'YearsSinceLastPromotion',\n",
    " 'YearsWithCurrManager',\n",
    " 'Education', \n",
    " 'JobInvolvement',\n",
    " 'JobLevel',\n",
    " 'BusinessTravel_Travel_Frequently']"
   ]
  },
  {
   "cell_type": "code",
   "execution_count": 10,
   "metadata": {},
   "outputs": [],
   "source": [
    "\n",
    "new_data=np.array([[32,1,200,0,426,17,58,22808,11,8,7,7,2,3,2,1,2,2,1,0,4,3,1,1]])\n",
    "# [32,1,2741,0,426,17,58,22808,11,8,7,7,2,3,2,1,2,2,1,0,4,3,1,1]"
   ]
  },
  {
   "cell_type": "code",
   "execution_count": 11,
   "metadata": {},
   "outputs": [],
   "source": [
    "######  Loading the model ######\n",
    "file_path = 'NN_01.hi'\n",
    "model = load_model(file_path,compile=True)"
   ]
  },
  {
   "cell_type": "code",
   "execution_count": 12,
   "metadata": {
    "tags": []
   },
   "outputs": [
    {
     "output_type": "stream",
     "name": "stdout",
     "text": "[[1. 0.]]\n"
    }
   ],
   "source": [
    "predictions = model.predict(new_data)\n",
    "print(predictions)"
   ]
  },
  {
   "cell_type": "code",
   "execution_count": 13,
   "metadata": {
    "tags": []
   },
   "outputs": [
    {
     "output_type": "stream",
     "name": "stdout",
     "text": "[0]\n"
    }
   ],
   "source": [
    "# Generate arg maxes for predictions\n",
    "classes = np.argmax(predictions, axis = 1)\n",
    "print(classes)"
   ]
  },
  {
   "cell_type": "code",
   "execution_count": 7,
   "metadata": {},
   "outputs": [],
   "source": [
    "case_1 = np.array([[22,1,1100,3,300,7,60,18000,10,3,2,3,3,3,4,1,2,1,4,3,2,1,3,0]])\n",
    "case_2 = np.array([[32,0,5593,5,200,25,57,25838,7,22,15,11,2,4,4,1,3,1,3,3,3,4,4,1]])\n",
    "case_3 = np.array([[45,1,1802,2,250,24,65,7067,6,38,15,34,3,2,3,1,3,3,2,1,2,2,5,1]])\n",
    "case_4 = np.array([[26,0,2906,8,380,13,81,15198,13,17,5,6,4,4,4,1,0,2,4,4,3,3,1,1]])\n"
   ]
  },
  {
   "cell_type": "code",
   "execution_count": 8,
   "metadata": {},
   "outputs": [],
   "source": [
    "prediction1 = model.predict(case_1)\n",
    "prediction2 = model.predict(case_2)\n",
    "prediction3 = model.predict(case_3)\n",
    "prediction4 = model.predict(case_4)\n"
   ]
  },
  {
   "cell_type": "code",
   "execution_count": 9,
   "metadata": {
    "tags": []
   },
   "outputs": [
    {
     "output_type": "stream",
     "name": "stdout",
     "text": "[0]\n[0]\n[0]\n[0]\n"
    }
   ],
   "source": [
    "classes1 = np.argmax(prediction1, axis = 1)\n",
    "print(classes1)\n",
    "classes2 = np.argmax(prediction2, axis = 1)\n",
    "print(classes2)\n",
    "classes3 = np.argmax(prediction3, axis = 1)\n",
    "print(classes3)\n",
    "classes4 = np.argmax(prediction4, axis = 1)\n",
    "print(classes4)"
   ]
  },
  {
   "cell_type": "code",
   "execution_count": null,
   "metadata": {},
   "outputs": [],
   "source": []
  }
 ],
 "metadata": {
  "kernelspec": {
   "display_name": "Python 3",
   "language": "python",
   "name": "python3"
  },
  "language_info": {
   "codemirror_mode": {
    "name": "ipython",
    "version": 3
   },
   "file_extension": ".py",
   "mimetype": "text/x-python",
   "name": "python",
   "nbconvert_exporter": "python",
   "pygments_lexer": "ipython3",
   "version": "3.7.4-final"
  },
  "varInspector": {
   "cols": {
    "lenName": 16,
    "lenType": 16,
    "lenVar": 40
   },
   "kernels_config": {
    "python": {
     "delete_cmd_postfix": "",
     "delete_cmd_prefix": "del ",
     "library": "var_list.py",
     "varRefreshCmd": "print(var_dic_list())"
    },
    "r": {
     "delete_cmd_postfix": ") ",
     "delete_cmd_prefix": "rm(",
     "library": "var_list.r",
     "varRefreshCmd": "cat(var_dic_list()) "
    }
   },
   "types_to_exclude": [
    "module",
    "function",
    "builtin_function_or_method",
    "instance",
    "_Feature"
   ],
   "window_display": false
  }
 },
 "nbformat": 4,
 "nbformat_minor": 2
}