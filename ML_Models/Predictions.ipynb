{
 "cells": [
  {
   "cell_type": "code",
   "execution_count": 1,
   "metadata": {},
   "outputs": [],
   "source": [
    "###### Dependencies ######\n",
    "from tensorflow.keras.models import Sequential, save_model, load_model\n",
    "import pandas as pd\n",
    "import numpy as np"
   ]
  },
  {
   "cell_type": "code",
   "execution_count": 2,
   "metadata": {},
   "outputs": [],
   "source": [
    "#selecting the columns to use\n",
    "columns_keep =['Age','Attrition',\n",
    " 'OverTime',\n",
    " 'MonthlyIncome',\n",
    " 'NumCompaniesWorked',\n",
    " 'DailyRate',\n",
    " 'DistanceFromHome',\n",
    " 'HourlyRate',\n",
    " 'MonthlyRate',\n",
    " 'PercentSalaryHike',\n",
    " 'TotalWorkingYears',\n",
    " 'YearsInCurrentRole',\n",
    " 'YearsAtCompany',\n",
    " 'EnvironmentSatisfaction',\n",
    " 'JobSatisfaction',\n",
    " 'RelationshipSatisfaction',\n",
    " 'StockOptionLevel',\n",
    " 'TrainingTimesLastYear',\n",
    " 'WorkLifeBalance',\n",
    " 'YearsSinceLastPromotion',\n",
    " 'YearsWithCurrManager',\n",
    " 'Education', \n",
    " 'JobInvolvement',\n",
    " 'JobLevel',\n",
    " 'BusinessTravel_Travel_Frequently']"
   ]
  },
  {
   "cell_type": "code",
   "execution_count": 3,
   "metadata": {},
   "outputs": [],
   "source": [
    "\n",
    "new_data=np.array([[32,0,1500,0,426,17,58,22808,11,8,7,7,2,3,2,1,2,2,1,0,4,3,1,1]])\n",
    "# [32,1,2741,0,426,17,58,22808,11,8,7,7,2,3,2,1,2,2,1,0,4,3,1,1]"
   ]
  },
  {
   "cell_type": "code",
   "execution_count": 4,
   "metadata": {},
   "outputs": [],
   "source": [
    "######  Loading the model ######\n",
    "file_path = 'NN_01.hi'\n",
    "model = load_model(file_path,compile=True)"
   ]
  },
  {
   "cell_type": "code",
   "execution_count": 5,
   "metadata": {
    "tags": []
   },
   "outputs": [
    {
     "output_type": "stream",
     "name": "stdout",
     "text": "[[1. 0.]]\n"
    }
   ],
   "source": [
    "predictions = model.predict(new_data)\n",
    "print(predictions)"
   ]
  },
  {
   "cell_type": "code",
   "execution_count": 6,
   "metadata": {
    "tags": []
   },
   "outputs": [
    {
     "output_type": "stream",
     "name": "stdout",
     "text": "[0]\n"
    }
   ],
   "source": [
    "# Generate arg maxes for predictions\n",
    "classes = np.argmax(predictions, axis = 1)\n",
    "print(classes)"
   ]
  },
  {
   "cell_type": "code",
   "execution_count": null,
   "metadata": {},
   "outputs": [],
   "source": []
  }
 ],
 "metadata": {
  "kernelspec": {
   "display_name": "Python 3",
   "language": "python",
   "name": "python3"
  },
  "language_info": {
   "codemirror_mode": {
    "name": "ipython",
    "version": 3
   },
   "file_extension": ".py",
   "mimetype": "text/x-python",
   "name": "python",
   "nbconvert_exporter": "python",
   "pygments_lexer": "ipython3",
   "version": "3.7.4-final"
  },
  "varInspector": {
   "cols": {
    "lenName": 16,
    "lenType": 16,
    "lenVar": 40
   },
   "kernels_config": {
    "python": {
     "delete_cmd_postfix": "",
     "delete_cmd_prefix": "del ",
     "library": "var_list.py",
     "varRefreshCmd": "print(var_dic_list())"
    },
    "r": {
     "delete_cmd_postfix": ") ",
     "delete_cmd_prefix": "rm(",
     "library": "var_list.r",
     "varRefreshCmd": "cat(var_dic_list()) "
    }
   },
   "types_to_exclude": [
    "module",
    "function",
    "builtin_function_or_method",
    "instance",
    "_Feature"
   ],
   "window_display": false
  }
 },
 "nbformat": 4,
 "nbformat_minor": 2
}